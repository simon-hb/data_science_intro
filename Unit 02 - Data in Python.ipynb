{
 "cells": [
  {
   "cell_type": "markdown",
   "metadata": {},
   "source": [
    "<div id=\"container\" style=\"position:relative;\">\n",
    "<div style=\"float:left\"><h1>  Data in Python </h1></div>\n",
    "<div style=\"float:right\"><img style=\"height:65px\" src =\"https://drive.google.com/uc?export=view&id=1EnB0x-fdqMp6I5iMoEBBEuxB_s7AmE2k\" />\n",
    "</div>\n",
    "</div>"
   ]
  },
  {
   "cell_type": "markdown",
   "metadata": {
    "colab_type": "text",
    "id": "oAG3fkT0ETdD"
   },
   "source": [
    "This unit will focus on:\n",
    "\n",
    "* Working with NumPy arrays\n",
    "* Panda Series and Dataframes\n",
    "* Reading and Writing Data\n"
   ]
  },
  {
   "cell_type": "markdown",
   "metadata": {
    "colab_type": "text",
    "id": "3Vx5sewp-iak"
   },
   "source": [
    "### NumPy\n",
    "\n",
    "One of the best reasons for using Python is the plethora of packages that have been created and shared online. NumPy, whose name comes from \"Numeric Python\" is one of the most useful packages we have.\n",
    "\n",
    "It carries out many array-based operations in Python by strongly typing the data, and using C routines to carry it out. This allows us to get the speed of C, but with the simplicity of Python.\n",
    "\n",
    "To use NumPy, we have to import it:"
   ]
  },
  {
   "cell_type": "code",
   "execution_count": 15,
   "metadata": {
    "colab": {},
    "colab_type": "code",
    "id": "KPvHbExT-iak"
   },
   "outputs": [],
   "source": [
    "import numpy"
   ]
  },
  {
   "cell_type": "markdown",
   "metadata": {
    "colab_type": "text",
    "id": "sOH3Fgbm-iap"
   },
   "source": [
    "Because we are lazy, it is usual to import NumPy using the shortcut name `np`. This saves vital keystrokes:"
   ]
  },
  {
   "cell_type": "code",
   "execution_count": 1,
   "metadata": {
    "colab": {},
    "colab_type": "code",
    "id": "sghvL8t--iaq"
   },
   "outputs": [],
   "source": [
    "import numpy as np"
   ]
  },
  {
   "cell_type": "markdown",
   "metadata": {
    "colab_type": "text",
    "id": "ihSVOfNJ-iZq"
   },
   "source": [
    "### Motivation\n",
    "\n",
    "We have a batch of data files: \n",
    "\n",
    "`sales-00.csv` to `sales-09.csv`\n",
    "\n",
    "You can download these as a zip file [here](https://api.brainstation.io/content/link/1d9kdc-X7azzhtCRnTylZR38YoZtnnuAJ).\n",
    "\n",
    "Each of these files represents a different product we have just developed, each column is a day, and each row is a different store.\n",
    "\n",
    "We want to be able to tell which product is selling the best and at which stores. Today, we will focus on basic summary stats and plotting of the data.\n",
    "\n",
    "We have to be able to walk before we can run, so let's try out some basic Python."
   ]
  },
  {
   "cell_type": "markdown",
   "metadata": {
    "colab_type": "text",
    "id": "7nfeATIt-iav"
   },
   "source": [
    "NumPy is a module, or package. We access it's contents by calling the object `np`, and a full stop after it. NumPy contains a lot of stuff, for now let's load a single one of our data files. This is useful, as it is often easiest and fastest to get a program or script working on a single file or subsample of data and then looping, rather than working on everything at once."
   ]
  },
  {
   "cell_type": "code",
   "execution_count": 4,
   "metadata": {
    "colab": {},
    "colab_type": "code",
    "id": "NWR8EGlL-iaw",
    "scrolled": true
   },
   "outputs": [
    {
     "data": {
      "text/plain": [
       "array([[ 23.,  20.,  21.,  27.,  39.,  30.,  40.,  35.,  67.,  57.,  74.,\n",
       "         44.,  60.,  81.,  79.,  91.,  78.,  94.,  93.,  94.,  88.,  95.,\n",
       "        111.,  98., 130., 109., 121., 116., 147., 135.],\n",
       "       [  3.,  23.,  10.,  42.,   0.,  14.,  12.,  13.,   0.,   4.,  10.,\n",
       "         29.,  21.,   2.,  37.,  26.,   0.,  19.,   8.,  25.,   0.,   0.,\n",
       "         23.,  18.,  23.,  21.,  27.,  17.,  22.,   7.],\n",
       "       [ 26.,  28.,  37.,  37.,  37.,  64.,  74.,  67.,  83.,  83.,  79.,\n",
       "        102., 104.,  97., 115., 141., 137., 149., 136., 160., 172., 167.,\n",
       "        168., 165., 179., 207., 204., 216., 226., 217.],\n",
       "       [  9.,  16.,  12.,   6.,  14.,  11.,  10.,  19.,   3.,  23.,  25.,\n",
       "          0.,  32.,  17.,  19.,  10.,   8.,  19.,  13.,   7.,  13.,  26.,\n",
       "          6.,  21.,   0.,  15.,  13.,  19.,   7.,  15.],\n",
       "       [ 23.,  22.,  22.,  21.,  44.,  29.,  47.,  37.,  45.,  54.,  43.,\n",
       "         54.,  56.,  74.,  67.,  70.,  83.,  70., 106.,  93., 107., 106.,\n",
       "        111., 117., 118., 138., 137., 116., 148., 145.],\n",
       "       [ 13.,  13.,  16.,  29.,  34.,  42.,  51.,  56.,  37.,  58.,  72.,\n",
       "         72.,  75.,  90., 111.,  95., 102., 108., 115., 119., 123., 129.,\n",
       "        107., 148., 136., 141., 163., 160., 160., 174.],\n",
       "       [ 23.,  40.,  41.,  59.,  74.,  89.,  97., 124., 125., 149., 154.,\n",
       "        184., 194., 209., 229., 226., 265., 253., 263., 290., 313., 312.,\n",
       "        333., 345., 371., 369., 383., 416., 410., 442.],\n",
       "       [  0.,  24.,  28.,  45.,  57.,  52.,  52.,  64.,  71.,  65.,  90.,\n",
       "        102.,  93., 119., 111.,  99., 138., 144., 143., 146., 158., 149.,\n",
       "        170., 165., 195., 190., 184., 198., 180., 204.],\n",
       "       [ 25.,  10.,  30.,  59.,  57.,  71.,  83.,  99.,  98., 105., 128.,\n",
       "        120., 140., 149., 166., 169., 181., 171., 201., 215., 231., 237.,\n",
       "        237., 260., 283., 286., 302., 321., 315., 321.],\n",
       "       [ 21.,  25.,   7.,  22.,  24.,   7.,   0.,  11.,  10.,  18.,  12.,\n",
       "         28.,  24.,   6.,  13.,   0.,  16.,  34.,   0.,  11.,  33.,  14.,\n",
       "          5.,  17.,  17.,  18.,  15.,  16.,  33.,  23.],\n",
       "       [ 15.,  13.,  21.,  34.,  42.,  43.,  56.,  45.,  60.,  61.,  70.,\n",
       "         85.,  90.,  90.,  86.,  91.,  90., 116., 131., 120., 134., 133.,\n",
       "        145., 142., 153., 128., 144., 170., 157., 167.],\n",
       "       [ 18.,  22.,  28.,  53.,  20.,  29.,  59.,  60.,  69.,  89.,  88.,\n",
       "         84.,  85.,  86., 110., 130.,  99., 127., 120., 149., 144., 157.,\n",
       "        156., 148., 166., 175., 185., 187., 182., 194.],\n",
       "       [ 24.,   9.,  42.,  21.,   8.,  25.,  36.,  20.,  20.,  28.,  31.,\n",
       "         41.,  21.,  28.,  55.,  50.,  34.,  40.,  52.,  55.,  78.,  54.,\n",
       "         57.,  67.,  56.,  53.,  47.,  53.,  75.,  75.],\n",
       "       [ 21.,  13.,  34.,  29.,  34.,  45.,  32.,  38.,  64.,  30.,  79.,\n",
       "         54.,  58.,  79.,  73.,  72.,  67.,  93.,  83., 100., 110.,  88.,\n",
       "         92.,  98., 115.,  89., 123., 112., 141., 126.],\n",
       "       [  9.,  34.,  16.,  52.,  62.,  63.,  63.,  76.,  86., 102., 120.,\n",
       "        112., 127., 135., 149., 145., 159., 170., 184., 183., 212., 207.,\n",
       "        217., 238., 232., 237., 266., 289., 278., 301.],\n",
       "       [ 33.,  35.,  35.,  44.,  57.,  71.,  66.,  78., 105.,  94.,  72.,\n",
       "         97., 123., 132., 135., 141., 147., 148., 164., 194., 181., 201.,\n",
       "        212., 224., 230., 220., 236., 250., 271., 276.],\n",
       "       [  6.,   0.,  15.,  22.,  14.,  53.,  34.,  49.,  31.,  43.,  38.,\n",
       "         40.,  44.,  49.,  75.,  48.,  40.,  81.,  70.,  68.,  72.,  69.,\n",
       "         82.,  90.,  93.,  76.,  83.,  90.,  96., 114.],\n",
       "       [  3.,  23.,  11.,  21.,  12.,  23.,  23.,  14.,  18.,  10.,  14.,\n",
       "          1.,  38.,   8.,  24.,  17.,   8.,   6.,  28.,  13.,   9.,   8.,\n",
       "         29.,  15.,  23.,   5.,   3.,  16.,  43.,  22.],\n",
       "       [ 18.,   9.,  30.,  31.,  34.,  44.,  51.,  43.,  37.,  74.,  85.,\n",
       "         82.,  78.,  94.,  79.,  95.,  87., 128., 134., 101., 119., 128.,\n",
       "        131., 144., 150., 156., 172., 168., 184., 179.],\n",
       "       [ 13.,  23.,   0.,  20.,  10.,   0.,   7.,   5.,  17.,   6.,   0.,\n",
       "         19.,  18.,   9.,   0.,  12.,  27.,  10.,  10.,  22.,   0.,  36.,\n",
       "         13.,  16.,  10.,   8.,   2.,  14.,  30.,  35.],\n",
       "       [ 20.,  33.,  36.,  41.,  36.,  47.,  44.,  49.,  63.,  72.,  70.,\n",
       "         86.,  86.,  92.,  91., 103., 105., 123., 133., 134., 125., 138.,\n",
       "        163., 144., 166., 180., 150., 161., 179., 166.],\n",
       "       [ 23.,  12.,  12.,  18.,   4.,  22.,  33.,  23.,  20.,   8.,  21.,\n",
       "         19.,   6.,  26.,  34.,  12.,  36.,  25.,  21.,  15.,  22.,  22.,\n",
       "         39.,  30.,  17.,  13.,  22.,  22.,  37.,  11.],\n",
       "       [ 13.,  36.,  47.,  59.,  65.,  90.,  88., 103., 112., 117., 138.,\n",
       "        171., 185., 184., 201., 205., 215., 230., 255., 260., 306., 297.,\n",
       "        310., 307., 342., 352., 372., 375., 366., 413.],\n",
       "       [ 22.,  19.,   7.,  19.,  38.,  28.,  18.,  10.,   0.,  13.,  25.,\n",
       "          4.,  28.,  31.,  17.,  25.,   4.,   2.,  14.,  21.,  11.,  17.,\n",
       "         22.,  12.,  10.,  25.,  19.,   2.,  22.,   5.],\n",
       "       [ 24.,  40.,  31.,  19.,  42.,  50.,  56.,  28.,  31.,  59.,  52.,\n",
       "         61.,  76.,  82.,  44.,  75.,  83.,  91.,  71.,  66.,  87.,  92.,\n",
       "        120., 103., 100., 100., 115., 119., 115., 124.],\n",
       "       [ 14.,  27.,  44.,  61.,  79.,  76.,  82.,  88.,  91., 111., 136.,\n",
       "        134., 130., 142., 173., 184., 200., 203., 211., 239., 238., 249.,\n",
       "        253., 282., 271., 295., 313., 317., 333., 322.],\n",
       "       [ 26.,  16.,  25.,  23.,  18.,  21.,  18.,   8.,  29.,  37.,  22.,\n",
       "         32.,  49.,  40.,  52.,  26.,  51.,  49.,  56.,  52.,  42.,  39.,\n",
       "         46.,  46.,  79.,  51.,  51.,  75.,  65.,  57.],\n",
       "       [  2.,   5.,  14.,  35.,  45.,  56.,  48.,  80.,  75.,  77.,  78.,\n",
       "         99.,  92., 116., 117., 145., 135., 146., 142., 160., 163., 174.,\n",
       "        191., 193., 193., 207., 210., 223., 239., 255.],\n",
       "       [ 13.,  14.,  31.,  26.,  17.,  18.,  24.,  35.,  39.,  42.,  74.,\n",
       "         66.,  46.,  63.,  67.,  77.,  94.,  81., 102.,  79., 112.,  96.,\n",
       "        114., 108., 125., 138., 118., 129., 143., 140.],\n",
       "       [ 15.,  28.,  10.,   0.,  13.,  11.,   1.,  14.,  13.,  16.,  15.,\n",
       "          5.,  12.,   0.,   1.,  18.,   4.,  22.,  15.,   0.,  12.,  25.,\n",
       "         10.,  18.,   1.,   2.,  12.,  25.,  23.,  15.]])"
      ]
     },
     "execution_count": 4,
     "metadata": {},
     "output_type": "execute_result"
    }
   ],
   "source": [
    "np.loadtxt('data/sales-00.csv', delimiter = ',')"
   ]
  },
  {
   "cell_type": "markdown",
   "metadata": {
    "colab_type": "text",
    "id": "b6IoXh8A-iay"
   },
   "source": [
    "We can see we ran our function, loaded our data, and printed it to the screen. \n",
    "\n",
    "So, we called the `loadtxt` function from the `np` module, giving it two arguments. The first argument was the filename:\n",
    "`sales-00.csv`, the second was delimiter = ','.\n",
    "\n",
    "Python has both positional and named arguments. We can use a named argument, or provide the arguments in the order that the function expects. In this case, we told NumPy that we had data with a comma as the delimiter (ie. a csv).\n",
    "\n",
    "How do we access the data we just loaded? We need to assign it to a variable:"
   ]
  },
  {
   "cell_type": "code",
   "execution_count": 22,
   "metadata": {
    "colab": {},
    "colab_type": "code",
    "id": "4EX1gv6d-iaz"
   },
   "outputs": [],
   "source": [
    "my_data = np.loadtxt('data/sales-00.csv', delimiter = ',')"
   ]
  },
  {
   "cell_type": "markdown",
   "metadata": {
    "colab_type": "text",
    "id": "PJWXGeq--ia2"
   },
   "source": [
    "What exactly did we just load? Previously we only had a single value loaded into a variable:"
   ]
  },
  {
   "cell_type": "code",
   "execution_count": 6,
   "metadata": {},
   "outputs": [
    {
     "name": "stdout",
     "output_type": "stream",
     "text": [
      "<class 'float'>\n"
     ]
    }
   ],
   "source": [
    "my_val = 22.5\n",
    "print(type(my_val))"
   ]
  },
  {
   "cell_type": "code",
   "execution_count": 7,
   "metadata": {
    "colab": {},
    "colab_type": "code",
    "id": "cyH5LTVt-ia2"
   },
   "outputs": [
    {
     "name": "stdout",
     "output_type": "stream",
     "text": [
      "<class 'numpy.ndarray'>\n"
     ]
    }
   ],
   "source": [
    "print(type(my_data))"
   ]
  },
  {
   "cell_type": "markdown",
   "metadata": {
    "colab_type": "text",
    "id": "hptRIn44-ia5"
   },
   "source": [
    "So, we had a float previously, now we have a NumPy ndarray - we can see that the NumPy module contains data types as well as functions. For now we can think of an array as a way of holding a bunch of data.\n",
    "\n",
    "How many values do we have?"
   ]
  },
  {
   "cell_type": "code",
   "execution_count": 8,
   "metadata": {
    "colab": {},
    "colab_type": "code",
    "id": "z16iZiT0-ia6"
   },
   "outputs": [
    {
     "name": "stdout",
     "output_type": "stream",
     "text": [
      "(30, 30)\n"
     ]
    }
   ],
   "source": [
    "print(my_data.shape)"
   ]
  },
  {
   "cell_type": "markdown",
   "metadata": {
    "colab_type": "text",
    "id": "1ehXF_LN-ia9"
   },
   "source": [
    "We have a 30*30 matrix of data. The way we accessed the shape of the data shows a consistent way of accessing things from Python objects - using `object.attribute`, similar to the way we got the `loadtxt` function.\n",
    "\n",
    "Now we have the data, how do we investigate it?\n",
    "\n",
    "We can take subsets and slices to get an idea of what we have. Looking at an entire 30*30 matrix at once is probably not useful, but we can look at a column, row, or cell individually to get an idea of what we have."
   ]
  },
  {
   "cell_type": "code",
   "execution_count": 9,
   "metadata": {
    "colab": {},
    "colab_type": "code",
    "id": "lfVQxr72-ia-"
   },
   "outputs": [
    {
     "data": {
      "text/plain": [
       "23.0"
      ]
     },
     "execution_count": 9,
     "metadata": {},
     "output_type": "execute_result"
    }
   ],
   "source": [
    "my_data[0,0]"
   ]
  },
  {
   "cell_type": "markdown",
   "metadata": {
    "colab_type": "text",
    "id": "9NCig3LY-ibM"
   },
   "source": [
    "Numpy enables us to do math on our data, all at once"
   ]
  },
  {
   "cell_type": "code",
   "execution_count": 10,
   "metadata": {
    "colab": {},
    "colab_type": "code",
    "id": "vYz0h7cs-ibN"
   },
   "outputs": [
    {
     "data": {
      "text/plain": [
       "array([[  0.,  28.,  24.,  26.,   0.],\n",
       "       [ 74., 128., 148., 134., 166.]])"
      ]
     },
     "execution_count": 10,
     "metadata": {},
     "output_type": "execute_result"
    }
   ],
   "source": [
    "2 * my_data[1:3,4:9]"
   ]
  },
  {
   "cell_type": "markdown",
   "metadata": {
    "colab_type": "text",
    "id": "1sLXJJS4-ibP"
   },
   "source": [
    "We can use just a `:` to denote the whole dimension: `my_data[:,3]` slices the whole column. Be careful of dimension dropping.\n",
    "\n",
    "We have universal functions, or [ufuncs](https://numpy.org/doc/stable/reference/ufuncs.html#math-operations), which are functions which can operate over arrays:"
   ]
  },
  {
   "cell_type": "code",
   "execution_count": 11,
   "metadata": {
    "colab": {},
    "colab_type": "code",
    "id": "MjdwNUEL-ibP"
   },
   "outputs": [
    {
     "name": "stdout",
     "output_type": "stream",
     "text": [
      "Mean: 85.23, Std: 81.590, Min: 0.0, Max: 442.0\n"
     ]
    }
   ],
   "source": [
    "mymean = np.mean(my_data)\n",
    "mystd = np.std(my_data)\n",
    "mymin = np.min(my_data)\n",
    "mymax = np.max(my_data)\n",
    "\n",
    "print(f'Mean: {mymean:.2f}, Std: {mystd:.3f}, Min: {mymin}, Max: {mymax}')\n",
    "#fstrings are new in python 3.6"
   ]
  },
  {
   "cell_type": "markdown",
   "metadata": {
    "colab_type": "text",
    "id": "fVQwHVm6-ibS"
   },
   "source": [
    "To find if a function exists in NumPy, the easiest way is almost always to Google '[whatever you want to do] NumPy' and if you don't find the exact function, you will usually get an implementation of it.\n",
    "\n",
    "This is one of the largest benefits of working in a common language like Python.\n",
    "\n",
    "\n",
    "The structure of our data sets had each row representing a store, and each column indicating a day. Each new file is a new item.\n",
    "\n",
    "So, if we find the sum across each row, this gives us the total sales across days of our item in each store. If we average down the columns, we can see the overall day-to-day trend in our sales for this item, across stores.\n",
    "\n",
    "How can we get these values?"
   ]
  },
  {
   "cell_type": "code",
   "execution_count": 5,
   "metadata": {
    "colab": {},
    "colab_type": "code",
    "id": "v5k4II1B-ibT"
   },
   "outputs": [
    {
     "name": "stdout",
     "output_type": "stream",
     "text": [
      "Help on function sum in module numpy:\n",
      "\n",
      "sum(a, axis=None, dtype=None, out=None, keepdims=<no value>, initial=<no value>, where=<no value>)\n",
      "    Sum of array elements over a given axis.\n",
      "    \n",
      "    Parameters\n",
      "    ----------\n",
      "    a : array_like\n",
      "        Elements to sum.\n",
      "    axis : None or int or tuple of ints, optional\n",
      "        Axis or axes along which a sum is performed.  The default,\n",
      "        axis=None, will sum all of the elements of the input array.  If\n",
      "        axis is negative it counts from the last to the first axis.\n",
      "    \n",
      "        .. versionadded:: 1.7.0\n",
      "    \n",
      "        If axis is a tuple of ints, a sum is performed on all of the axes\n",
      "        specified in the tuple instead of a single axis or all the axes as\n",
      "        before.\n",
      "    dtype : dtype, optional\n",
      "        The type of the returned array and of the accumulator in which the\n",
      "        elements are summed.  The dtype of `a` is used by default unless `a`\n",
      "        has an integer dtype of less precision than the default platform\n",
      "        integer.  In that case, if `a` is signed then the platform integer\n",
      "        is used while if `a` is unsigned then an unsigned integer of the\n",
      "        same precision as the platform integer is used.\n",
      "    out : ndarray, optional\n",
      "        Alternative output array in which to place the result. It must have\n",
      "        the same shape as the expected output, but the type of the output\n",
      "        values will be cast if necessary.\n",
      "    keepdims : bool, optional\n",
      "        If this is set to True, the axes which are reduced are left\n",
      "        in the result as dimensions with size one. With this option,\n",
      "        the result will broadcast correctly against the input array.\n",
      "    \n",
      "        If the default value is passed, then `keepdims` will not be\n",
      "        passed through to the `sum` method of sub-classes of\n",
      "        `ndarray`, however any non-default value will be.  If the\n",
      "        sub-class' method does not implement `keepdims` any\n",
      "        exceptions will be raised.\n",
      "    initial : scalar, optional\n",
      "        Starting value for the sum. See `~numpy.ufunc.reduce` for details.\n",
      "    \n",
      "        .. versionadded:: 1.15.0\n",
      "    \n",
      "    where : array_like of bool, optional\n",
      "        Elements to include in the sum. See `~numpy.ufunc.reduce` for details.\n",
      "    \n",
      "        .. versionadded:: 1.17.0\n",
      "    \n",
      "    Returns\n",
      "    -------\n",
      "    sum_along_axis : ndarray\n",
      "        An array with the same shape as `a`, with the specified\n",
      "        axis removed.   If `a` is a 0-d array, or if `axis` is None, a scalar\n",
      "        is returned.  If an output array is specified, a reference to\n",
      "        `out` is returned.\n",
      "    \n",
      "    See Also\n",
      "    --------\n",
      "    ndarray.sum : Equivalent method.\n",
      "    \n",
      "    add.reduce : Equivalent functionality of `add`.\n",
      "    \n",
      "    cumsum : Cumulative sum of array elements.\n",
      "    \n",
      "    trapz : Integration of array values using the composite trapezoidal rule.\n",
      "    \n",
      "    mean, average\n",
      "    \n",
      "    Notes\n",
      "    -----\n",
      "    Arithmetic is modular when using integer types, and no error is\n",
      "    raised on overflow.\n",
      "    \n",
      "    The sum of an empty array is the neutral element 0:\n",
      "    \n",
      "    >>> np.sum([])\n",
      "    0.0\n",
      "    \n",
      "    For floating point numbers the numerical precision of sum (and\n",
      "    ``np.add.reduce``) is in general limited by directly adding each number\n",
      "    individually to the result causing rounding errors in every step.\n",
      "    However, often numpy will use a  numerically better approach (partial\n",
      "    pairwise summation) leading to improved precision in many use-cases.\n",
      "    This improved precision is always provided when no ``axis`` is given.\n",
      "    When ``axis`` is given, it will depend on which axis is summed.\n",
      "    Technically, to provide the best speed possible, the improved precision\n",
      "    is only used when the summation is along the fast axis in memory.\n",
      "    Note that the exact precision may vary depending on other parameters.\n",
      "    In contrast to NumPy, Python's ``math.fsum`` function uses a slower but\n",
      "    more precise approach to summation.\n",
      "    Especially when summing a large number of lower precision floating point\n",
      "    numbers, such as ``float32``, numerical errors can become significant.\n",
      "    In such cases it can be advisable to use `dtype=\"float64\"` to use a higher\n",
      "    precision for the output.\n",
      "    \n",
      "    Examples\n",
      "    --------\n",
      "    >>> np.sum([0.5, 1.5])\n",
      "    2.0\n",
      "    >>> np.sum([0.5, 0.7, 0.2, 1.5], dtype=np.int32)\n",
      "    1\n",
      "    >>> np.sum([[0, 1], [0, 5]])\n",
      "    6\n",
      "    >>> np.sum([[0, 1], [0, 5]], axis=0)\n",
      "    array([0, 6])\n",
      "    >>> np.sum([[0, 1], [0, 5]], axis=1)\n",
      "    array([1, 5])\n",
      "    >>> np.sum([[0, 1], [np.nan, 5]], where=[False, True], axis=1)\n",
      "    array([1., 5.])\n",
      "    \n",
      "    If the accumulator is too small, overflow occurs:\n",
      "    \n",
      "    >>> np.ones(128, dtype=np.int8).sum(dtype=np.int8)\n",
      "    -128\n",
      "    \n",
      "    You can also start the sum with a value other than zero:\n",
      "    \n",
      "    >>> np.sum([10], initial=5)\n",
      "    15\n",
      "\n"
     ]
    }
   ],
   "source": [
    "help(np.sum)\n",
    "#take off the #"
   ]
  },
  {
   "cell_type": "markdown",
   "metadata": {
    "colab_type": "text",
    "id": "WVruAcjg-ibV"
   },
   "source": [
    "We have an argument, `axis`, which allows the calling of a function across an axis.\n",
    "\n",
    "Setting `axis=0` aggregates over all rows, setting `axis=1` aggregates over all columns."
   ]
  },
  {
   "cell_type": "code",
   "execution_count": 12,
   "metadata": {
    "colab": {},
    "colab_type": "code",
    "id": "6bjGovs7-ibX"
   },
   "outputs": [
    {
     "name": "stdout",
     "output_type": "stream",
     "text": [
      "[23.  3. 26.  9. 23. 13. 23.  0. 25. 21. 15. 18. 24. 21.  9. 33.  6.  3.\n",
      " 18. 13. 20. 23. 13. 22. 24. 14. 26.  2. 13. 15.]\n",
      "[ 498.  632.  713.  975. 1030. 1224. 1305. 1391. 1519. 1705. 1915. 2027.\n",
      " 2191. 2330. 2530. 2598. 2693. 2952. 3074. 3191. 3415. 3465. 3673. 3779.\n",
      " 3984. 4004. 4192. 4392. 4627. 4680.]\n",
      "[ 23.  20.  21.  27.  39.  30.  40.  35.  67.  57.  74.  44.  60.  81.\n",
      "  79.  91.  78.  94.  93.  94.  88.  95. 111.  98. 130. 109. 121. 116.\n",
      " 147. 135.]\n",
      "[2297.  456. 3677.  408. 2303. 2749. 6782. 3436. 5070.  480. 2832. 3219.\n",
      " 1255. 2192. 4524. 4272. 1685.  488. 2865.  392. 3036.  625. 6214.  490.\n",
      " 2156. 5298. 1201. 3715. 2231.  356.]\n"
     ]
    }
   ],
   "source": [
    "print(my_data[:,0])\n",
    "print(np.sum(my_data, axis = 0))\n",
    "print(my_data[0,:])\n",
    "print(np.sum(my_data, axis = 1))"
   ]
  },
  {
   "cell_type": "markdown",
   "metadata": {
    "colab_type": "text",
    "id": "XKdc1M8M-ibf"
   },
   "source": [
    "We could assign these outputs to variables and continue on using these arrays if we wanted them."
   ]
  },
  {
   "cell_type": "markdown",
   "metadata": {
    "colab_type": "text",
    "id": "Q-Br_T6X-ib3"
   },
   "source": [
    "### Why Use NumPy?\n",
    "\n",
    "Given that we already have lists, which look a lot like arrays, why do we need NumPy?\n",
    "\n",
    "Python is duck typed, so we don't know in advance what to do with many operators - we have to test the type of each item, find out how the operator is implemented, and then carry it out.\n",
    "\n",
    "In NumPy, we are strongly typed, so we only have to check once.\n",
    "\n",
    "There are also benefits to the memory layout and some other more advanced reasons for why we use NumPy, but you can see some of the benefits here:"
   ]
  },
  {
   "cell_type": "code",
   "execution_count": 13,
   "metadata": {
    "colab": {},
    "colab_type": "code",
    "id": "9lSrlHMR-ib4"
   },
   "outputs": [
    {
     "name": "stdout",
     "output_type": "stream",
     "text": [
      "[1, 2, 3, 4, 5, 6, 7, 8, 9, 10, 1, 2, 3, 4, 5, 6, 7, 8, 9, 10]\n"
     ]
    }
   ],
   "source": [
    "mylist = [1,2,3,4,5,6,7,8,9,10]\n",
    "\n",
    "print(2 * mylist) # huh. Probably not what we wanted."
   ]
  },
  {
   "cell_type": "code",
   "execution_count": 14,
   "metadata": {
    "colab": {},
    "colab_type": "code",
    "id": "QC9tArqi-icB"
   },
   "outputs": [
    {
     "name": "stdout",
     "output_type": "stream",
     "text": [
      "875 ns ± 55.1 ns per loop (mean ± std. dev. of 7 runs, 1000000 loops each)\n"
     ]
    }
   ],
   "source": [
    "%%timeit\n",
    "\n",
    "out = []\n",
    "for i in mylist:\n",
    "    out.append(i*2)"
   ]
  },
  {
   "cell_type": "code",
   "execution_count": 15,
   "metadata": {
    "colab": {},
    "colab_type": "code",
    "id": "fU_2h288-icF"
   },
   "outputs": [],
   "source": [
    "myarray = np.array([1,2,3,4,5,6,7,8,9,10])"
   ]
  },
  {
   "cell_type": "code",
   "execution_count": 17,
   "metadata": {
    "colab": {},
    "colab_type": "code",
    "id": "SIHuDCLz-icI"
   },
   "outputs": [
    {
     "name": "stdout",
     "output_type": "stream",
     "text": [
      "730 ns ± 20.7 ns per loop (mean ± std. dev. of 7 runs, 1000000 loops each)\n"
     ]
    }
   ],
   "source": [
    "%%timeit\n",
    "\n",
    "out = 2 * myarray"
   ]
  },
  {
   "cell_type": "markdown",
   "metadata": {
    "colab_type": "text",
    "id": "_TBBpCCg-ibv"
   },
   "source": [
    "### Exercises\n",
    "\n",
    "Complete the following exercises with a partner:\n",
    "\n",
    "1. Run the following code:\n",
    "```\n",
    "x = np.arange(10)\n",
    "```\n",
    "\n",
    "What is the type of x?\n",
    "What does the `np.arange` function do? (Use `help(function)`, or Google.)\n",
    "Type in `x.` then hit tab. Can you find the maximum value in this array, using a method?\n",
    "Can you find the shape of the array?\n",
    "\n",
    "2. Import the module `time`. Use `time.t` and tab completion to find a function that gives us the current time. What arguments does this function take?\n",
    "\n",
    "3. We still have the `my_data` array in memory - can you take the standard deviation for each store? How about for each day? Can you find the maximum amount of product sold each day, regardless of store?"
   ]
  },
  {
   "cell_type": "code",
   "execution_count": 15,
   "metadata": {},
   "outputs": [
    {
     "name": "stdout",
     "output_type": "stream",
     "text": [
      "<class 'numpy.ndarray'>\n",
      "9\n",
      "(10,)\n"
     ]
    },
    {
     "data": {
      "text/plain": [
       "array([0, 1, 2, 3, 4, 5, 6, 7, 8, 9])"
      ]
     },
     "execution_count": 15,
     "metadata": {},
     "output_type": "execute_result"
    }
   ],
   "source": [
    "x = np.arange(10)\n",
    "\n",
    "print(type(x))\n",
    "y = np.amax(x)\n",
    "print(y)\n",
    "print(x.shape)\n",
    "x"
   ]
  },
  {
   "cell_type": "code",
   "execution_count": 20,
   "metadata": {},
   "outputs": [
    {
     "data": {
      "text/plain": [
       "1614638337.484135"
      ]
     },
     "execution_count": 20,
     "metadata": {},
     "output_type": "execute_result"
    }
   ],
   "source": [
    "import time\n",
    "\n",
    "time.time()"
   ]
  },
  {
   "cell_type": "code",
   "execution_count": 32,
   "metadata": {},
   "outputs": [
    {
     "name": "stdout",
     "output_type": "stream",
     "text": [
      "[  8.21218607  10.18473804  12.39807333  15.80664417  21.00052909\n",
      "  23.93936786  25.89691101  31.35759699  35.0099827   37.45671576\n",
      "  41.7740616   47.32207613  48.13348338  54.27604342  57.94326727\n",
      "  61.55896902  67.89240671  67.23520903  72.88426137  79.31770855\n",
      "  85.98917891  85.64490645  89.43216548  93.29361655 100.35815861\n",
      " 104.15236702 109.1839223  113.82870171 109.85010494 120.18568966]\n",
      "[ 36.10880164  11.32960723  61.10629173   7.47707608  39.87370339\n",
      "  48.08428942 124.13190117  58.12041141  93.61445757   9.38438419\n",
      "  47.13993353  54.9903931   18.93688347  34.0978331   83.07964051\n",
      "  74.48158609  28.79014106   9.94965103  51.07951318  10.01310253\n",
      "  49.33247747   8.95947667 116.05709323   9.42809042  31.23110985\n",
      "  95.54566099  17.47280427  71.01646914  41.58083159   8.08592742]\n"
     ]
    },
    {
     "data": {
      "text/plain": [
       "array([ 33.,  40.,  47.,  61.,  79.,  90.,  97., 124., 125., 149., 154.,\n",
       "       184., 194., 209., 229., 226., 265., 253., 263., 290., 313., 312.,\n",
       "       333., 345., 371., 369., 383., 416., 410., 442.])"
      ]
     },
     "execution_count": 32,
     "metadata": {},
     "output_type": "execute_result"
    }
   ],
   "source": [
    "print(np.std(my_data, axis=0)) #for each day axis =1 to iterate through columns\n",
    "print(np.std(my_data, axis=1))\n",
    "np.amax(my_data, axis=0)"
   ]
  },
  {
   "cell_type": "markdown",
   "metadata": {
    "colab_type": "text",
    "id": "EFuSawYXETht"
   },
   "source": [
    "## Pandas:  Series and Dataframes\n",
    "\n",
    "Pandas is a package for Python that come with its own unique set of functions, objects, etc. It is designed for working with tabular data. We're going import Pandas with this command:"
   ]
  },
  {
   "cell_type": "code",
   "execution_count": 7,
   "metadata": {
    "colab": {},
    "colab_type": "code",
    "id": "ot326iKUEThu"
   },
   "outputs": [],
   "source": [
    "import pandas as pd"
   ]
  },
  {
   "cell_type": "markdown",
   "metadata": {
    "colab_type": "text",
    "id": "a33yfMnaEThv"
   },
   "source": [
    "### Pandas Series objects\n",
    "\n",
    "Pandas Series are a built on 1-dimensional NumPy arrays (the basic object of NumPy), but with the addition of an index.  As a result, a Series is much like a list in that it is an ordered sequence of Python objects, whose elements can be called by their index. The difference here, though, is that we can specify an index of our choosing (much like picking keys for a dictionary). If we do not specify an index, it will revert to standard integer indexing."
   ]
  },
  {
   "cell_type": "code",
   "execution_count": 8,
   "metadata": {
    "colab": {},
    "colab_type": "code",
    "id": "beSusrDCEThv",
    "outputId": "5cb965dd-baa3-46c9-9ca1-b1355f70c3b2"
   },
   "outputs": [
    {
     "data": {
      "text/plain": [
       "0     2\n",
       "1     3\n",
       "2     5\n",
       "3     7\n",
       "4    11\n",
       "5    13\n",
       "dtype: int64"
      ]
     },
     "execution_count": 8,
     "metadata": {},
     "output_type": "execute_result"
    }
   ],
   "source": [
    "s = pd.Series([2,3,5,7,11,13])\n",
    "s"
   ]
  },
  {
   "cell_type": "markdown",
   "metadata": {
    "colab_type": "text",
    "id": "uRcS5WwdEThw"
   },
   "source": [
    "Here, the left-hand column is the index, and the right-hand column is the set of values.  We can specify the index when we create the series:"
   ]
  },
  {
   "cell_type": "code",
   "execution_count": 20,
   "metadata": {
    "colab": {},
    "colab_type": "code",
    "id": "KO3EusqREThx",
    "outputId": "d700859f-8d3d-4781-d180-6d8c4a886ad8"
   },
   "outputs": [
    {
     "data": {
      "text/plain": [
       "a     2\n",
       "b     3\n",
       "c     5\n",
       "d     7\n",
       "e    11\n",
       "f    13\n",
       "dtype: int64"
      ]
     },
     "execution_count": 20,
     "metadata": {},
     "output_type": "execute_result"
    }
   ],
   "source": [
    "s = pd.Series([2,3,5,7,11,13],index=['a', 'b', 'c', 'd', 'e','f'])\n",
    "s"
   ]
  },
  {
   "cell_type": "markdown",
   "metadata": {
    "colab_type": "text",
    "id": "b_j7miivEThx"
   },
   "source": [
    "Or, we can assign the index afterwards:"
   ]
  },
  {
   "cell_type": "code",
   "execution_count": 21,
   "metadata": {
    "colab": {},
    "colab_type": "code",
    "id": "katCfVPIEThy",
    "outputId": "d9e731e1-9076-411d-fd0d-6ea073abc20b"
   },
   "outputs": [
    {
     "data": {
      "text/plain": [
       "0     2\n",
       "1     3\n",
       "2     5\n",
       "3     7\n",
       "4    11\n",
       "5    13\n",
       "dtype: int64"
      ]
     },
     "execution_count": 21,
     "metadata": {},
     "output_type": "execute_result"
    }
   ],
   "source": [
    "s = pd.Series([2,3,5,7,11,13])\n",
    "s"
   ]
  },
  {
   "cell_type": "code",
   "execution_count": 84,
   "metadata": {
    "colab": {},
    "colab_type": "code",
    "id": "f1wc5ZyZEThz",
    "outputId": "6f8c25c0-fce2-4fdd-8689-e990db30ee58"
   },
   "outputs": [
    {
     "data": {
      "text/plain": [
       "RangeIndex(start=0, stop=6, step=1)"
      ]
     },
     "execution_count": 84,
     "metadata": {},
     "output_type": "execute_result"
    }
   ],
   "source": [
    "s.index"
   ]
  },
  {
   "cell_type": "code",
   "execution_count": 24,
   "metadata": {
    "colab": {},
    "colab_type": "code",
    "id": "8zvBHCgnETh0",
    "outputId": "46ad0e60-15eb-4749-a547-54814c6ac1f0"
   },
   "outputs": [
    {
     "data": {
      "text/plain": [
       "a     2\n",
       "b     3\n",
       "c     5\n",
       "d     7\n",
       "e    11\n",
       "f    13\n",
       "dtype: int64"
      ]
     },
     "execution_count": 24,
     "metadata": {},
     "output_type": "execute_result"
    }
   ],
   "source": [
    "# Setting a new index\n",
    "s.index = ['a', 'b', 'c', 'd', 'e','f']\n",
    "s"
   ]
  },
  {
   "cell_type": "markdown",
   "metadata": {
    "colab_type": "text",
    "id": "tYMhhP8RETh1"
   },
   "source": [
    "We can take a dictionary, and create a Series out of it.  This will automatically use the keys as the index:"
   ]
  },
  {
   "cell_type": "code",
   "execution_count": 9,
   "metadata": {
    "colab": {},
    "colab_type": "code",
    "id": "U8SS46TDETh1",
    "outputId": "0f7399c4-0804-4b7e-d4ce-fa9ec28c4ced"
   },
   "outputs": [
    {
     "data": {
      "text/plain": [
       "Patrick    86\n",
       "Lindsay    95\n",
       "Ivan       92\n",
       "Emily      97\n",
       "Iva        89\n",
       "dtype: int64"
      ]
     },
     "execution_count": 9,
     "metadata": {},
     "output_type": "execute_result"
    }
   ],
   "source": [
    "midterm_marks = {'Patrick':86,'Lindsay':95,'Ivan':92,'Emily':97,'Iva':89}\n",
    "\n",
    "marks = pd.Series(midterm_marks)\n",
    "marks"
   ]
  },
  {
   "cell_type": "markdown",
   "metadata": {
    "colab_type": "text",
    "id": "Prngk4q2ETh5"
   },
   "source": [
    "### Slicing & Referencing\n",
    "\n",
    "Both Series and Dataframe items can be called and sliced using syntax similar to lists and dictionaries:"
   ]
  },
  {
   "cell_type": "code",
   "execution_count": 6,
   "metadata": {
    "colab": {},
    "colab_type": "code",
    "id": "z2QCljSlETh5",
    "outputId": "1dd7175e-2065-4399-b1e4-efc269562537"
   },
   "outputs": [
    {
     "data": {
      "text/plain": [
       "97"
      ]
     },
     "execution_count": 6,
     "metadata": {},
     "output_type": "execute_result"
    }
   ],
   "source": [
    "marks['Emily']"
   ]
  },
  {
   "cell_type": "code",
   "execution_count": 27,
   "metadata": {
    "colab": {},
    "colab_type": "code",
    "id": "A5hcvcg9ETh6",
    "outputId": "9a0dd1d6-1af2-420a-c8be-5c1c909c5e8b"
   },
   "outputs": [
    {
     "data": {
      "text/plain": [
       "b    3\n",
       "c    5\n",
       "d    7\n",
       "dtype: int64"
      ]
     },
     "execution_count": 27,
     "metadata": {},
     "output_type": "execute_result"
    }
   ],
   "source": [
    "s['b':'d']"
   ]
  },
  {
   "cell_type": "markdown",
   "metadata": {
    "colab_type": "text",
    "id": "XYYI5fYAETh7"
   },
   "source": [
    "You will notice that, unlike in regular Python, slicing a Series will *include* the last item listed.<br>\n",
    "\n",
    "One of the most useful aspects of Series (and Dataframes, as we'll see), is *vectorized* operations. If we apply operations to the Series, the computer will perform the instructions to every element effectively simultaneously. For example, if we wanted to add two series together, component-wise, we would use:"
   ]
  },
  {
   "cell_type": "code",
   "execution_count": 28,
   "metadata": {
    "colab": {},
    "colab_type": "code",
    "id": "O14jcwKGETh7",
    "outputId": "a1289aee-4c72-4a24-c703-7f954da6d76e"
   },
   "outputs": [
    {
     "data": {
      "text/plain": [
       "a     5\n",
       "b    11\n",
       "c     8\n",
       "dtype: int64"
      ]
     },
     "execution_count": 28,
     "metadata": {},
     "output_type": "execute_result"
    }
   ],
   "source": [
    "s1 = pd.Series([4,10,7], index=['a','b','c'])\n",
    "s2 = pd.Series([1,1,1], index=['a','b','c'])\n",
    "\n",
    "s3 = s1+s2\n",
    "s3"
   ]
  },
  {
   "cell_type": "markdown",
   "metadata": {
    "colab_type": "text",
    "id": "qcMqFou4ETh8"
   },
   "source": [
    "And if we wanted to multiply everything in ```s3``` by 2 and then add 5:"
   ]
  },
  {
   "cell_type": "code",
   "execution_count": 29,
   "metadata": {
    "colab": {},
    "colab_type": "code",
    "id": "W0erpgUbETh9",
    "outputId": "1d9ffcb7-b544-44aa-a454-5a162787d99d"
   },
   "outputs": [
    {
     "data": {
      "text/plain": [
       "a    15\n",
       "b    27\n",
       "c    21\n",
       "dtype: int64"
      ]
     },
     "execution_count": 29,
     "metadata": {},
     "output_type": "execute_result"
    }
   ],
   "source": [
    "s3*2 + 5"
   ]
  },
  {
   "cell_type": "markdown",
   "metadata": {
    "colab_type": "text",
    "id": "TydFPzoRETh_"
   },
   "source": [
    "One of the great abilities of vectorized operations is handling mismatched indices. If we have two Series that overlap in some indices, but also contain differences, it will fill in the gaps for us:"
   ]
  },
  {
   "cell_type": "code",
   "execution_count": 30,
   "metadata": {
    "colab": {},
    "colab_type": "code",
    "id": "ZqqzUQy2ETh_",
    "outputId": "042e6af9-f0e1-4db0-ebab-aba0cb376c98"
   },
   "outputs": [
    {
     "data": {
      "text/plain": [
       "a    NaN\n",
       "b    3.0\n",
       "c   -1.0\n",
       "d    NaN\n",
       "dtype: float64"
      ]
     },
     "execution_count": 30,
     "metadata": {},
     "output_type": "execute_result"
    }
   ],
   "source": [
    "s4 = pd.Series([2,-1,6], index=['b','c','d'])\n",
    "s5 = pd.Series([3,1,0], index=['a','b','c'])\n",
    "\n",
    "s4+s5"
   ]
  },
  {
   "cell_type": "markdown",
   "metadata": {
    "colab_type": "text",
    "id": "xkvwIo98ETiC"
   },
   "source": [
    "The index of the resulting Series is the union of the two original indices.  Pandas will fill in any missing data with `np.NaN`. <br> \n",
    "\n",
    "**Note**: `NaN` (\"not a number\") is the marker used to denote missing data in Pandas and NumPy."
   ]
  },
  {
   "cell_type": "markdown",
   "metadata": {
    "colab_type": "text",
    "id": "HP3FnBKOETiC"
   },
   "source": [
    "### Vectorization: Why we care\n",
    "\n",
    "Why is vectorization important?  Why are we learning about Series (and soon Dataframes) that look kind of like other objects we've already seen, instead of just trying to use those objects?  There are two main reasons:\n",
    "\n",
    "1. **Speed**. Performing vectorized operations will go much faster than iterative ones. \n",
    "2. **Code length**. The amount of code your write will be dramatically reduced by not having to write complicated for-loops.\n",
    "\n",
    "Instead of having to iterate through all of the indices, we can give Python instructions for the entire Series. \n",
    "Vectorized operations allow us to very quickly perform operations on entire groups of data.  As we'll see later on, we can even create vectorized versions of custom functions.  Pandas and NumPy come packaged with a lot of very handy and powerful tools for dealing with very large datasets that only require a line or two of code, which reduces the amount of work we have to do.\n",
    "\n"
   ]
  },
  {
   "cell_type": "markdown",
   "metadata": {
    "colab_type": "text",
    "id": "ZBZZQ8avETiC"
   },
   "source": [
    "### Pandas Dataframes\n",
    "\n",
    "Dataframes are tables of indexed columns, containing potentially different types of data.  Each column is a `pd.Series` object.\n",
    "\n",
    "We can create a dataframe from scratch using a dictionary of Series:\n",
    "\n",
    "\n"
   ]
  },
  {
   "cell_type": "code",
   "execution_count": 11,
   "metadata": {
    "colab": {},
    "colab_type": "code",
    "id": "nzU1ZfKaETiC"
   },
   "outputs": [
    {
     "data": {
      "text/html": [
       "<div>\n",
       "<style scoped>\n",
       "    .dataframe tbody tr th:only-of-type {\n",
       "        vertical-align: middle;\n",
       "    }\n",
       "\n",
       "    .dataframe tbody tr th {\n",
       "        vertical-align: top;\n",
       "    }\n",
       "\n",
       "    .dataframe thead th {\n",
       "        text-align: right;\n",
       "    }\n",
       "</style>\n",
       "<table border=\"1\" class=\"dataframe\">\n",
       "  <thead>\n",
       "    <tr style=\"text-align: right;\">\n",
       "      <th></th>\n",
       "      <th>one</th>\n",
       "      <th>two</th>\n",
       "    </tr>\n",
       "  </thead>\n",
       "  <tbody>\n",
       "    <tr>\n",
       "      <th>a</th>\n",
       "      <td>2.0</td>\n",
       "      <td>alpha</td>\n",
       "    </tr>\n",
       "    <tr>\n",
       "      <th>b</th>\n",
       "      <td>4.0</td>\n",
       "      <td>beta</td>\n",
       "    </tr>\n",
       "    <tr>\n",
       "      <th>c</th>\n",
       "      <td>6.0</td>\n",
       "      <td>gamma</td>\n",
       "    </tr>\n",
       "    <tr>\n",
       "      <th>d</th>\n",
       "      <td>NaN</td>\n",
       "      <td>delta</td>\n",
       "    </tr>\n",
       "  </tbody>\n",
       "</table>\n",
       "</div>"
      ],
      "text/plain": [
       "   one    two\n",
       "a  2.0  alpha\n",
       "b  4.0   beta\n",
       "c  6.0  gamma\n",
       "d  NaN  delta"
      ]
     },
     "execution_count": 11,
     "metadata": {},
     "output_type": "execute_result"
    }
   ],
   "source": [
    "d = {'one' : pd.Series([2, 4, 6], index=['a', 'b', 'c']),\n",
    "     'two' : pd.Series(['alpha','beta','gamma','delta'], index=['a', 'b', 'c', 'd'])}\n",
    "\n",
    "df = pd.DataFrame(d)\n",
    "df"
   ]
  },
  {
   "cell_type": "markdown",
   "metadata": {
    "colab_type": "text",
    "id": "InMrGtm1ETiE"
   },
   "source": [
    "Let's create a larger dataframe so we can get a better view of accessing data.  The actual code to produce this dataframe is not overly important for right now."
   ]
  },
  {
   "cell_type": "code",
   "execution_count": 20,
   "metadata": {
    "colab": {},
    "colab_type": "code",
    "id": "HcE20nZSETiE",
    "outputId": "ac50ca92-18a2-4217-ecd8-b4c6c8e5ab36"
   },
   "outputs": [
    {
     "data": {
      "text/html": [
       "<div>\n",
       "<style scoped>\n",
       "    .dataframe tbody tr th:only-of-type {\n",
       "        vertical-align: middle;\n",
       "    }\n",
       "\n",
       "    .dataframe tbody tr th {\n",
       "        vertical-align: top;\n",
       "    }\n",
       "\n",
       "    .dataframe thead th {\n",
       "        text-align: right;\n",
       "    }\n",
       "</style>\n",
       "<table border=\"1\" class=\"dataframe\">\n",
       "  <thead>\n",
       "    <tr style=\"text-align: right;\">\n",
       "      <th></th>\n",
       "      <th>A</th>\n",
       "      <th>B</th>\n",
       "      <th>C</th>\n",
       "      <th>D</th>\n",
       "      <th>E</th>\n",
       "      <th>F</th>\n",
       "      <th>H</th>\n",
       "    </tr>\n",
       "  </thead>\n",
       "  <tbody>\n",
       "    <tr>\n",
       "      <th>0</th>\n",
       "      <td>-0.140236</td>\n",
       "      <td>-1.343044</td>\n",
       "      <td>0.268383</td>\n",
       "      <td>-1.042500</td>\n",
       "      <td>0.094665</td>\n",
       "      <td>0.440437</td>\n",
       "      <td>-0.727485</td>\n",
       "    </tr>\n",
       "    <tr>\n",
       "      <th>1</th>\n",
       "      <td>1.165451</td>\n",
       "      <td>0.649903</td>\n",
       "      <td>-0.443097</td>\n",
       "      <td>0.918304</td>\n",
       "      <td>-1.249781</td>\n",
       "      <td>0.461502</td>\n",
       "      <td>-0.379459</td>\n",
       "    </tr>\n",
       "    <tr>\n",
       "      <th>2</th>\n",
       "      <td>0.776036</td>\n",
       "      <td>-0.064539</td>\n",
       "      <td>0.143430</td>\n",
       "      <td>-0.821610</td>\n",
       "      <td>-1.782161</td>\n",
       "      <td>0.344803</td>\n",
       "      <td>0.310084</td>\n",
       "    </tr>\n",
       "    <tr>\n",
       "      <th>3</th>\n",
       "      <td>-2.959724</td>\n",
       "      <td>0.367145</td>\n",
       "      <td>-0.481993</td>\n",
       "      <td>0.966155</td>\n",
       "      <td>-0.064798</td>\n",
       "      <td>0.521498</td>\n",
       "      <td>0.350957</td>\n",
       "    </tr>\n",
       "    <tr>\n",
       "      <th>4</th>\n",
       "      <td>0.657002</td>\n",
       "      <td>-1.348102</td>\n",
       "      <td>1.780367</td>\n",
       "      <td>0.141268</td>\n",
       "      <td>-0.155595</td>\n",
       "      <td>-0.103867</td>\n",
       "      <td>0.408140</td>\n",
       "    </tr>\n",
       "    <tr>\n",
       "      <th>5</th>\n",
       "      <td>-0.123916</td>\n",
       "      <td>0.514808</td>\n",
       "      <td>0.022702</td>\n",
       "      <td>-1.592378</td>\n",
       "      <td>0.674511</td>\n",
       "      <td>-0.282153</td>\n",
       "      <td>0.780204</td>\n",
       "    </tr>\n",
       "    <tr>\n",
       "      <th>6</th>\n",
       "      <td>-1.405115</td>\n",
       "      <td>-0.896280</td>\n",
       "      <td>-0.221009</td>\n",
       "      <td>-0.545946</td>\n",
       "      <td>-2.302389</td>\n",
       "      <td>0.503035</td>\n",
       "      <td>0.304492</td>\n",
       "    </tr>\n",
       "    <tr>\n",
       "      <th>7</th>\n",
       "      <td>1.118313</td>\n",
       "      <td>1.562869</td>\n",
       "      <td>-0.804184</td>\n",
       "      <td>2.802389</td>\n",
       "      <td>0.236456</td>\n",
       "      <td>-0.130992</td>\n",
       "      <td>-1.687364</td>\n",
       "    </tr>\n",
       "  </tbody>\n",
       "</table>\n",
       "</div>"
      ],
      "text/plain": [
       "          A         B         C         D         E         F         H\n",
       "0 -0.140236 -1.343044  0.268383 -1.042500  0.094665  0.440437 -0.727485\n",
       "1  1.165451  0.649903 -0.443097  0.918304 -1.249781  0.461502 -0.379459\n",
       "2  0.776036 -0.064539  0.143430 -0.821610 -1.782161  0.344803  0.310084\n",
       "3 -2.959724  0.367145 -0.481993  0.966155 -0.064798  0.521498  0.350957\n",
       "4  0.657002 -1.348102  1.780367  0.141268 -0.155595 -0.103867  0.408140\n",
       "5 -0.123916  0.514808  0.022702 -1.592378  0.674511 -0.282153  0.780204\n",
       "6 -1.405115 -0.896280 -0.221009 -0.545946 -2.302389  0.503035  0.304492\n",
       "7  1.118313  1.562869 -0.804184  2.802389  0.236456 -0.130992 -1.687364"
      ]
     },
     "execution_count": 20,
     "metadata": {},
     "output_type": "execute_result"
    }
   ],
   "source": [
    "import numpy as np\n",
    "\n",
    "df = pd.DataFrame(np.random.randn(8,6), columns=['A','B','C','D','E','F'])\n",
    "df"
   ]
  },
  {
   "cell_type": "markdown",
   "metadata": {
    "colab_type": "text",
    "id": "INmVranHETiF"
   },
   "source": [
    "We can access the top n rows by calling `df.head(n)`, and the bottom `m` rows by calling `df.tail(m)`.  If we leave `n` or `m` blank, it will default to 5."
   ]
  },
  {
   "cell_type": "code",
   "execution_count": 33,
   "metadata": {
    "colab": {},
    "colab_type": "code",
    "id": "fEhc5KAVETiF",
    "outputId": "f7c4a428-2f8a-4ef7-c6a9-8ef94a2b9329"
   },
   "outputs": [
    {
     "data": {
      "text/html": [
       "<div>\n",
       "<style scoped>\n",
       "    .dataframe tbody tr th:only-of-type {\n",
       "        vertical-align: middle;\n",
       "    }\n",
       "\n",
       "    .dataframe tbody tr th {\n",
       "        vertical-align: top;\n",
       "    }\n",
       "\n",
       "    .dataframe thead th {\n",
       "        text-align: right;\n",
       "    }\n",
       "</style>\n",
       "<table border=\"1\" class=\"dataframe\">\n",
       "  <thead>\n",
       "    <tr style=\"text-align: right;\">\n",
       "      <th></th>\n",
       "      <th>A</th>\n",
       "      <th>B</th>\n",
       "      <th>C</th>\n",
       "      <th>D</th>\n",
       "      <th>E</th>\n",
       "      <th>F</th>\n",
       "    </tr>\n",
       "  </thead>\n",
       "  <tbody>\n",
       "    <tr>\n",
       "      <th>0</th>\n",
       "      <td>-0.006120</td>\n",
       "      <td>0.995303</td>\n",
       "      <td>1.295590</td>\n",
       "      <td>-1.315822</td>\n",
       "      <td>0.680437</td>\n",
       "      <td>0.336321</td>\n",
       "    </tr>\n",
       "    <tr>\n",
       "      <th>1</th>\n",
       "      <td>0.617469</td>\n",
       "      <td>-0.092009</td>\n",
       "      <td>0.657540</td>\n",
       "      <td>0.769186</td>\n",
       "      <td>-0.413372</td>\n",
       "      <td>-1.038546</td>\n",
       "    </tr>\n",
       "    <tr>\n",
       "      <th>2</th>\n",
       "      <td>0.911020</td>\n",
       "      <td>0.236724</td>\n",
       "      <td>0.646495</td>\n",
       "      <td>0.794445</td>\n",
       "      <td>0.699801</td>\n",
       "      <td>-0.655905</td>\n",
       "    </tr>\n",
       "    <tr>\n",
       "      <th>3</th>\n",
       "      <td>-1.634440</td>\n",
       "      <td>-0.457585</td>\n",
       "      <td>0.415220</td>\n",
       "      <td>1.930824</td>\n",
       "      <td>1.413390</td>\n",
       "      <td>-1.406453</td>\n",
       "    </tr>\n",
       "    <tr>\n",
       "      <th>4</th>\n",
       "      <td>0.884871</td>\n",
       "      <td>-0.565394</td>\n",
       "      <td>-0.033965</td>\n",
       "      <td>0.329885</td>\n",
       "      <td>0.849439</td>\n",
       "      <td>-0.064877</td>\n",
       "    </tr>\n",
       "  </tbody>\n",
       "</table>\n",
       "</div>"
      ],
      "text/plain": [
       "          A         B         C         D         E         F\n",
       "0 -0.006120  0.995303  1.295590 -1.315822  0.680437  0.336321\n",
       "1  0.617469 -0.092009  0.657540  0.769186 -0.413372 -1.038546\n",
       "2  0.911020  0.236724  0.646495  0.794445  0.699801 -0.655905\n",
       "3 -1.634440 -0.457585  0.415220  1.930824  1.413390 -1.406453\n",
       "4  0.884871 -0.565394 -0.033965  0.329885  0.849439 -0.064877"
      ]
     },
     "execution_count": 33,
     "metadata": {},
     "output_type": "execute_result"
    }
   ],
   "source": [
    "df.head()"
   ]
  },
  {
   "cell_type": "code",
   "execution_count": 34,
   "metadata": {
    "colab": {},
    "colab_type": "code",
    "id": "j9RBTyQjETiI",
    "outputId": "bd424436-03f7-4054-ac33-2feca19acb8e"
   },
   "outputs": [
    {
     "data": {
      "text/html": [
       "<div>\n",
       "<style scoped>\n",
       "    .dataframe tbody tr th:only-of-type {\n",
       "        vertical-align: middle;\n",
       "    }\n",
       "\n",
       "    .dataframe tbody tr th {\n",
       "        vertical-align: top;\n",
       "    }\n",
       "\n",
       "    .dataframe thead th {\n",
       "        text-align: right;\n",
       "    }\n",
       "</style>\n",
       "<table border=\"1\" class=\"dataframe\">\n",
       "  <thead>\n",
       "    <tr style=\"text-align: right;\">\n",
       "      <th></th>\n",
       "      <th>A</th>\n",
       "      <th>B</th>\n",
       "      <th>C</th>\n",
       "      <th>D</th>\n",
       "      <th>E</th>\n",
       "      <th>F</th>\n",
       "    </tr>\n",
       "  </thead>\n",
       "  <tbody>\n",
       "    <tr>\n",
       "      <th>5</th>\n",
       "      <td>0.452536</td>\n",
       "      <td>-1.149487</td>\n",
       "      <td>-0.527991</td>\n",
       "      <td>-0.481837</td>\n",
       "      <td>0.646394</td>\n",
       "      <td>0.233137</td>\n",
       "    </tr>\n",
       "    <tr>\n",
       "      <th>6</th>\n",
       "      <td>-0.212473</td>\n",
       "      <td>1.171074</td>\n",
       "      <td>1.709416</td>\n",
       "      <td>-0.118912</td>\n",
       "      <td>-0.433531</td>\n",
       "      <td>1.279646</td>\n",
       "    </tr>\n",
       "    <tr>\n",
       "      <th>7</th>\n",
       "      <td>-0.857506</td>\n",
       "      <td>1.412557</td>\n",
       "      <td>0.400593</td>\n",
       "      <td>0.652157</td>\n",
       "      <td>0.406363</td>\n",
       "      <td>-0.414815</td>\n",
       "    </tr>\n",
       "  </tbody>\n",
       "</table>\n",
       "</div>"
      ],
      "text/plain": [
       "          A         B         C         D         E         F\n",
       "5  0.452536 -1.149487 -0.527991 -0.481837  0.646394  0.233137\n",
       "6 -0.212473  1.171074  1.709416 -0.118912 -0.433531  1.279646\n",
       "7 -0.857506  1.412557  0.400593  0.652157  0.406363 -0.414815"
      ]
     },
     "execution_count": 34,
     "metadata": {},
     "output_type": "execute_result"
    }
   ],
   "source": [
    "df.tail(3)"
   ]
  },
  {
   "cell_type": "markdown",
   "metadata": {
    "colab_type": "text",
    "id": "dzP0PRd-ETiJ"
   },
   "source": [
    "We can slice rows with the same syntax as lists and Series:"
   ]
  },
  {
   "cell_type": "code",
   "execution_count": 35,
   "metadata": {
    "colab": {},
    "colab_type": "code",
    "id": "dzRvi3d3ETiJ",
    "outputId": "cd1d767c-a00f-4a18-edc7-1aea63ddaf57"
   },
   "outputs": [
    {
     "data": {
      "text/html": [
       "<div>\n",
       "<style scoped>\n",
       "    .dataframe tbody tr th:only-of-type {\n",
       "        vertical-align: middle;\n",
       "    }\n",
       "\n",
       "    .dataframe tbody tr th {\n",
       "        vertical-align: top;\n",
       "    }\n",
       "\n",
       "    .dataframe thead th {\n",
       "        text-align: right;\n",
       "    }\n",
       "</style>\n",
       "<table border=\"1\" class=\"dataframe\">\n",
       "  <thead>\n",
       "    <tr style=\"text-align: right;\">\n",
       "      <th></th>\n",
       "      <th>A</th>\n",
       "      <th>B</th>\n",
       "      <th>C</th>\n",
       "      <th>D</th>\n",
       "      <th>E</th>\n",
       "      <th>F</th>\n",
       "    </tr>\n",
       "  </thead>\n",
       "  <tbody>\n",
       "    <tr>\n",
       "      <th>2</th>\n",
       "      <td>0.91102</td>\n",
       "      <td>0.236724</td>\n",
       "      <td>0.646495</td>\n",
       "      <td>0.794445</td>\n",
       "      <td>0.699801</td>\n",
       "      <td>-0.655905</td>\n",
       "    </tr>\n",
       "    <tr>\n",
       "      <th>3</th>\n",
       "      <td>-1.63444</td>\n",
       "      <td>-0.457585</td>\n",
       "      <td>0.415220</td>\n",
       "      <td>1.930824</td>\n",
       "      <td>1.413390</td>\n",
       "      <td>-1.406453</td>\n",
       "    </tr>\n",
       "  </tbody>\n",
       "</table>\n",
       "</div>"
      ],
      "text/plain": [
       "         A         B         C         D         E         F\n",
       "2  0.91102  0.236724  0.646495  0.794445  0.699801 -0.655905\n",
       "3 -1.63444 -0.457585  0.415220  1.930824  1.413390 -1.406453"
      ]
     },
     "execution_count": 35,
     "metadata": {},
     "output_type": "execute_result"
    }
   ],
   "source": [
    "df[2:4]"
   ]
  },
  {
   "cell_type": "markdown",
   "metadata": {
    "colab_type": "text",
    "id": "NVskajjfETiK"
   },
   "source": [
    "We can call an individual column with the syntax we use for list/dictionary items, and we can call a set of columns by passing a list of column names:"
   ]
  },
  {
   "cell_type": "code",
   "execution_count": 36,
   "metadata": {
    "colab": {},
    "colab_type": "code",
    "id": "R0y9s26aETiK",
    "outputId": "4173aeda-c01d-4679-e551-ee2d1f648ac5"
   },
   "outputs": [
    {
     "data": {
      "text/plain": [
       "0   -0.006120\n",
       "1    0.617469\n",
       "2    0.911020\n",
       "3   -1.634440\n",
       "4    0.884871\n",
       "5    0.452536\n",
       "6   -0.212473\n",
       "7   -0.857506\n",
       "Name: A, dtype: float64"
      ]
     },
     "execution_count": 36,
     "metadata": {},
     "output_type": "execute_result"
    }
   ],
   "source": [
    "df['A']"
   ]
  },
  {
   "cell_type": "markdown",
   "metadata": {
    "colab_type": "text",
    "id": "OdXPwLVOETiL"
   },
   "source": [
    "(Note:  when we call only a single column, we will be given a Series object)"
   ]
  },
  {
   "cell_type": "code",
   "execution_count": 37,
   "metadata": {
    "colab": {},
    "colab_type": "code",
    "id": "hxtkTJGdETiL",
    "outputId": "da93ac09-fb06-4df3-81b5-9497f141ea38"
   },
   "outputs": [
    {
     "data": {
      "text/html": [
       "<div>\n",
       "<style scoped>\n",
       "    .dataframe tbody tr th:only-of-type {\n",
       "        vertical-align: middle;\n",
       "    }\n",
       "\n",
       "    .dataframe tbody tr th {\n",
       "        vertical-align: top;\n",
       "    }\n",
       "\n",
       "    .dataframe thead th {\n",
       "        text-align: right;\n",
       "    }\n",
       "</style>\n",
       "<table border=\"1\" class=\"dataframe\">\n",
       "  <thead>\n",
       "    <tr style=\"text-align: right;\">\n",
       "      <th></th>\n",
       "      <th>A</th>\n",
       "      <th>D</th>\n",
       "    </tr>\n",
       "  </thead>\n",
       "  <tbody>\n",
       "    <tr>\n",
       "      <th>0</th>\n",
       "      <td>-0.006120</td>\n",
       "      <td>-1.315822</td>\n",
       "    </tr>\n",
       "    <tr>\n",
       "      <th>1</th>\n",
       "      <td>0.617469</td>\n",
       "      <td>0.769186</td>\n",
       "    </tr>\n",
       "    <tr>\n",
       "      <th>2</th>\n",
       "      <td>0.911020</td>\n",
       "      <td>0.794445</td>\n",
       "    </tr>\n",
       "    <tr>\n",
       "      <th>3</th>\n",
       "      <td>-1.634440</td>\n",
       "      <td>1.930824</td>\n",
       "    </tr>\n",
       "    <tr>\n",
       "      <th>4</th>\n",
       "      <td>0.884871</td>\n",
       "      <td>0.329885</td>\n",
       "    </tr>\n",
       "    <tr>\n",
       "      <th>5</th>\n",
       "      <td>0.452536</td>\n",
       "      <td>-0.481837</td>\n",
       "    </tr>\n",
       "    <tr>\n",
       "      <th>6</th>\n",
       "      <td>-0.212473</td>\n",
       "      <td>-0.118912</td>\n",
       "    </tr>\n",
       "    <tr>\n",
       "      <th>7</th>\n",
       "      <td>-0.857506</td>\n",
       "      <td>0.652157</td>\n",
       "    </tr>\n",
       "  </tbody>\n",
       "</table>\n",
       "</div>"
      ],
      "text/plain": [
       "          A         D\n",
       "0 -0.006120 -1.315822\n",
       "1  0.617469  0.769186\n",
       "2  0.911020  0.794445\n",
       "3 -1.634440  1.930824\n",
       "4  0.884871  0.329885\n",
       "5  0.452536 -0.481837\n",
       "6 -0.212473 -0.118912\n",
       "7 -0.857506  0.652157"
      ]
     },
     "execution_count": 37,
     "metadata": {},
     "output_type": "execute_result"
    }
   ],
   "source": [
    "df[['A','D']]"
   ]
  },
  {
   "cell_type": "markdown",
   "metadata": {
    "colab_type": "text",
    "id": "SVwv_qrXETiM"
   },
   "source": [
    "We can define a new column as we would add a new key/value pair to a dictionary:"
   ]
  },
  {
   "cell_type": "code",
   "execution_count": 38,
   "metadata": {
    "colab": {},
    "colab_type": "code",
    "id": "8vE0LE3GETiM"
   },
   "outputs": [],
   "source": [
    "df['G'] = [1,1,3,7,5,5,3,9]"
   ]
  },
  {
   "cell_type": "code",
   "execution_count": 39,
   "metadata": {
    "colab": {},
    "colab_type": "code",
    "id": "dLpkP5ZMETiN",
    "outputId": "713adaa9-c0c8-46bb-9b61-79ff001b23de"
   },
   "outputs": [
    {
     "data": {
      "text/html": [
       "<div>\n",
       "<style scoped>\n",
       "    .dataframe tbody tr th:only-of-type {\n",
       "        vertical-align: middle;\n",
       "    }\n",
       "\n",
       "    .dataframe tbody tr th {\n",
       "        vertical-align: top;\n",
       "    }\n",
       "\n",
       "    .dataframe thead th {\n",
       "        text-align: right;\n",
       "    }\n",
       "</style>\n",
       "<table border=\"1\" class=\"dataframe\">\n",
       "  <thead>\n",
       "    <tr style=\"text-align: right;\">\n",
       "      <th></th>\n",
       "      <th>A</th>\n",
       "      <th>B</th>\n",
       "      <th>C</th>\n",
       "      <th>D</th>\n",
       "      <th>E</th>\n",
       "      <th>F</th>\n",
       "      <th>G</th>\n",
       "    </tr>\n",
       "  </thead>\n",
       "  <tbody>\n",
       "    <tr>\n",
       "      <th>0</th>\n",
       "      <td>-0.006120</td>\n",
       "      <td>0.995303</td>\n",
       "      <td>1.295590</td>\n",
       "      <td>-1.315822</td>\n",
       "      <td>0.680437</td>\n",
       "      <td>0.336321</td>\n",
       "      <td>1</td>\n",
       "    </tr>\n",
       "    <tr>\n",
       "      <th>1</th>\n",
       "      <td>0.617469</td>\n",
       "      <td>-0.092009</td>\n",
       "      <td>0.657540</td>\n",
       "      <td>0.769186</td>\n",
       "      <td>-0.413372</td>\n",
       "      <td>-1.038546</td>\n",
       "      <td>1</td>\n",
       "    </tr>\n",
       "    <tr>\n",
       "      <th>2</th>\n",
       "      <td>0.911020</td>\n",
       "      <td>0.236724</td>\n",
       "      <td>0.646495</td>\n",
       "      <td>0.794445</td>\n",
       "      <td>0.699801</td>\n",
       "      <td>-0.655905</td>\n",
       "      <td>3</td>\n",
       "    </tr>\n",
       "    <tr>\n",
       "      <th>3</th>\n",
       "      <td>-1.634440</td>\n",
       "      <td>-0.457585</td>\n",
       "      <td>0.415220</td>\n",
       "      <td>1.930824</td>\n",
       "      <td>1.413390</td>\n",
       "      <td>-1.406453</td>\n",
       "      <td>7</td>\n",
       "    </tr>\n",
       "    <tr>\n",
       "      <th>4</th>\n",
       "      <td>0.884871</td>\n",
       "      <td>-0.565394</td>\n",
       "      <td>-0.033965</td>\n",
       "      <td>0.329885</td>\n",
       "      <td>0.849439</td>\n",
       "      <td>-0.064877</td>\n",
       "      <td>5</td>\n",
       "    </tr>\n",
       "    <tr>\n",
       "      <th>5</th>\n",
       "      <td>0.452536</td>\n",
       "      <td>-1.149487</td>\n",
       "      <td>-0.527991</td>\n",
       "      <td>-0.481837</td>\n",
       "      <td>0.646394</td>\n",
       "      <td>0.233137</td>\n",
       "      <td>5</td>\n",
       "    </tr>\n",
       "    <tr>\n",
       "      <th>6</th>\n",
       "      <td>-0.212473</td>\n",
       "      <td>1.171074</td>\n",
       "      <td>1.709416</td>\n",
       "      <td>-0.118912</td>\n",
       "      <td>-0.433531</td>\n",
       "      <td>1.279646</td>\n",
       "      <td>3</td>\n",
       "    </tr>\n",
       "    <tr>\n",
       "      <th>7</th>\n",
       "      <td>-0.857506</td>\n",
       "      <td>1.412557</td>\n",
       "      <td>0.400593</td>\n",
       "      <td>0.652157</td>\n",
       "      <td>0.406363</td>\n",
       "      <td>-0.414815</td>\n",
       "      <td>9</td>\n",
       "    </tr>\n",
       "  </tbody>\n",
       "</table>\n",
       "</div>"
      ],
      "text/plain": [
       "          A         B         C         D         E         F  G\n",
       "0 -0.006120  0.995303  1.295590 -1.315822  0.680437  0.336321  1\n",
       "1  0.617469 -0.092009  0.657540  0.769186 -0.413372 -1.038546  1\n",
       "2  0.911020  0.236724  0.646495  0.794445  0.699801 -0.655905  3\n",
       "3 -1.634440 -0.457585  0.415220  1.930824  1.413390 -1.406453  7\n",
       "4  0.884871 -0.565394 -0.033965  0.329885  0.849439 -0.064877  5\n",
       "5  0.452536 -1.149487 -0.527991 -0.481837  0.646394  0.233137  5\n",
       "6 -0.212473  1.171074  1.709416 -0.118912 -0.433531  1.279646  3\n",
       "7 -0.857506  1.412557  0.400593  0.652157  0.406363 -0.414815  9"
      ]
     },
     "execution_count": 39,
     "metadata": {},
     "output_type": "execute_result"
    }
   ],
   "source": [
    "df"
   ]
  },
  {
   "cell_type": "markdown",
   "metadata": {
    "colab_type": "text",
    "id": "WK8_jJNaETiO"
   },
   "source": [
    "One important thing to note is that if we slice out rows or columns, Python makes a *copy*, so any changes we make won't appear.  If we sliced out rows 2:4, and multiplied by 0, we see we get:"
   ]
  },
  {
   "cell_type": "code",
   "execution_count": 40,
   "metadata": {
    "colab": {},
    "colab_type": "code",
    "id": "17xrmDa-ETiP",
    "outputId": "2f69784c-6a13-4e13-925c-aedf302d90c7"
   },
   "outputs": [
    {
     "data": {
      "text/html": [
       "<div>\n",
       "<style scoped>\n",
       "    .dataframe tbody tr th:only-of-type {\n",
       "        vertical-align: middle;\n",
       "    }\n",
       "\n",
       "    .dataframe tbody tr th {\n",
       "        vertical-align: top;\n",
       "    }\n",
       "\n",
       "    .dataframe thead th {\n",
       "        text-align: right;\n",
       "    }\n",
       "</style>\n",
       "<table border=\"1\" class=\"dataframe\">\n",
       "  <thead>\n",
       "    <tr style=\"text-align: right;\">\n",
       "      <th></th>\n",
       "      <th>A</th>\n",
       "      <th>B</th>\n",
       "      <th>C</th>\n",
       "      <th>D</th>\n",
       "      <th>E</th>\n",
       "      <th>F</th>\n",
       "      <th>G</th>\n",
       "    </tr>\n",
       "  </thead>\n",
       "  <tbody>\n",
       "    <tr>\n",
       "      <th>2</th>\n",
       "      <td>0.0</td>\n",
       "      <td>0.0</td>\n",
       "      <td>0.0</td>\n",
       "      <td>0.0</td>\n",
       "      <td>0.0</td>\n",
       "      <td>-0.0</td>\n",
       "      <td>0</td>\n",
       "    </tr>\n",
       "    <tr>\n",
       "      <th>3</th>\n",
       "      <td>-0.0</td>\n",
       "      <td>-0.0</td>\n",
       "      <td>0.0</td>\n",
       "      <td>0.0</td>\n",
       "      <td>0.0</td>\n",
       "      <td>-0.0</td>\n",
       "      <td>0</td>\n",
       "    </tr>\n",
       "  </tbody>\n",
       "</table>\n",
       "</div>"
      ],
      "text/plain": [
       "     A    B    C    D    E    F  G\n",
       "2  0.0  0.0  0.0  0.0  0.0 -0.0  0\n",
       "3 -0.0 -0.0  0.0  0.0  0.0 -0.0  0"
      ]
     },
     "execution_count": 40,
     "metadata": {},
     "output_type": "execute_result"
    }
   ],
   "source": [
    "df[2:4]*0"
   ]
  },
  {
   "cell_type": "code",
   "execution_count": 41,
   "metadata": {
    "colab": {},
    "colab_type": "code",
    "id": "5hWK7dP1ETiS",
    "outputId": "52ffb184-fa6e-4c69-fc27-8c07527f7c2d"
   },
   "outputs": [
    {
     "data": {
      "text/html": [
       "<div>\n",
       "<style scoped>\n",
       "    .dataframe tbody tr th:only-of-type {\n",
       "        vertical-align: middle;\n",
       "    }\n",
       "\n",
       "    .dataframe tbody tr th {\n",
       "        vertical-align: top;\n",
       "    }\n",
       "\n",
       "    .dataframe thead th {\n",
       "        text-align: right;\n",
       "    }\n",
       "</style>\n",
       "<table border=\"1\" class=\"dataframe\">\n",
       "  <thead>\n",
       "    <tr style=\"text-align: right;\">\n",
       "      <th></th>\n",
       "      <th>A</th>\n",
       "      <th>B</th>\n",
       "      <th>C</th>\n",
       "      <th>D</th>\n",
       "      <th>E</th>\n",
       "      <th>F</th>\n",
       "      <th>G</th>\n",
       "    </tr>\n",
       "  </thead>\n",
       "  <tbody>\n",
       "    <tr>\n",
       "      <th>0</th>\n",
       "      <td>-0.006120</td>\n",
       "      <td>0.995303</td>\n",
       "      <td>1.295590</td>\n",
       "      <td>-1.315822</td>\n",
       "      <td>0.680437</td>\n",
       "      <td>0.336321</td>\n",
       "      <td>1</td>\n",
       "    </tr>\n",
       "    <tr>\n",
       "      <th>1</th>\n",
       "      <td>0.617469</td>\n",
       "      <td>-0.092009</td>\n",
       "      <td>0.657540</td>\n",
       "      <td>0.769186</td>\n",
       "      <td>-0.413372</td>\n",
       "      <td>-1.038546</td>\n",
       "      <td>1</td>\n",
       "    </tr>\n",
       "    <tr>\n",
       "      <th>2</th>\n",
       "      <td>0.911020</td>\n",
       "      <td>0.236724</td>\n",
       "      <td>0.646495</td>\n",
       "      <td>0.794445</td>\n",
       "      <td>0.699801</td>\n",
       "      <td>-0.655905</td>\n",
       "      <td>3</td>\n",
       "    </tr>\n",
       "    <tr>\n",
       "      <th>3</th>\n",
       "      <td>-1.634440</td>\n",
       "      <td>-0.457585</td>\n",
       "      <td>0.415220</td>\n",
       "      <td>1.930824</td>\n",
       "      <td>1.413390</td>\n",
       "      <td>-1.406453</td>\n",
       "      <td>7</td>\n",
       "    </tr>\n",
       "    <tr>\n",
       "      <th>4</th>\n",
       "      <td>0.884871</td>\n",
       "      <td>-0.565394</td>\n",
       "      <td>-0.033965</td>\n",
       "      <td>0.329885</td>\n",
       "      <td>0.849439</td>\n",
       "      <td>-0.064877</td>\n",
       "      <td>5</td>\n",
       "    </tr>\n",
       "    <tr>\n",
       "      <th>5</th>\n",
       "      <td>0.452536</td>\n",
       "      <td>-1.149487</td>\n",
       "      <td>-0.527991</td>\n",
       "      <td>-0.481837</td>\n",
       "      <td>0.646394</td>\n",
       "      <td>0.233137</td>\n",
       "      <td>5</td>\n",
       "    </tr>\n",
       "    <tr>\n",
       "      <th>6</th>\n",
       "      <td>-0.212473</td>\n",
       "      <td>1.171074</td>\n",
       "      <td>1.709416</td>\n",
       "      <td>-0.118912</td>\n",
       "      <td>-0.433531</td>\n",
       "      <td>1.279646</td>\n",
       "      <td>3</td>\n",
       "    </tr>\n",
       "    <tr>\n",
       "      <th>7</th>\n",
       "      <td>-0.857506</td>\n",
       "      <td>1.412557</td>\n",
       "      <td>0.400593</td>\n",
       "      <td>0.652157</td>\n",
       "      <td>0.406363</td>\n",
       "      <td>-0.414815</td>\n",
       "      <td>9</td>\n",
       "    </tr>\n",
       "  </tbody>\n",
       "</table>\n",
       "</div>"
      ],
      "text/plain": [
       "          A         B         C         D         E         F  G\n",
       "0 -0.006120  0.995303  1.295590 -1.315822  0.680437  0.336321  1\n",
       "1  0.617469 -0.092009  0.657540  0.769186 -0.413372 -1.038546  1\n",
       "2  0.911020  0.236724  0.646495  0.794445  0.699801 -0.655905  3\n",
       "3 -1.634440 -0.457585  0.415220  1.930824  1.413390 -1.406453  7\n",
       "4  0.884871 -0.565394 -0.033965  0.329885  0.849439 -0.064877  5\n",
       "5  0.452536 -1.149487 -0.527991 -0.481837  0.646394  0.233137  5\n",
       "6 -0.212473  1.171074  1.709416 -0.118912 -0.433531  1.279646  3\n",
       "7 -0.857506  1.412557  0.400593  0.652157  0.406363 -0.414815  9"
      ]
     },
     "execution_count": 41,
     "metadata": {},
     "output_type": "execute_result"
    }
   ],
   "source": [
    "df"
   ]
  },
  {
   "cell_type": "markdown",
   "metadata": {
    "colab_type": "text",
    "id": "_nAsjjI6ETiV"
   },
   "source": [
    "The rows remain unchanged in df.  Similarly for columns:"
   ]
  },
  {
   "cell_type": "code",
   "execution_count": 42,
   "metadata": {
    "colab": {},
    "colab_type": "code",
    "id": "bXMvk2oFETiZ",
    "outputId": "829dbae3-11ba-435a-9270-fd299e41db68"
   },
   "outputs": [
    {
     "data": {
      "text/plain": [
       "0   -0.0\n",
       "1    0.0\n",
       "2    0.0\n",
       "3   -0.0\n",
       "4    0.0\n",
       "5    0.0\n",
       "6   -0.0\n",
       "7   -0.0\n",
       "Name: A, dtype: float64"
      ]
     },
     "execution_count": 42,
     "metadata": {},
     "output_type": "execute_result"
    }
   ],
   "source": [
    "df['A']*0"
   ]
  },
  {
   "cell_type": "code",
   "execution_count": 43,
   "metadata": {
    "colab": {},
    "colab_type": "code",
    "id": "nILh8JoNETib",
    "outputId": "427ac0da-4384-49d1-84cb-b39455380b32"
   },
   "outputs": [
    {
     "data": {
      "text/html": [
       "<div>\n",
       "<style scoped>\n",
       "    .dataframe tbody tr th:only-of-type {\n",
       "        vertical-align: middle;\n",
       "    }\n",
       "\n",
       "    .dataframe tbody tr th {\n",
       "        vertical-align: top;\n",
       "    }\n",
       "\n",
       "    .dataframe thead th {\n",
       "        text-align: right;\n",
       "    }\n",
       "</style>\n",
       "<table border=\"1\" class=\"dataframe\">\n",
       "  <thead>\n",
       "    <tr style=\"text-align: right;\">\n",
       "      <th></th>\n",
       "      <th>A</th>\n",
       "      <th>B</th>\n",
       "      <th>C</th>\n",
       "      <th>D</th>\n",
       "      <th>E</th>\n",
       "      <th>F</th>\n",
       "      <th>G</th>\n",
       "    </tr>\n",
       "  </thead>\n",
       "  <tbody>\n",
       "    <tr>\n",
       "      <th>0</th>\n",
       "      <td>-0.006120</td>\n",
       "      <td>0.995303</td>\n",
       "      <td>1.295590</td>\n",
       "      <td>-1.315822</td>\n",
       "      <td>0.680437</td>\n",
       "      <td>0.336321</td>\n",
       "      <td>1</td>\n",
       "    </tr>\n",
       "    <tr>\n",
       "      <th>1</th>\n",
       "      <td>0.617469</td>\n",
       "      <td>-0.092009</td>\n",
       "      <td>0.657540</td>\n",
       "      <td>0.769186</td>\n",
       "      <td>-0.413372</td>\n",
       "      <td>-1.038546</td>\n",
       "      <td>1</td>\n",
       "    </tr>\n",
       "    <tr>\n",
       "      <th>2</th>\n",
       "      <td>0.911020</td>\n",
       "      <td>0.236724</td>\n",
       "      <td>0.646495</td>\n",
       "      <td>0.794445</td>\n",
       "      <td>0.699801</td>\n",
       "      <td>-0.655905</td>\n",
       "      <td>3</td>\n",
       "    </tr>\n",
       "    <tr>\n",
       "      <th>3</th>\n",
       "      <td>-1.634440</td>\n",
       "      <td>-0.457585</td>\n",
       "      <td>0.415220</td>\n",
       "      <td>1.930824</td>\n",
       "      <td>1.413390</td>\n",
       "      <td>-1.406453</td>\n",
       "      <td>7</td>\n",
       "    </tr>\n",
       "    <tr>\n",
       "      <th>4</th>\n",
       "      <td>0.884871</td>\n",
       "      <td>-0.565394</td>\n",
       "      <td>-0.033965</td>\n",
       "      <td>0.329885</td>\n",
       "      <td>0.849439</td>\n",
       "      <td>-0.064877</td>\n",
       "      <td>5</td>\n",
       "    </tr>\n",
       "    <tr>\n",
       "      <th>5</th>\n",
       "      <td>0.452536</td>\n",
       "      <td>-1.149487</td>\n",
       "      <td>-0.527991</td>\n",
       "      <td>-0.481837</td>\n",
       "      <td>0.646394</td>\n",
       "      <td>0.233137</td>\n",
       "      <td>5</td>\n",
       "    </tr>\n",
       "    <tr>\n",
       "      <th>6</th>\n",
       "      <td>-0.212473</td>\n",
       "      <td>1.171074</td>\n",
       "      <td>1.709416</td>\n",
       "      <td>-0.118912</td>\n",
       "      <td>-0.433531</td>\n",
       "      <td>1.279646</td>\n",
       "      <td>3</td>\n",
       "    </tr>\n",
       "    <tr>\n",
       "      <th>7</th>\n",
       "      <td>-0.857506</td>\n",
       "      <td>1.412557</td>\n",
       "      <td>0.400593</td>\n",
       "      <td>0.652157</td>\n",
       "      <td>0.406363</td>\n",
       "      <td>-0.414815</td>\n",
       "      <td>9</td>\n",
       "    </tr>\n",
       "  </tbody>\n",
       "</table>\n",
       "</div>"
      ],
      "text/plain": [
       "          A         B         C         D         E         F  G\n",
       "0 -0.006120  0.995303  1.295590 -1.315822  0.680437  0.336321  1\n",
       "1  0.617469 -0.092009  0.657540  0.769186 -0.413372 -1.038546  1\n",
       "2  0.911020  0.236724  0.646495  0.794445  0.699801 -0.655905  3\n",
       "3 -1.634440 -0.457585  0.415220  1.930824  1.413390 -1.406453  7\n",
       "4  0.884871 -0.565394 -0.033965  0.329885  0.849439 -0.064877  5\n",
       "5  0.452536 -1.149487 -0.527991 -0.481837  0.646394  0.233137  5\n",
       "6 -0.212473  1.171074  1.709416 -0.118912 -0.433531  1.279646  3\n",
       "7 -0.857506  1.412557  0.400593  0.652157  0.406363 -0.414815  9"
      ]
     },
     "execution_count": 43,
     "metadata": {},
     "output_type": "execute_result"
    }
   ],
   "source": [
    "df"
   ]
  },
  {
   "cell_type": "markdown",
   "metadata": {
    "colab_type": "text",
    "id": "GueG6UeTETid"
   },
   "source": [
    "To do the computation in-place, we have to redefine the rows/columns:"
   ]
  },
  {
   "cell_type": "code",
   "execution_count": 44,
   "metadata": {
    "colab": {},
    "colab_type": "code",
    "id": "hCAx7ZtsETie",
    "outputId": "5f7cd7ea-7799-47dc-a9f2-643a6db71e2c"
   },
   "outputs": [
    {
     "data": {
      "text/html": [
       "<div>\n",
       "<style scoped>\n",
       "    .dataframe tbody tr th:only-of-type {\n",
       "        vertical-align: middle;\n",
       "    }\n",
       "\n",
       "    .dataframe tbody tr th {\n",
       "        vertical-align: top;\n",
       "    }\n",
       "\n",
       "    .dataframe thead th {\n",
       "        text-align: right;\n",
       "    }\n",
       "</style>\n",
       "<table border=\"1\" class=\"dataframe\">\n",
       "  <thead>\n",
       "    <tr style=\"text-align: right;\">\n",
       "      <th></th>\n",
       "      <th>A</th>\n",
       "      <th>B</th>\n",
       "      <th>C</th>\n",
       "      <th>D</th>\n",
       "      <th>E</th>\n",
       "      <th>F</th>\n",
       "      <th>G</th>\n",
       "    </tr>\n",
       "  </thead>\n",
       "  <tbody>\n",
       "    <tr>\n",
       "      <th>0</th>\n",
       "      <td>-0.0</td>\n",
       "      <td>0.995303</td>\n",
       "      <td>1.295590</td>\n",
       "      <td>-1.315822</td>\n",
       "      <td>0.680437</td>\n",
       "      <td>0.336321</td>\n",
       "      <td>1</td>\n",
       "    </tr>\n",
       "    <tr>\n",
       "      <th>1</th>\n",
       "      <td>0.0</td>\n",
       "      <td>-0.092009</td>\n",
       "      <td>0.657540</td>\n",
       "      <td>0.769186</td>\n",
       "      <td>-0.413372</td>\n",
       "      <td>-1.038546</td>\n",
       "      <td>1</td>\n",
       "    </tr>\n",
       "    <tr>\n",
       "      <th>2</th>\n",
       "      <td>0.0</td>\n",
       "      <td>0.236724</td>\n",
       "      <td>0.646495</td>\n",
       "      <td>0.794445</td>\n",
       "      <td>0.699801</td>\n",
       "      <td>-0.655905</td>\n",
       "      <td>3</td>\n",
       "    </tr>\n",
       "    <tr>\n",
       "      <th>3</th>\n",
       "      <td>-0.0</td>\n",
       "      <td>-0.457585</td>\n",
       "      <td>0.415220</td>\n",
       "      <td>1.930824</td>\n",
       "      <td>1.413390</td>\n",
       "      <td>-1.406453</td>\n",
       "      <td>7</td>\n",
       "    </tr>\n",
       "    <tr>\n",
       "      <th>4</th>\n",
       "      <td>0.0</td>\n",
       "      <td>-0.565394</td>\n",
       "      <td>-0.033965</td>\n",
       "      <td>0.329885</td>\n",
       "      <td>0.849439</td>\n",
       "      <td>-0.064877</td>\n",
       "      <td>5</td>\n",
       "    </tr>\n",
       "    <tr>\n",
       "      <th>5</th>\n",
       "      <td>0.0</td>\n",
       "      <td>-1.149487</td>\n",
       "      <td>-0.527991</td>\n",
       "      <td>-0.481837</td>\n",
       "      <td>0.646394</td>\n",
       "      <td>0.233137</td>\n",
       "      <td>5</td>\n",
       "    </tr>\n",
       "    <tr>\n",
       "      <th>6</th>\n",
       "      <td>-0.0</td>\n",
       "      <td>1.171074</td>\n",
       "      <td>1.709416</td>\n",
       "      <td>-0.118912</td>\n",
       "      <td>-0.433531</td>\n",
       "      <td>1.279646</td>\n",
       "      <td>3</td>\n",
       "    </tr>\n",
       "    <tr>\n",
       "      <th>7</th>\n",
       "      <td>-0.0</td>\n",
       "      <td>1.412557</td>\n",
       "      <td>0.400593</td>\n",
       "      <td>0.652157</td>\n",
       "      <td>0.406363</td>\n",
       "      <td>-0.414815</td>\n",
       "      <td>9</td>\n",
       "    </tr>\n",
       "  </tbody>\n",
       "</table>\n",
       "</div>"
      ],
      "text/plain": [
       "     A         B         C         D         E         F  G\n",
       "0 -0.0  0.995303  1.295590 -1.315822  0.680437  0.336321  1\n",
       "1  0.0 -0.092009  0.657540  0.769186 -0.413372 -1.038546  1\n",
       "2  0.0  0.236724  0.646495  0.794445  0.699801 -0.655905  3\n",
       "3 -0.0 -0.457585  0.415220  1.930824  1.413390 -1.406453  7\n",
       "4  0.0 -0.565394 -0.033965  0.329885  0.849439 -0.064877  5\n",
       "5  0.0 -1.149487 -0.527991 -0.481837  0.646394  0.233137  5\n",
       "6 -0.0  1.171074  1.709416 -0.118912 -0.433531  1.279646  3\n",
       "7 -0.0  1.412557  0.400593  0.652157  0.406363 -0.414815  9"
      ]
     },
     "execution_count": 44,
     "metadata": {},
     "output_type": "execute_result"
    }
   ],
   "source": [
    "df['A'] = df['A']*0\n",
    "df"
   ]
  },
  {
   "cell_type": "markdown",
   "metadata": {
    "colab_type": "text",
    "id": "NLvePY2_ETif"
   },
   "source": [
    "### Reading and Writing Data\n",
    "\n",
    "Usually when we work with data, we will do so by loading a file into Pandas rather than creating the dataframe from scratch using Pandas as we did above. We will work with files in the `.csv` format as well as in the `.H5` (HDF5) format. In the class resources page there is a link to the file `canada_cpi.csv`. Make sure you have that file saved into your ```.../notebooks/data``` directory, and then run the code block below.\n",
    "\n",
    "**Tip:** The notebook is pretty smart at autocompleting file paths. If you begin typing `dm = pd.read_csv('data/` and hit the `TAB` key, it should come up with a list of the contents of the directory and you can scroll to the file you want and hit `ENTER` to select it."
   ]
  },
  {
   "cell_type": "code",
   "execution_count": 35,
   "metadata": {
    "colab": {},
    "colab_type": "code",
    "id": "IhA3BjgTETif",
    "outputId": "879294ba-c272-4a26-b37e-cab0caf95d95"
   },
   "outputs": [],
   "source": [
    "import pandas as pd\n",
    "dm = pd.read_csv('data/canada_cpi.csv')"
   ]
  },
  {
   "cell_type": "markdown",
   "metadata": {
    "colab_type": "text",
    "id": "OnDgjXUHETif"
   },
   "source": [
    "This file contains a time series of the Canadian Consumer Price Index (CPI). The CPI is a way of measuring the rate of inflation over time. The dataset was obtained from the [Bank of Canada Statistical Database at Quandl](https://www.quandl.com/data/BOC-Bank-of-Canada-Statistical-Database).\n",
    "\n",
    "When we first load a new dataset into a notebook, it is useful to have a look at its head and tail to make sure it has loaded up as expected."
   ]
  },
  {
   "cell_type": "code",
   "execution_count": 26,
   "metadata": {
    "colab": {},
    "colab_type": "code",
    "id": "Lkgn0JXBETig",
    "outputId": "f20abef5-94f2-4c84-fb87-eddfc6c334cf"
   },
   "outputs": [
    {
     "data": {
      "text/html": [
       "<div>\n",
       "<style scoped>\n",
       "    .dataframe tbody tr th:only-of-type {\n",
       "        vertical-align: middle;\n",
       "    }\n",
       "\n",
       "    .dataframe tbody tr th {\n",
       "        vertical-align: top;\n",
       "    }\n",
       "\n",
       "    .dataframe thead th {\n",
       "        text-align: right;\n",
       "    }\n",
       "</style>\n",
       "<table border=\"1\" class=\"dataframe\">\n",
       "  <thead>\n",
       "    <tr style=\"text-align: right;\">\n",
       "      <th></th>\n",
       "      <th>Month</th>\n",
       "      <th>Total CPI</th>\n",
       "      <th>Total CPI S.A.</th>\n",
       "      <th>Core CPI</th>\n",
       "      <th>% Change 1 Yr: Total CPI</th>\n",
       "      <th>% Change 1 Yr: Core CPI</th>\n",
       "      <th>% Change 1 Yr: CPI-XFET</th>\n",
       "      <th>% Change 1 Yr: CPIW</th>\n",
       "    </tr>\n",
       "  </thead>\n",
       "  <tbody>\n",
       "    <tr>\n",
       "      <th>0</th>\n",
       "      <td>2018-06-30</td>\n",
       "      <td>133.6</td>\n",
       "      <td>133.0</td>\n",
       "      <td>2.5</td>\n",
       "      <td>2.0</td>\n",
       "      <td>2.0</td>\n",
       "      <td>1.9</td>\n",
       "      <td>1.3</td>\n",
       "    </tr>\n",
       "    <tr>\n",
       "      <th>1</th>\n",
       "      <td>2018-05-31</td>\n",
       "      <td>133.4</td>\n",
       "      <td>132.9</td>\n",
       "      <td>2.2</td>\n",
       "      <td>1.9</td>\n",
       "      <td>2.0</td>\n",
       "      <td>1.9</td>\n",
       "      <td>1.3</td>\n",
       "    </tr>\n",
       "    <tr>\n",
       "      <th>2</th>\n",
       "      <td>2018-04-30</td>\n",
       "      <td>133.3</td>\n",
       "      <td>132.8</td>\n",
       "      <td>2.2</td>\n",
       "      <td>2.1</td>\n",
       "      <td>2.0</td>\n",
       "      <td>1.9</td>\n",
       "      <td>1.5</td>\n",
       "    </tr>\n",
       "    <tr>\n",
       "      <th>3</th>\n",
       "      <td>2018-03-31</td>\n",
       "      <td>132.9</td>\n",
       "      <td>132.7</td>\n",
       "      <td>2.3</td>\n",
       "      <td>2.0</td>\n",
       "      <td>2.0</td>\n",
       "      <td>1.9</td>\n",
       "      <td>1.4</td>\n",
       "    </tr>\n",
       "    <tr>\n",
       "      <th>4</th>\n",
       "      <td>2018-02-28</td>\n",
       "      <td>132.5</td>\n",
       "      <td>132.6</td>\n",
       "      <td>2.2</td>\n",
       "      <td>2.1</td>\n",
       "      <td>2.0</td>\n",
       "      <td>1.9</td>\n",
       "      <td>1.5</td>\n",
       "    </tr>\n",
       "  </tbody>\n",
       "</table>\n",
       "</div>"
      ],
      "text/plain": [
       "        Month  Total CPI  Total CPI S.A.  Core CPI  % Change 1 Yr: Total CPI  \\\n",
       "0  2018-06-30      133.6           133.0       2.5                       2.0   \n",
       "1  2018-05-31      133.4           132.9       2.2                       1.9   \n",
       "2  2018-04-30      133.3           132.8       2.2                       2.1   \n",
       "3  2018-03-31      132.9           132.7       2.3                       2.0   \n",
       "4  2018-02-28      132.5           132.6       2.2                       2.1   \n",
       "\n",
       "   % Change 1 Yr: Core CPI  % Change 1 Yr: CPI-XFET  % Change 1 Yr: CPIW  \n",
       "0                      2.0                      1.9                  1.3  \n",
       "1                      2.0                      1.9                  1.3  \n",
       "2                      2.0                      1.9                  1.5  \n",
       "3                      2.0                      1.9                  1.4  \n",
       "4                      2.0                      1.9                  1.5  "
      ]
     },
     "execution_count": 26,
     "metadata": {},
     "output_type": "execute_result"
    }
   ],
   "source": [
    "dm.head() #head takes first 5 values"
   ]
  },
  {
   "cell_type": "code",
   "execution_count": 48,
   "metadata": {
    "colab": {},
    "colab_type": "code",
    "id": "kSYGckxAETig",
    "outputId": "6e62a735-5a3b-4c35-d6b8-0ab488de6924"
   },
   "outputs": [
    {
     "data": {
      "text/html": [
       "<div>\n",
       "<style scoped>\n",
       "    .dataframe tbody tr th:only-of-type {\n",
       "        vertical-align: middle;\n",
       "    }\n",
       "\n",
       "    .dataframe tbody tr th {\n",
       "        vertical-align: top;\n",
       "    }\n",
       "\n",
       "    .dataframe thead th {\n",
       "        text-align: right;\n",
       "    }\n",
       "</style>\n",
       "<table border=\"1\" class=\"dataframe\">\n",
       "  <thead>\n",
       "    <tr style=\"text-align: right;\">\n",
       "      <th></th>\n",
       "      <th>Month</th>\n",
       "      <th>Total CPI</th>\n",
       "      <th>Total CPI S.A.</th>\n",
       "      <th>Core CPI</th>\n",
       "      <th>% Change 1 Yr: Total CPI</th>\n",
       "      <th>% Change 1 Yr: Core CPI</th>\n",
       "      <th>% Change 1 Yr: CPI-XFET</th>\n",
       "      <th>% Change 1 Yr: CPIW</th>\n",
       "    </tr>\n",
       "  </thead>\n",
       "  <tbody>\n",
       "    <tr>\n",
       "      <th>217</th>\n",
       "      <td>2000-05-31</td>\n",
       "      <td>94.9</td>\n",
       "      <td>94.7</td>\n",
       "      <td>2.4</td>\n",
       "      <td>1.6</td>\n",
       "      <td>1.4</td>\n",
       "      <td>1.6</td>\n",
       "      <td>1.1</td>\n",
       "    </tr>\n",
       "    <tr>\n",
       "      <th>218</th>\n",
       "      <td>2000-04-30</td>\n",
       "      <td>94.5</td>\n",
       "      <td>94.4</td>\n",
       "      <td>2.2</td>\n",
       "      <td>1.5</td>\n",
       "      <td>1.3</td>\n",
       "      <td>1.4</td>\n",
       "      <td>1.2</td>\n",
       "    </tr>\n",
       "    <tr>\n",
       "      <th>219</th>\n",
       "      <td>2000-03-31</td>\n",
       "      <td>94.8</td>\n",
       "      <td>94.8</td>\n",
       "      <td>3.0</td>\n",
       "      <td>1.6</td>\n",
       "      <td>1.4</td>\n",
       "      <td>1.5</td>\n",
       "      <td>1.3</td>\n",
       "    </tr>\n",
       "    <tr>\n",
       "      <th>220</th>\n",
       "      <td>2000-02-29</td>\n",
       "      <td>94.1</td>\n",
       "      <td>94.3</td>\n",
       "      <td>2.7</td>\n",
       "      <td>1.6</td>\n",
       "      <td>1.4</td>\n",
       "      <td>1.5</td>\n",
       "      <td>1.3</td>\n",
       "    </tr>\n",
       "    <tr>\n",
       "      <th>221</th>\n",
       "      <td>2000-01-31</td>\n",
       "      <td>93.5</td>\n",
       "      <td>94.0</td>\n",
       "      <td>2.2</td>\n",
       "      <td>1.5</td>\n",
       "      <td>1.3</td>\n",
       "      <td>1.5</td>\n",
       "      <td>1.2</td>\n",
       "    </tr>\n",
       "  </tbody>\n",
       "</table>\n",
       "</div>"
      ],
      "text/plain": [
       "          Month  Total CPI  Total CPI S.A.  Core CPI  \\\n",
       "217  2000-05-31       94.9            94.7       2.4   \n",
       "218  2000-04-30       94.5            94.4       2.2   \n",
       "219  2000-03-31       94.8            94.8       3.0   \n",
       "220  2000-02-29       94.1            94.3       2.7   \n",
       "221  2000-01-31       93.5            94.0       2.2   \n",
       "\n",
       "     % Change 1 Yr: Total CPI  % Change 1 Yr: Core CPI  \\\n",
       "217                       1.6                      1.4   \n",
       "218                       1.5                      1.3   \n",
       "219                       1.6                      1.4   \n",
       "220                       1.6                      1.4   \n",
       "221                       1.5                      1.3   \n",
       "\n",
       "     % Change 1 Yr: CPI-XFET  % Change 1 Yr: CPIW  \n",
       "217                      1.6                  1.1  \n",
       "218                      1.4                  1.2  \n",
       "219                      1.5                  1.3  \n",
       "220                      1.5                  1.3  \n",
       "221                      1.5                  1.2  "
      ]
     },
     "execution_count": 48,
     "metadata": {},
     "output_type": "execute_result"
    }
   ],
   "source": [
    "dm.tail() #tail takes the last 5 vlaues"
   ]
  },
  {
   "cell_type": "markdown",
   "metadata": {
    "colab_type": "text",
    "id": "AvTGlQxIETih"
   },
   "source": [
    "It is also very useful to look at the data types of the columns. We want to make sure that the columns are the types that we expect -- sometimes the pretty-printing of DataFrames in the notebook hides issues with Pandas properly inferring data types."
   ]
  },
  {
   "cell_type": "code",
   "execution_count": 49,
   "metadata": {
    "colab": {},
    "colab_type": "code",
    "id": "DwCzlm3kETih"
   },
   "outputs": [
    {
     "data": {
      "text/plain": [
       "Month                        object\n",
       "Total CPI                   float64\n",
       "Total CPI S.A.              float64\n",
       "Core CPI                    float64\n",
       "% Change 1 Yr: Total CPI    float64\n",
       "% Change 1 Yr: Core CPI     float64\n",
       "% Change 1 Yr: CPI-XFET     float64\n",
       "% Change 1 Yr: CPIW         float64\n",
       "dtype: object"
      ]
     },
     "execution_count": 49,
     "metadata": {},
     "output_type": "execute_result"
    }
   ],
   "source": [
    "dm.dtypes"
   ]
  },
  {
   "cell_type": "markdown",
   "metadata": {
    "colab_type": "text",
    "id": "op_7VkosETik"
   },
   "source": [
    "Pandas is pretty good at inferring the format of .csv files, which is quite a trick since .csv files are actually quite ambiguous. A .csv file does not (usually) contain any _metadata_ to describe to Pandas what type of data is contained in each column. Calling `dm.dtypes` shows us what it guessed. Here it guessed that everything except for `Month` was of type `float64`, which is `numpy`'s representation of a `float`. \n",
    "\n",
    "That's mostly good and correct behavior, however the `Month` column has been read in as an `object` column. `object` is the label that Pandas (by way of NumPy under the hood) gives to data objects if it doesn't recognize what type they are. But Pandas also has representation for `datetime` objects, and we would get a lot more use out of this dataset if we used it! Thankfully, it's easy to fix this:"
   ]
  },
  {
   "cell_type": "code",
   "execution_count": 50,
   "metadata": {
    "colab": {},
    "colab_type": "code",
    "id": "6RmvizAEETik"
   },
   "outputs": [
    {
     "data": {
      "text/plain": [
       "Month                       datetime64[ns]\n",
       "Total CPI                          float64\n",
       "Total CPI S.A.                     float64\n",
       "Core CPI                           float64\n",
       "% Change 1 Yr: Total CPI           float64\n",
       "% Change 1 Yr: Core CPI            float64\n",
       "% Change 1 Yr: CPI-XFET            float64\n",
       "% Change 1 Yr: CPIW                float64\n",
       "dtype: object"
      ]
     },
     "execution_count": 50,
     "metadata": {},
     "output_type": "execute_result"
    }
   ],
   "source": [
    "dm = pd.read_csv('data/canada_cpi.csv', parse_dates=[0])\n",
    "dm.dtypes"
   ]
  },
  {
   "cell_type": "markdown",
   "metadata": {
    "colab_type": "text",
    "id": "27nTHVGYETik"
   },
   "source": [
    "The `parse_dates` argument accepts a list of column indices which we would like Pandas to try to understand as dates. As long as the date is represented consistently and in an unambiguous way, it's good at figuring it out. Here it's worked!"
   ]
  },
  {
   "cell_type": "markdown",
   "metadata": {
    "colab_type": "text",
    "id": "7JLC9TRJETik"
   },
   "source": [
    "#### Reading in Time Series"
   ]
  },
  {
   "cell_type": "markdown",
   "metadata": {
    "colab_type": "text",
    "id": "4IUHcZyJETik"
   },
   "source": [
    "A time series is a dataset where each row represents an observation in time. Not all datasets are time series, but Pandas does have special support for time series, so when we are working with a time series it is useful to let Pandas know. We do this by setting the data type of the index to datetime. In our CPI time series, we can do this on read by specifying that the first column is the index when we read it in."
   ]
  },
  {
   "cell_type": "code",
   "execution_count": 36,
   "metadata": {
    "colab": {},
    "colab_type": "code",
    "id": "8sm6WdYsETik"
   },
   "outputs": [],
   "source": [
    "dm = pd.read_csv('data/canada_cpi.csv', parse_dates=[0], index_col=0)"
   ]
  },
  {
   "cell_type": "code",
   "execution_count": 52,
   "metadata": {
    "colab": {},
    "colab_type": "code",
    "id": "frwTBarqETim"
   },
   "outputs": [
    {
     "data": {
      "text/html": [
       "<div>\n",
       "<style scoped>\n",
       "    .dataframe tbody tr th:only-of-type {\n",
       "        vertical-align: middle;\n",
       "    }\n",
       "\n",
       "    .dataframe tbody tr th {\n",
       "        vertical-align: top;\n",
       "    }\n",
       "\n",
       "    .dataframe thead th {\n",
       "        text-align: right;\n",
       "    }\n",
       "</style>\n",
       "<table border=\"1\" class=\"dataframe\">\n",
       "  <thead>\n",
       "    <tr style=\"text-align: right;\">\n",
       "      <th></th>\n",
       "      <th>Total CPI</th>\n",
       "      <th>Total CPI S.A.</th>\n",
       "      <th>Core CPI</th>\n",
       "      <th>% Change 1 Yr: Total CPI</th>\n",
       "      <th>% Change 1 Yr: Core CPI</th>\n",
       "      <th>% Change 1 Yr: CPI-XFET</th>\n",
       "      <th>% Change 1 Yr: CPIW</th>\n",
       "    </tr>\n",
       "    <tr>\n",
       "      <th>Month</th>\n",
       "      <th></th>\n",
       "      <th></th>\n",
       "      <th></th>\n",
       "      <th></th>\n",
       "      <th></th>\n",
       "      <th></th>\n",
       "      <th></th>\n",
       "    </tr>\n",
       "  </thead>\n",
       "  <tbody>\n",
       "    <tr>\n",
       "      <th>2018-06-30</th>\n",
       "      <td>133.6</td>\n",
       "      <td>133.0</td>\n",
       "      <td>2.5</td>\n",
       "      <td>2.0</td>\n",
       "      <td>2.0</td>\n",
       "      <td>1.9</td>\n",
       "      <td>1.3</td>\n",
       "    </tr>\n",
       "    <tr>\n",
       "      <th>2018-05-31</th>\n",
       "      <td>133.4</td>\n",
       "      <td>132.9</td>\n",
       "      <td>2.2</td>\n",
       "      <td>1.9</td>\n",
       "      <td>2.0</td>\n",
       "      <td>1.9</td>\n",
       "      <td>1.3</td>\n",
       "    </tr>\n",
       "    <tr>\n",
       "      <th>2018-04-30</th>\n",
       "      <td>133.3</td>\n",
       "      <td>132.8</td>\n",
       "      <td>2.2</td>\n",
       "      <td>2.1</td>\n",
       "      <td>2.0</td>\n",
       "      <td>1.9</td>\n",
       "      <td>1.5</td>\n",
       "    </tr>\n",
       "    <tr>\n",
       "      <th>2018-03-31</th>\n",
       "      <td>132.9</td>\n",
       "      <td>132.7</td>\n",
       "      <td>2.3</td>\n",
       "      <td>2.0</td>\n",
       "      <td>2.0</td>\n",
       "      <td>1.9</td>\n",
       "      <td>1.4</td>\n",
       "    </tr>\n",
       "    <tr>\n",
       "      <th>2018-02-28</th>\n",
       "      <td>132.5</td>\n",
       "      <td>132.6</td>\n",
       "      <td>2.2</td>\n",
       "      <td>2.1</td>\n",
       "      <td>2.0</td>\n",
       "      <td>1.9</td>\n",
       "      <td>1.5</td>\n",
       "    </tr>\n",
       "  </tbody>\n",
       "</table>\n",
       "</div>"
      ],
      "text/plain": [
       "            Total CPI  Total CPI S.A.  Core CPI  % Change 1 Yr: Total CPI  \\\n",
       "Month                                                                       \n",
       "2018-06-30      133.6           133.0       2.5                       2.0   \n",
       "2018-05-31      133.4           132.9       2.2                       1.9   \n",
       "2018-04-30      133.3           132.8       2.2                       2.1   \n",
       "2018-03-31      132.9           132.7       2.3                       2.0   \n",
       "2018-02-28      132.5           132.6       2.2                       2.1   \n",
       "\n",
       "            % Change 1 Yr: Core CPI  % Change 1 Yr: CPI-XFET  \\\n",
       "Month                                                          \n",
       "2018-06-30                      2.0                      1.9   \n",
       "2018-05-31                      2.0                      1.9   \n",
       "2018-04-30                      2.0                      1.9   \n",
       "2018-03-31                      2.0                      1.9   \n",
       "2018-02-28                      2.0                      1.9   \n",
       "\n",
       "            % Change 1 Yr: CPIW  \n",
       "Month                            \n",
       "2018-06-30                  1.3  \n",
       "2018-05-31                  1.3  \n",
       "2018-04-30                  1.5  \n",
       "2018-03-31                  1.4  \n",
       "2018-02-28                  1.5  "
      ]
     },
     "execution_count": 52,
     "metadata": {},
     "output_type": "execute_result"
    }
   ],
   "source": [
    "dm.head()"
   ]
  },
  {
   "cell_type": "markdown",
   "metadata": {
    "colab_type": "text",
    "id": "o2cv45mGETin"
   },
   "source": [
    "### Reading and Writing HDF5 and Pickle"
   ]
  },
  {
   "cell_type": "markdown",
   "metadata": {
    "colab_type": "text",
    "id": "5e-OsuYSETio"
   },
   "source": [
    "We'll do a lot more of this kind of stuff in the section on data cleaning, but note that we've already done quite a bit of data cleaning: we read in this CSV file, told Pandas that the first column should be a date, as well as told it that the first column is an index.\n",
    "\n",
    "But if we save this DataFrame as a CSV, we'll lose all of this work! CSV's don't have any way to express metadata about the columns. There are other so-called \"self-describing\" file formats that do keep metadata along with the columns. One is called `pickle`. It is Python's _object serialization_ tool, and you can [read about it in the help if you want](https://docs.python.org/3/library/pickle.html). The other is called HDF5, and it is a cross-language data format that is used in many environments. HDF5 files are more complicated than `pickle` files. You can store multiple data objects in an `HDF5` file, which are indexed by `key`s. Either one is generally fine to use, but `HDF5` does tend to be faster to read and write when your data is large."
   ]
  },
  {
   "cell_type": "code",
   "execution_count": 53,
   "metadata": {
    "colab": {},
    "colab_type": "code",
    "id": "Croysb6sETip"
   },
   "outputs": [],
   "source": [
    "dm.to_csv(\"out.csv\")  # loses metadata\n",
    "dm.to_hdf(\"out.h5\", key='data') # keeps metadata\n",
    "dm.to_pickle('out.pickle') # also keeps metadata"
   ]
  },
  {
   "cell_type": "code",
   "execution_count": 54,
   "metadata": {
    "colab": {},
    "colab_type": "code",
    "id": "7lyYvImkETiq"
   },
   "outputs": [
    {
     "data": {
      "text/html": [
       "<div>\n",
       "<style scoped>\n",
       "    .dataframe tbody tr th:only-of-type {\n",
       "        vertical-align: middle;\n",
       "    }\n",
       "\n",
       "    .dataframe tbody tr th {\n",
       "        vertical-align: top;\n",
       "    }\n",
       "\n",
       "    .dataframe thead th {\n",
       "        text-align: right;\n",
       "    }\n",
       "</style>\n",
       "<table border=\"1\" class=\"dataframe\">\n",
       "  <thead>\n",
       "    <tr style=\"text-align: right;\">\n",
       "      <th></th>\n",
       "      <th>Month</th>\n",
       "      <th>Total CPI</th>\n",
       "      <th>Total CPI S.A.</th>\n",
       "      <th>Core CPI</th>\n",
       "      <th>% Change 1 Yr: Total CPI</th>\n",
       "      <th>% Change 1 Yr: Core CPI</th>\n",
       "      <th>% Change 1 Yr: CPI-XFET</th>\n",
       "      <th>% Change 1 Yr: CPIW</th>\n",
       "    </tr>\n",
       "  </thead>\n",
       "  <tbody>\n",
       "    <tr>\n",
       "      <th>0</th>\n",
       "      <td>2018-06-30</td>\n",
       "      <td>133.6</td>\n",
       "      <td>133.0</td>\n",
       "      <td>2.5</td>\n",
       "      <td>2.0</td>\n",
       "      <td>2.0</td>\n",
       "      <td>1.9</td>\n",
       "      <td>1.3</td>\n",
       "    </tr>\n",
       "    <tr>\n",
       "      <th>1</th>\n",
       "      <td>2018-05-31</td>\n",
       "      <td>133.4</td>\n",
       "      <td>132.9</td>\n",
       "      <td>2.2</td>\n",
       "      <td>1.9</td>\n",
       "      <td>2.0</td>\n",
       "      <td>1.9</td>\n",
       "      <td>1.3</td>\n",
       "    </tr>\n",
       "    <tr>\n",
       "      <th>2</th>\n",
       "      <td>2018-04-30</td>\n",
       "      <td>133.3</td>\n",
       "      <td>132.8</td>\n",
       "      <td>2.2</td>\n",
       "      <td>2.1</td>\n",
       "      <td>2.0</td>\n",
       "      <td>1.9</td>\n",
       "      <td>1.5</td>\n",
       "    </tr>\n",
       "    <tr>\n",
       "      <th>3</th>\n",
       "      <td>2018-03-31</td>\n",
       "      <td>132.9</td>\n",
       "      <td>132.7</td>\n",
       "      <td>2.3</td>\n",
       "      <td>2.0</td>\n",
       "      <td>2.0</td>\n",
       "      <td>1.9</td>\n",
       "      <td>1.4</td>\n",
       "    </tr>\n",
       "    <tr>\n",
       "      <th>4</th>\n",
       "      <td>2018-02-28</td>\n",
       "      <td>132.5</td>\n",
       "      <td>132.6</td>\n",
       "      <td>2.2</td>\n",
       "      <td>2.1</td>\n",
       "      <td>2.0</td>\n",
       "      <td>1.9</td>\n",
       "      <td>1.5</td>\n",
       "    </tr>\n",
       "  </tbody>\n",
       "</table>\n",
       "</div>"
      ],
      "text/plain": [
       "        Month  Total CPI  Total CPI S.A.  Core CPI  % Change 1 Yr: Total CPI  \\\n",
       "0  2018-06-30      133.6           133.0       2.5                       2.0   \n",
       "1  2018-05-31      133.4           132.9       2.2                       1.9   \n",
       "2  2018-04-30      133.3           132.8       2.2                       2.1   \n",
       "3  2018-03-31      132.9           132.7       2.3                       2.0   \n",
       "4  2018-02-28      132.5           132.6       2.2                       2.1   \n",
       "\n",
       "   % Change 1 Yr: Core CPI  % Change 1 Yr: CPI-XFET  % Change 1 Yr: CPIW  \n",
       "0                      2.0                      1.9                  1.3  \n",
       "1                      2.0                      1.9                  1.3  \n",
       "2                      2.0                      1.9                  1.5  \n",
       "3                      2.0                      1.9                  1.4  \n",
       "4                      2.0                      1.9                  1.5  "
      ]
     },
     "execution_count": 54,
     "metadata": {},
     "output_type": "execute_result"
    }
   ],
   "source": [
    "pd.read_csv(\"out.csv\").head()  # see, we lost all our hard work!"
   ]
  },
  {
   "cell_type": "code",
   "execution_count": 55,
   "metadata": {
    "colab": {},
    "colab_type": "code",
    "id": "3RtkklyxETis"
   },
   "outputs": [
    {
     "data": {
      "text/html": [
       "<div>\n",
       "<style scoped>\n",
       "    .dataframe tbody tr th:only-of-type {\n",
       "        vertical-align: middle;\n",
       "    }\n",
       "\n",
       "    .dataframe tbody tr th {\n",
       "        vertical-align: top;\n",
       "    }\n",
       "\n",
       "    .dataframe thead th {\n",
       "        text-align: right;\n",
       "    }\n",
       "</style>\n",
       "<table border=\"1\" class=\"dataframe\">\n",
       "  <thead>\n",
       "    <tr style=\"text-align: right;\">\n",
       "      <th></th>\n",
       "      <th>Total CPI</th>\n",
       "      <th>Total CPI S.A.</th>\n",
       "      <th>Core CPI</th>\n",
       "      <th>% Change 1 Yr: Total CPI</th>\n",
       "      <th>% Change 1 Yr: Core CPI</th>\n",
       "      <th>% Change 1 Yr: CPI-XFET</th>\n",
       "      <th>% Change 1 Yr: CPIW</th>\n",
       "    </tr>\n",
       "    <tr>\n",
       "      <th>Month</th>\n",
       "      <th></th>\n",
       "      <th></th>\n",
       "      <th></th>\n",
       "      <th></th>\n",
       "      <th></th>\n",
       "      <th></th>\n",
       "      <th></th>\n",
       "    </tr>\n",
       "  </thead>\n",
       "  <tbody>\n",
       "    <tr>\n",
       "      <th>2018-06-30</th>\n",
       "      <td>133.6</td>\n",
       "      <td>133.0</td>\n",
       "      <td>2.5</td>\n",
       "      <td>2.0</td>\n",
       "      <td>2.0</td>\n",
       "      <td>1.9</td>\n",
       "      <td>1.3</td>\n",
       "    </tr>\n",
       "    <tr>\n",
       "      <th>2018-05-31</th>\n",
       "      <td>133.4</td>\n",
       "      <td>132.9</td>\n",
       "      <td>2.2</td>\n",
       "      <td>1.9</td>\n",
       "      <td>2.0</td>\n",
       "      <td>1.9</td>\n",
       "      <td>1.3</td>\n",
       "    </tr>\n",
       "    <tr>\n",
       "      <th>2018-04-30</th>\n",
       "      <td>133.3</td>\n",
       "      <td>132.8</td>\n",
       "      <td>2.2</td>\n",
       "      <td>2.1</td>\n",
       "      <td>2.0</td>\n",
       "      <td>1.9</td>\n",
       "      <td>1.5</td>\n",
       "    </tr>\n",
       "    <tr>\n",
       "      <th>2018-03-31</th>\n",
       "      <td>132.9</td>\n",
       "      <td>132.7</td>\n",
       "      <td>2.3</td>\n",
       "      <td>2.0</td>\n",
       "      <td>2.0</td>\n",
       "      <td>1.9</td>\n",
       "      <td>1.4</td>\n",
       "    </tr>\n",
       "    <tr>\n",
       "      <th>2018-02-28</th>\n",
       "      <td>132.5</td>\n",
       "      <td>132.6</td>\n",
       "      <td>2.2</td>\n",
       "      <td>2.1</td>\n",
       "      <td>2.0</td>\n",
       "      <td>1.9</td>\n",
       "      <td>1.5</td>\n",
       "    </tr>\n",
       "  </tbody>\n",
       "</table>\n",
       "</div>"
      ],
      "text/plain": [
       "            Total CPI  Total CPI S.A.  Core CPI  % Change 1 Yr: Total CPI  \\\n",
       "Month                                                                       \n",
       "2018-06-30      133.6           133.0       2.5                       2.0   \n",
       "2018-05-31      133.4           132.9       2.2                       1.9   \n",
       "2018-04-30      133.3           132.8       2.2                       2.1   \n",
       "2018-03-31      132.9           132.7       2.3                       2.0   \n",
       "2018-02-28      132.5           132.6       2.2                       2.1   \n",
       "\n",
       "            % Change 1 Yr: Core CPI  % Change 1 Yr: CPI-XFET  \\\n",
       "Month                                                          \n",
       "2018-06-30                      2.0                      1.9   \n",
       "2018-05-31                      2.0                      1.9   \n",
       "2018-04-30                      2.0                      1.9   \n",
       "2018-03-31                      2.0                      1.9   \n",
       "2018-02-28                      2.0                      1.9   \n",
       "\n",
       "            % Change 1 Yr: CPIW  \n",
       "Month                            \n",
       "2018-06-30                  1.3  \n",
       "2018-05-31                  1.3  \n",
       "2018-04-30                  1.5  \n",
       "2018-03-31                  1.4  \n",
       "2018-02-28                  1.5  "
      ]
     },
     "execution_count": 55,
     "metadata": {},
     "output_type": "execute_result"
    }
   ],
   "source": [
    "pd.read_hdf(\"out.h5\", key=\"data\").head()  # hard work intact!"
   ]
  },
  {
   "cell_type": "code",
   "execution_count": 56,
   "metadata": {
    "colab": {},
    "colab_type": "code",
    "id": "LCHpqEvFETit"
   },
   "outputs": [
    {
     "data": {
      "text/html": [
       "<div>\n",
       "<style scoped>\n",
       "    .dataframe tbody tr th:only-of-type {\n",
       "        vertical-align: middle;\n",
       "    }\n",
       "\n",
       "    .dataframe tbody tr th {\n",
       "        vertical-align: top;\n",
       "    }\n",
       "\n",
       "    .dataframe thead th {\n",
       "        text-align: right;\n",
       "    }\n",
       "</style>\n",
       "<table border=\"1\" class=\"dataframe\">\n",
       "  <thead>\n",
       "    <tr style=\"text-align: right;\">\n",
       "      <th></th>\n",
       "      <th>Total CPI</th>\n",
       "      <th>Total CPI S.A.</th>\n",
       "      <th>Core CPI</th>\n",
       "      <th>% Change 1 Yr: Total CPI</th>\n",
       "      <th>% Change 1 Yr: Core CPI</th>\n",
       "      <th>% Change 1 Yr: CPI-XFET</th>\n",
       "      <th>% Change 1 Yr: CPIW</th>\n",
       "    </tr>\n",
       "    <tr>\n",
       "      <th>Month</th>\n",
       "      <th></th>\n",
       "      <th></th>\n",
       "      <th></th>\n",
       "      <th></th>\n",
       "      <th></th>\n",
       "      <th></th>\n",
       "      <th></th>\n",
       "    </tr>\n",
       "  </thead>\n",
       "  <tbody>\n",
       "    <tr>\n",
       "      <th>2018-06-30</th>\n",
       "      <td>133.6</td>\n",
       "      <td>133.0</td>\n",
       "      <td>2.5</td>\n",
       "      <td>2.0</td>\n",
       "      <td>2.0</td>\n",
       "      <td>1.9</td>\n",
       "      <td>1.3</td>\n",
       "    </tr>\n",
       "    <tr>\n",
       "      <th>2018-05-31</th>\n",
       "      <td>133.4</td>\n",
       "      <td>132.9</td>\n",
       "      <td>2.2</td>\n",
       "      <td>1.9</td>\n",
       "      <td>2.0</td>\n",
       "      <td>1.9</td>\n",
       "      <td>1.3</td>\n",
       "    </tr>\n",
       "    <tr>\n",
       "      <th>2018-04-30</th>\n",
       "      <td>133.3</td>\n",
       "      <td>132.8</td>\n",
       "      <td>2.2</td>\n",
       "      <td>2.1</td>\n",
       "      <td>2.0</td>\n",
       "      <td>1.9</td>\n",
       "      <td>1.5</td>\n",
       "    </tr>\n",
       "    <tr>\n",
       "      <th>2018-03-31</th>\n",
       "      <td>132.9</td>\n",
       "      <td>132.7</td>\n",
       "      <td>2.3</td>\n",
       "      <td>2.0</td>\n",
       "      <td>2.0</td>\n",
       "      <td>1.9</td>\n",
       "      <td>1.4</td>\n",
       "    </tr>\n",
       "    <tr>\n",
       "      <th>2018-02-28</th>\n",
       "      <td>132.5</td>\n",
       "      <td>132.6</td>\n",
       "      <td>2.2</td>\n",
       "      <td>2.1</td>\n",
       "      <td>2.0</td>\n",
       "      <td>1.9</td>\n",
       "      <td>1.5</td>\n",
       "    </tr>\n",
       "  </tbody>\n",
       "</table>\n",
       "</div>"
      ],
      "text/plain": [
       "            Total CPI  Total CPI S.A.  Core CPI  % Change 1 Yr: Total CPI  \\\n",
       "Month                                                                       \n",
       "2018-06-30      133.6           133.0       2.5                       2.0   \n",
       "2018-05-31      133.4           132.9       2.2                       1.9   \n",
       "2018-04-30      133.3           132.8       2.2                       2.1   \n",
       "2018-03-31      132.9           132.7       2.3                       2.0   \n",
       "2018-02-28      132.5           132.6       2.2                       2.1   \n",
       "\n",
       "            % Change 1 Yr: Core CPI  % Change 1 Yr: CPI-XFET  \\\n",
       "Month                                                          \n",
       "2018-06-30                      2.0                      1.9   \n",
       "2018-05-31                      2.0                      1.9   \n",
       "2018-04-30                      2.0                      1.9   \n",
       "2018-03-31                      2.0                      1.9   \n",
       "2018-02-28                      2.0                      1.9   \n",
       "\n",
       "            % Change 1 Yr: CPIW  \n",
       "Month                            \n",
       "2018-06-30                  1.3  \n",
       "2018-05-31                  1.3  \n",
       "2018-04-30                  1.5  \n",
       "2018-03-31                  1.4  \n",
       "2018-02-28                  1.5  "
      ]
     },
     "execution_count": 56,
     "metadata": {},
     "output_type": "execute_result"
    }
   ],
   "source": [
    "pd.read_pickle(\"out.pickle\").head()"
   ]
  },
  {
   "cell_type": "code",
   "execution_count": 40,
   "metadata": {},
   "outputs": [
    {
     "data": {
      "text/plain": [
       "[5, 4, 3, 2, 1]"
      ]
     },
     "execution_count": 40,
     "metadata": {},
     "output_type": "execute_result"
    }
   ],
   "source": [
    "#1\n",
    "\n",
    "l_ex = [1,2,3,4,5]\n",
    "\n",
    "def list_reverse(l):\n",
    "#     reverse_list = []\n",
    "#     for x in range(len(l)):\n",
    "#         reverse_list.append(l[len(l)-x-1])\n",
    "#     return reverse_list\n",
    "    return l[::-1]\n",
    "\n",
    "list_reverse(l_ex)"
   ]
  },
  {
   "cell_type": "code",
   "execution_count": 41,
   "metadata": {},
   "outputs": [
    {
     "data": {
      "text/plain": [
       "['lemon', 'grapefruit']"
      ]
     },
     "execution_count": 41,
     "metadata": {},
     "output_type": "execute_result"
    }
   ],
   "source": [
    "#2\n",
    "\n",
    "shopping_basket = ['cherry','lemon','celery','grapefruit','apricot']\n",
    "\n",
    "f_dict = {'citrus':['lemon','lime','grapefruit','orange','pomelo'],'stone fruit':['cherry','apricot','peach'],'pome':['apple','pear','quince']}\n",
    "\n",
    "citrus=[]\n",
    "for item in shopping_basket:\n",
    "    if item in f_dict['citrus']:\n",
    "        citrus.append(item)\n",
    "citrus"
   ]
  },
  {
   "cell_type": "code",
   "execution_count": 46,
   "metadata": {},
   "outputs": [
    {
     "data": {
      "text/plain": [
       "30.2"
      ]
     },
     "execution_count": 46,
     "metadata": {},
     "output_type": "execute_result"
    }
   ],
   "source": [
    "#3\n",
    "\n",
    "l = [25, 54, 27, 54, 23, 47, 23, 4, 27, 36, 26, 12, 25, 29, 41]\n",
    "def mean_calc(listname):\n",
    "    for x in listname:\n",
    "        if type(float(x))!=float:\n",
    "            print('Error: List contains non-numeric items')\n",
    "            return\n",
    "        else:\n",
    "            n = len(listname)\n",
    "            mn = sum(listname)/n\n",
    "            return mn\n",
    "\n",
    "mean_calc(l)"
   ]
  },
  {
   "cell_type": "code",
   "execution_count": 23,
   "metadata": {
    "scrolled": true
   },
   "outputs": [
    {
     "data": {
      "text/html": [
       "<div>\n",
       "<style scoped>\n",
       "    .dataframe tbody tr th:only-of-type {\n",
       "        vertical-align: middle;\n",
       "    }\n",
       "\n",
       "    .dataframe tbody tr th {\n",
       "        vertical-align: top;\n",
       "    }\n",
       "\n",
       "    .dataframe thead th {\n",
       "        text-align: right;\n",
       "    }\n",
       "</style>\n",
       "<table border=\"1\" class=\"dataframe\">\n",
       "  <thead>\n",
       "    <tr style=\"text-align: right;\">\n",
       "      <th></th>\n",
       "      <th>Assignment 1</th>\n",
       "      <th>Assignment 2</th>\n",
       "      <th>Assignment 3</th>\n",
       "      <th>Midterm</th>\n",
       "      <th>Final Exam</th>\n",
       "    </tr>\n",
       "  </thead>\n",
       "  <tbody>\n",
       "    <tr>\n",
       "      <th>Patrick</th>\n",
       "      <td>72</td>\n",
       "      <td>82</td>\n",
       "      <td>80</td>\n",
       "      <td>86</td>\n",
       "      <td>84</td>\n",
       "    </tr>\n",
       "    <tr>\n",
       "      <th>Lindsay</th>\n",
       "      <td>85</td>\n",
       "      <td>89</td>\n",
       "      <td>94</td>\n",
       "      <td>95</td>\n",
       "      <td>92</td>\n",
       "    </tr>\n",
       "    <tr>\n",
       "      <th>Ivan</th>\n",
       "      <td>87</td>\n",
       "      <td>92</td>\n",
       "      <td>90</td>\n",
       "      <td>92</td>\n",
       "      <td>90</td>\n",
       "    </tr>\n",
       "    <tr>\n",
       "      <th>Emily</th>\n",
       "      <td>94</td>\n",
       "      <td>92</td>\n",
       "      <td>99</td>\n",
       "      <td>97</td>\n",
       "      <td>91</td>\n",
       "    </tr>\n",
       "    <tr>\n",
       "      <th>Iva</th>\n",
       "      <td>77</td>\n",
       "      <td>84</td>\n",
       "      <td>85</td>\n",
       "      <td>89</td>\n",
       "      <td>92</td>\n",
       "    </tr>\n",
       "  </tbody>\n",
       "</table>\n",
       "</div>"
      ],
      "text/plain": [
       "         Assignment 1  Assignment 2  Assignment 3  Midterm  Final Exam\n",
       "Patrick            72            82            80       86          84\n",
       "Lindsay            85            89            94       95          92\n",
       "Ivan               87            92            90       92          90\n",
       "Emily              94            92            99       97          91\n",
       "Iva                77            84            85       89          92"
      ]
     },
     "metadata": {},
     "output_type": "display_data"
    },
    {
     "data": {
      "text/html": [
       "<div>\n",
       "<style scoped>\n",
       "    .dataframe tbody tr th:only-of-type {\n",
       "        vertical-align: middle;\n",
       "    }\n",
       "\n",
       "    .dataframe tbody tr th {\n",
       "        vertical-align: top;\n",
       "    }\n",
       "\n",
       "    .dataframe thead th {\n",
       "        text-align: right;\n",
       "    }\n",
       "</style>\n",
       "<table border=\"1\" class=\"dataframe\">\n",
       "  <thead>\n",
       "    <tr style=\"text-align: right;\">\n",
       "      <th></th>\n",
       "      <th>Assignment 1</th>\n",
       "      <th>Assignment 2</th>\n",
       "      <th>Assignment 3</th>\n",
       "      <th>Midterm</th>\n",
       "      <th>Final Exam</th>\n",
       "      <th>Final Grade</th>\n",
       "    </tr>\n",
       "  </thead>\n",
       "  <tbody>\n",
       "    <tr>\n",
       "      <th>Patrick</th>\n",
       "      <td>72</td>\n",
       "      <td>82</td>\n",
       "      <td>80</td>\n",
       "      <td>86</td>\n",
       "      <td>84</td>\n",
       "      <td>82.8</td>\n",
       "    </tr>\n",
       "    <tr>\n",
       "      <th>Lindsay</th>\n",
       "      <td>85</td>\n",
       "      <td>89</td>\n",
       "      <td>94</td>\n",
       "      <td>95</td>\n",
       "      <td>92</td>\n",
       "      <td>92.1</td>\n",
       "    </tr>\n",
       "    <tr>\n",
       "      <th>Ivan</th>\n",
       "      <td>87</td>\n",
       "      <td>92</td>\n",
       "      <td>90</td>\n",
       "      <td>92</td>\n",
       "      <td>90</td>\n",
       "      <td>90.5</td>\n",
       "    </tr>\n",
       "    <tr>\n",
       "      <th>Emily</th>\n",
       "      <td>94</td>\n",
       "      <td>92</td>\n",
       "      <td>99</td>\n",
       "      <td>97</td>\n",
       "      <td>91</td>\n",
       "      <td>94.0</td>\n",
       "    </tr>\n",
       "    <tr>\n",
       "      <th>Iva</th>\n",
       "      <td>77</td>\n",
       "      <td>84</td>\n",
       "      <td>85</td>\n",
       "      <td>89</td>\n",
       "      <td>92</td>\n",
       "      <td>88.1</td>\n",
       "    </tr>\n",
       "  </tbody>\n",
       "</table>\n",
       "</div>"
      ],
      "text/plain": [
       "         Assignment 1  Assignment 2  Assignment 3  Midterm  Final Exam  \\\n",
       "Patrick            72            82            80       86          84   \n",
       "Lindsay            85            89            94       95          92   \n",
       "Ivan               87            92            90       92          90   \n",
       "Emily              94            92            99       97          91   \n",
       "Iva                77            84            85       89          92   \n",
       "\n",
       "         Final Grade  \n",
       "Patrick         82.8  \n",
       "Lindsay         92.1  \n",
       "Ivan            90.5  \n",
       "Emily           94.0  \n",
       "Iva             88.1  "
      ]
     },
     "execution_count": 23,
     "metadata": {},
     "output_type": "execute_result"
    }
   ],
   "source": [
    "#4\n",
    "\n",
    "ixlist = ['Patrick','Lindsay','Ivan','Emily','Iva']\n",
    "class_marks = {'Assignment 1':pd.Series([72,85,87,94,77],index = ixlist),\n",
    "               'Assignment 2':pd.Series([82,89,92,92,84],index = ixlist),\n",
    "               'Assignment 3':pd.Series([80,94,90,99,85],index = ixlist),\n",
    "               'Midterm':pd.Series([86,95,92,97,89],index = ixlist), \n",
    "               'Final Exam':pd.Series([84,92,90,91,92],index = ixlist),}\n",
    "\n",
    "df = pd.DataFrame(class_marks)\n",
    "display(df)\n",
    "df['Final Grade'] = 0.1*df['Assignment 1'] + 0.1*df['Assignment 2'] + 0.1*df['Assignment 3'] + 0.3*df['Midterm'] + 0.4*df['Final Exam']\n",
    "df"
   ]
  },
  {
   "cell_type": "code",
   "execution_count": 52,
   "metadata": {},
   "outputs": [
    {
     "name": "stdout",
     "output_type": "stream",
     "text": [
      "[-9, -7, -5, -3, -1, 1, 3, 5, 7, 9]\n",
      "['construct', 'a', 'Lie', 'group', 'in', 'Dirac', 'geometry,', 'extending', 'definition', 'Lie', 'groups,', 'Courant', 'algebroids', 'A', 'must', 'carry', 'a', 'multiplicative']\n",
      "[[1, 2], [1, 4], [1, 6], [2, 4], [2, 6], [3, 2], [3, 4], [3, 6], [4, 2], [4, 6]]\n"
     ]
    }
   ],
   "source": [
    "#5A\n",
    "\n",
    "odd_list = [x for x in range(-10, 11) if x%2!=0]\n",
    "print(odd_list)\n",
    "\n",
    "#5B\n",
    "# first_half_letters=['a', 'b', 'c', 'd', 'e', 'f', 'g', 'h', 'i', 'j', 'k', 'l', 'm'] can use string instead\n",
    "first_half_letters = 'abcdefghijklm'\n",
    "sent='To construct the notion of a Lie group in Dirac geometry, extending the definition of Poisson Lie groups, the Courant algebroids A must themselves carry a multiplicative structure.'\n",
    "first_half_list=[x for x in sent.split() if x[0].lower() in first_half_letters]\n",
    "print(first_half_list)\n",
    "\n",
    "#5c\n",
    "c5 = [[x,y] for x in [1,2,3,4] for y in [2,4,6] if x!=y]\n",
    "print(c5)"
   ]
  },
  {
   "cell_type": "code",
   "execution_count": 59,
   "metadata": {},
   "outputs": [
    {
     "data": {
      "text/plain": [
       "['ESU14', 'ESZ14', 'ESH15', 'ESM15', 'ESU15', 'ESZ15']"
      ]
     },
     "execution_count": 59,
     "metadata": {},
     "output_type": "execute_result"
    }
   ],
   "source": [
    "#6\n",
    "import re\n",
    "\n",
    "contracts = ['ESM15','ESZ14','ESU15','ESH15','ESZ15','ESU14']\n",
    "\n",
    "def sort_stock(l):\n",
    "    y = sorted(l, key=lambda x: (x[-3]))\n",
    "    z = sorted(y, key=lambda x: int(re.search(r'\\d+$',x).group()))\n",
    "    return z\n",
    "\n",
    "sort_stock(contracts)"
   ]
  },
  {
   "cell_type": "code",
   "execution_count": 61,
   "metadata": {},
   "outputs": [
    {
     "data": {
      "text/plain": [
       "[[1, 0], [2, 500], [3, 2]]"
      ]
     },
     "execution_count": 61,
     "metadata": {},
     "output_type": "execute_result"
    }
   ],
   "source": [
    "def transp(matrix):\n",
    "    row_len = len(matrix[0])\n",
    "    return [[row[i] for row in matrix] for i in range(row_len)]\n",
    "\n",
    "m = [[1,2,3],[0,500,2]]\n",
    "transp(m)"
   ]
  },
  {
   "cell_type": "markdown",
   "metadata": {
    "colab_type": "text",
    "id": "UvZgvli8ETiv"
   },
   "source": [
    "# Assignment 2\n",
    "\n",
    "1. Adapt your string-reversing function from the prep course assignment to take in an arbitrary list, and return a new list which is the original list in reverse order. (Again, ```return listname[::-1]``` is easy, but not the point of the exercise.)\n",
    "2. Suppose we're out grocery shopping, and currently have the following produce in our basket:<br>\n",
    "`shopping_basket = ['cherry','lemon','celery','grapefruit','apricot'] `.<br>\n",
    "We have the following dictionary of some fruit by type: <br>\n",
    "`f_dict = {'citrus':['lemon','lime','grapefruit','orange','pomelo'],'stone fruit':['cherry','apricot','peach'],'pome':['apple','pear','quince']}`. <br>\n",
    "Write a script which will give a list of all of the items in your basket which are citrus.\n",
    "3. Continuing from the prep course, write a function which takes in an arbitrary list of numbers, and returns the mean.  (Note:  while `return np.mean(listname)` is easy, it's not really the point of the exercise).  Use this list of numbers to test it: `[25, 54, 27, 54, 23, 47, 23,  4, 27, 36, 26, 12, 25, 29, 41]`. How would you adjust your code to deal with lists that include non-numeric entries?\n",
    "4. Consider this dictionary of class marks:<br>\n",
    "`ixlist = ['Patrick','Lindsay','Ivan','Emily','Iva']\n",
    "class_marks = {'Assignment 1':pd.Series([72,85,87,94,77],index = ixlist),'Assignment 2':pd.Series([82,89,92,92,84],index = ixlist), 'Assignment 3':pd.Series([80,94,90,99,85],index = ixlist), 'Midterm':pd.Series([86,95,92,97,89],index = ixlist), \n",
    "'Final Exam':pd.Series([84,92,90,91,92],index = ixlist)}`<br>\n",
    "Turn this into a Dataframe, and create a new column to compute the 'Final Grade' with the following weighting of marks:  30% for Assignments, 30% for the Midterm, and 40% for the Final Exam.\n",
    "5.  1. Create a list using a comprehension which contains all of the odd numbers from $-10$ to $10$ (inclusive).\n",
    "   2. Use a list comprehension to determine how many times letters from the first half of the alphabet (capital and lowercase!) appear in the following sentence:<br>\n",
    "    'To construct the notion of a Lie group in Dirac geometry, extending the definition of Poisson Lie groups, the Courant algebroids A must themselves carry a multiplicative structure.'\n",
    "    3. Write a list comprehension whose elements are lists `[x,y]`, where `x` can take on the values `[1,2,3,4]`, where `y` can take on values `[2,4,6]`, and where the `x` and `y` values are not equal.  (Hint: you can chain the `for` statements together in a comprehension).\n",
    "6. (Bonus) In financial futures trading, each instrument (e.g.: wheat, oil, USD/CAD, S&P500) has its own symbol.  For example, the S&P500 e-mini is called ES.  Each instrument also has a specific number of months it trades, each of which has its own single-letter symbol; ES trades March (H), June (M), September (U), and December (Z).  To refer to a specific contract, you need the instrument name, month code, and year.  The December 2015 S&P500 contract would be ESZ15.  Consider the following list of contracts:<br>\n",
    "`contracts = ['ESM15','ESZ14','ESU15','ESH15','ESZ15','ESU14']`<br>\n",
    "If we want them in chronological order (e.g.: 'ESU14' is first, then 'ESZ14', etc.), we can't use the sorted() function, because this will sort them alphanumerically.  Write a function which sorts this list of contracts into chronological order.\n",
    "7. (Bonus) As we saw, we can approximate a *matrix* by creating a list of lists, e.g.: `[[1,2],[0,1]]` can be seen as representing the matrix $\\begin{bmatrix} 1 & 2 \\\\ 0 & 1 \\end{bmatrix}$ by considering each of the internal lists as the rows.  We can *transpose* a matrix by switching the rows and the columns (i.e.: the first row becomes the first column, etc.).  For example, the tranpose of the matrix `[[1,2],[0,1]` is `[[1,0],[2,1]]`, i.e.: $\\begin{bmatrix} 1 & 0 \\\\ 2 & 1 \\end{bmatrix}$.<br>\n",
    "Write a list comprehension that gives us the transpose of a matrix."
   ]
  },
  {
   "cell_type": "markdown",
   "metadata": {},
   "source": [
    "<div id=\"container\" style=\"position:relative;\">\n",
    "<div style=\"position:relative; float:right\"><img style=\"height:25px\"\"width: 50px\" src =\"https://drive.google.com/uc?export=view&id=14VoXUJftgptWtdNhtNYVm6cjVmEWpki1\" />\n",
    "</div>"
   ]
  }
 ],
 "metadata": {
  "colab": {
   "name": "Unit 02 - Data Structures and Import.ipynb",
   "provenance": [],
   "version": "0.3.2"
  },
  "kernelspec": {
   "display_name": "Python 3",
   "language": "python",
   "name": "python3"
  },
  "language_info": {
   "codemirror_mode": {
    "name": "ipython",
    "version": 3
   },
   "file_extension": ".py",
   "mimetype": "text/x-python",
   "name": "python",
   "nbconvert_exporter": "python",
   "pygments_lexer": "ipython3",
   "version": "3.8.5"
  }
 },
 "nbformat": 4,
 "nbformat_minor": 4
}
