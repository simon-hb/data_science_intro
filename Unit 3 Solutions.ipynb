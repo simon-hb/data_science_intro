{
 "cells": [
  {
   "cell_type": "markdown",
   "metadata": {},
   "source": [
    "# Assignment 3 Solutions <img style = \"position:absolute; TOP:0px; LEFT:840px; WIDTH:250px; HEIGHT:65px\"  src =\"https://drive.google.com/uc?export=view&id=1EnB0x-fdqMp6I5iMoEBBEuxB_s7AmE2k\" />"
   ]
  },
  {
   "cell_type": "code",
   "execution_count": 2,
   "metadata": {
    "colab": {},
    "colab_type": "code",
    "id": "TWIVT_WaZLRv",
    "outputId": "851e813c-a254-45a6-959c-4c34c7eeb949"
   },
   "outputs": [
    {
     "name": "stdout",
     "output_type": "stream",
     "text": [
      "Populating the interactive namespace from numpy and matplotlib\n"
     ]
    }
   ],
   "source": [
    "import pandas as pd\n",
    "import numpy as np\n",
    "import matplotlib.pyplot as plt\n",
    "%pylab inline\n",
    "pylab.rcParams['figure.figsize'] = (10.0, 8.0)"
   ]
  },
  {
   "cell_type": "markdown",
   "metadata": {
    "colab_type": "text",
    "id": "zE5TSrcMZLR4"
   },
   "source": [
    "## Assignment 3\n",
    "\n",
    "1. Which model of aircraft flew the most flights out of New York in 2013?\n",
    "\n",
    "2.  The file `customer_data.csv` contains some data on the business customers of a large telecommunications firm. The columns are specified as follows:\n",
    " * INDUSTRY: the customer's industry\n",
    " * EMP: the number of employees that work at the business\n",
    " * ANNUAL_SALES: the business's annual sales\n",
    " * STATE: the location of the business headquarters\n",
    " * MOBILITY: the amount the customer has spent on mobility products (cell phones, tablets, etc.) in the last 12 months\n",
    " * INTERNET: the amount the customer has spent on Internet products in the last 12 months.\n",
    "\n",
    "Import the file and answer the following questions.\n",
    "\n",
    "1. The marketing department would like to target a campaign to medium sized (100–999 Employees) customers who are in either Education or Food Services, and who currently spend less than \\\\$5000 total per year on all services. Create a boolean column called INCLUDE that indicates whether the customer on that row should be included in the campaign.\n",
    "3. How many customers are in the campaign?\n",
    "4. Pandas has a function called crosstab which prints cross tabulations of categorical variables. Use the crosstab function to determine how many customers in each industry and state are included in the campaign.\n",
    "5. Create a file called customerids.csv that contains only a list of CUSTOMER_IDs to be included in the campaign.\n"
   ]
  },
  {
   "cell_type": "markdown",
   "metadata": {
    "colab_type": "text",
    "id": "7rKaIlwwZLR5"
   },
   "source": [
    "## 1."
   ]
  },
  {
   "cell_type": "code",
   "execution_count": null,
   "metadata": {
    "colab": {},
    "colab_type": "code",
    "id": "GbLFP9LbZLR6",
    "outputId": "1361e1d9-e2c0-43a5-a545-10c7526cf83e",
    "scrolled": true
   },
   "outputs": [
    {
     "data": {
      "text/plain": [
       "model\n",
       "150                     2\n",
       "172E                    1\n",
       "172M                    2\n",
       "172N                    4\n",
       "206B                    1\n",
       "210-5(205)              1\n",
       "230                     1\n",
       "310Q                    1\n",
       "421C                    1\n",
       "550                     1\n",
       "60                      1\n",
       "65-A90                  2\n",
       "717-200               119\n",
       "737-301                 2\n",
       "737-317                 1\n",
       "737-3A4                 1\n",
       "737-3G7                 2\n",
       "737-3H4               107\n",
       "737-3K2                 2\n",
       "737-3L9                 2\n",
       "737-3Q8                 5\n",
       "737-3T5                 1\n",
       "737-3TO                 2\n",
       "737-3Y0                 1\n",
       "737-401                 5\n",
       "737-4B7                18\n",
       "737-524                 1\n",
       "737-5H4                15\n",
       "737-705                 2\n",
       "737-724               162\n",
       "                     ... \n",
       "CL-600-2B19           334\n",
       "CL-600-2C10           280\n",
       "CL-600-2D24           420\n",
       "DC-7BF                  1\n",
       "DC-9-51                 9\n",
       "DC-9-82(MD-82)         97\n",
       "DC-9-83(MD-83)         38\n",
       "E-90                    1\n",
       "EMB-145                11\n",
       "EMB-145LR             853\n",
       "EMB-145XR             399\n",
       "ERJ 190-100 IGW       689\n",
       "FALCON XP               8\n",
       "FALCON-XP               5\n",
       "G-IV                    1\n",
       "G1159B                 18\n",
       "KITFOX IV               3\n",
       "MD-88                 329\n",
       "MD-90-30               41\n",
       "MYSTERE FALCON 900      1\n",
       "OTTER DHC-3             1\n",
       "PA-28-180               4\n",
       "PA-31-350               3\n",
       "PA-32R-300              1\n",
       "PA-32RT-300             1\n",
       "R66                     9\n",
       "S-76A                   1\n",
       "SR22                    8\n",
       "VANS AIRCRAFT RV6       1\n",
       "ZODIAC 601HDS          11\n",
       "Length: 127, dtype: int64"
      ]
     },
     "execution_count": 40,
     "metadata": {
      "tags": []
     },
     "output_type": "execute_result"
    }
   ],
   "source": [
    "flights = pd.read_csv('data/flights.csv')\n",
    "planes = pd.read_csv('data/planes.csv')\n",
    "\n",
    "#Join the datasets together based on tailnum. \n",
    "#Using a right join discards any flights that didn't have a matching plane. \n",
    "#This is fine as we can't use flights where we don't know the model of the aircraft\n",
    "detailed_flights = pd.merge(flights, planes, how='right', on='tailnum')\n",
    "\n",
    "#Group the flights by their model number and count how many flights there are for each model\n",
    "flights_by_model = detailed_flights.groupby('model')\n",
    "flight_count_by_model = flights_by_model.size()\n",
    "flight_count_by_model"
   ]
  },
  {
   "cell_type": "code",
   "execution_count": null,
   "metadata": {
    "colab": {},
    "colab_type": "code",
    "id": "NuYmfnhNZLR-",
    "outputId": "a70db613-ef45-49e9-c866-4dc8edeaa7aa"
   },
   "outputs": [
    {
     "data": {
      "text/plain": [
       "'A320-232'"
      ]
     },
     "execution_count": 41,
     "metadata": {
      "tags": []
     },
     "output_type": "execute_result"
    }
   ],
   "source": [
    "#Find the index (model) with the most flights\n",
    "#https://pandas.pydata.org/pandas-docs/stable/generated/pandas.Series.idxmax.html\n",
    "flight_count_by_model.idxmax()"
   ]
  },
  {
   "cell_type": "markdown",
   "metadata": {
    "colab_type": "text",
    "id": "BPOFJVcvZLSB"
   },
   "source": [
    "## 2.1."
   ]
  },
  {
   "cell_type": "code",
   "execution_count": null,
   "metadata": {
    "colab": {},
    "colab_type": "code",
    "id": "cnHjOMigZLSD"
   },
   "outputs": [],
   "source": [
    "df = pd.read_csv('customer_info.csv')"
   ]
  },
  {
   "cell_type": "code",
   "execution_count": null,
   "metadata": {
    "colab": {},
    "colab_type": "code",
    "id": "W-FUr2ljZLSG"
   },
   "outputs": [],
   "source": [
    "df[\"INCLUDE\"] = (df[\"EMP\"] >= 100) & (df[\"EMP\"] < 1000) & (df[\"INDUSTRY\"].isin([\"Food Services\", \"Education\"])) \\\n",
    "& (df[\"MOBILITY\"] + df[\"INTERNET\"] <= 5000)"
   ]
  },
  {
   "cell_type": "code",
   "execution_count": null,
   "metadata": {
    "colab": {},
    "colab_type": "code",
    "id": "tDafy-wrZLSJ",
    "outputId": "a52bd1d1-ccbf-43fb-fb13-265433d27bf6"
   },
   "outputs": [
    {
     "data": {
      "text/html": [
       "<div>\n",
       "<style scoped>\n",
       "    .dataframe tbody tr th:only-of-type {\n",
       "        vertical-align: middle;\n",
       "    }\n",
       "\n",
       "    .dataframe tbody tr th {\n",
       "        vertical-align: top;\n",
       "    }\n",
       "\n",
       "    .dataframe thead th {\n",
       "        text-align: right;\n",
       "    }\n",
       "</style>\n",
       "<table border=\"1\" class=\"dataframe\">\n",
       "  <thead>\n",
       "    <tr style=\"text-align: right;\">\n",
       "      <th></th>\n",
       "      <th>CUSTOMER_ID</th>\n",
       "      <th>INDUSTRY</th>\n",
       "      <th>EMP</th>\n",
       "      <th>ANNUAL_SALES</th>\n",
       "      <th>PROVINCE</th>\n",
       "      <th>MOBILITY</th>\n",
       "      <th>INTERNET</th>\n",
       "      <th>INCLUDE</th>\n",
       "    </tr>\n",
       "  </thead>\n",
       "  <tbody>\n",
       "    <tr>\n",
       "      <th>0</th>\n",
       "      <td>129078</td>\n",
       "      <td>Finance and Insurance</td>\n",
       "      <td>36.0</td>\n",
       "      <td>NaN</td>\n",
       "      <td>AB</td>\n",
       "      <td>10192.825459</td>\n",
       "      <td>699.539869</td>\n",
       "      <td>False</td>\n",
       "    </tr>\n",
       "    <tr>\n",
       "      <th>1</th>\n",
       "      <td>128424</td>\n",
       "      <td>Construction</td>\n",
       "      <td>261.0</td>\n",
       "      <td>10675108.0</td>\n",
       "      <td>BC</td>\n",
       "      <td>17367.492873</td>\n",
       "      <td>1907.819410</td>\n",
       "      <td>False</td>\n",
       "    </tr>\n",
       "    <tr>\n",
       "      <th>2</th>\n",
       "      <td>125960</td>\n",
       "      <td>Finance and Insurance</td>\n",
       "      <td>10.0</td>\n",
       "      <td>756786.0</td>\n",
       "      <td>AB</td>\n",
       "      <td>6162.609229</td>\n",
       "      <td>1789.017919</td>\n",
       "      <td>False</td>\n",
       "    </tr>\n",
       "    <tr>\n",
       "      <th>3</th>\n",
       "      <td>120981</td>\n",
       "      <td>Construction</td>\n",
       "      <td>31.0</td>\n",
       "      <td>1223808.0</td>\n",
       "      <td>BC</td>\n",
       "      <td>19176.373541</td>\n",
       "      <td>2123.016418</td>\n",
       "      <td>False</td>\n",
       "    </tr>\n",
       "    <tr>\n",
       "      <th>4</th>\n",
       "      <td>129251</td>\n",
       "      <td>Education</td>\n",
       "      <td>NaN</td>\n",
       "      <td>1148650.0</td>\n",
       "      <td>AB</td>\n",
       "      <td>1538.194116</td>\n",
       "      <td>1620.096543</td>\n",
       "      <td>False</td>\n",
       "    </tr>\n",
       "  </tbody>\n",
       "</table>\n",
       "</div>"
      ],
      "text/plain": [
       "   CUSTOMER_ID               INDUSTRY    EMP  ANNUAL_SALES PROVINCE  \\\n",
       "0       129078  Finance and Insurance   36.0           NaN       AB   \n",
       "1       128424           Construction  261.0    10675108.0       BC   \n",
       "2       125960  Finance and Insurance   10.0      756786.0       AB   \n",
       "3       120981           Construction   31.0     1223808.0       BC   \n",
       "4       129251              Education    NaN     1148650.0       AB   \n",
       "\n",
       "       MOBILITY     INTERNET  INCLUDE  \n",
       "0  10192.825459   699.539869    False  \n",
       "1  17367.492873  1907.819410    False  \n",
       "2   6162.609229  1789.017919    False  \n",
       "3  19176.373541  2123.016418    False  \n",
       "4   1538.194116  1620.096543    False  "
      ]
     },
     "execution_count": 9,
     "metadata": {
      "tags": []
     },
     "output_type": "execute_result"
    }
   ],
   "source": [
    "df.head()"
   ]
  },
  {
   "cell_type": "markdown",
   "metadata": {
    "colab_type": "text",
    "id": "vuEYY4jQZLSN"
   },
   "source": [
    "## 2.2."
   ]
  },
  {
   "cell_type": "code",
   "execution_count": null,
   "metadata": {
    "colab": {},
    "colab_type": "code",
    "id": "sklG0s81ZLSO",
    "outputId": "29480342-894e-4827-fbf9-b642b288f8a2"
   },
   "outputs": [
    {
     "data": {
      "text/plain": [
       "88"
      ]
     },
     "execution_count": 10,
     "metadata": {
      "tags": []
     },
     "output_type": "execute_result"
    }
   ],
   "source": [
    "# We can do this in a few ways.  One is to find the length of the sub-dataframe where INCLUDE is True.\n",
    "len(df[df['INCLUDE']==True])"
   ]
  },
  {
   "cell_type": "code",
   "execution_count": null,
   "metadata": {
    "colab": {},
    "colab_type": "code",
    "id": "wZgYsuMsZLST",
    "outputId": "8493e71b-bdf1-4b3b-f351-6eed231ada97"
   },
   "outputs": [
    {
     "data": {
      "text/plain": [
       "88"
      ]
     },
     "execution_count": 11,
     "metadata": {
      "tags": []
     },
     "output_type": "execute_result"
    }
   ],
   "source": [
    "# But we also remember that True has the value of 1, so we can just sum the column:\n",
    "sum(df.INCLUDE)"
   ]
  },
  {
   "cell_type": "markdown",
   "metadata": {
    "colab_type": "text",
    "id": "IK1BIHm8ZLSX"
   },
   "source": [
    "## 2.3."
   ]
  },
  {
   "cell_type": "markdown",
   "metadata": {
    "colab_type": "text",
    "id": "Nivjff0jZLSY"
   },
   "source": [
    "From the documentation:<br>\n",
    "`  pandas.crosstab(index, columns, values=None, rownames=None, colnames=None, aggfunc=None, margins=False, dropna=True, normalize=False) `\n",
    "\n",
    "*Compute a simple cross-tabulation of two (or more) factors. By default computes a frequency table of the factors unless an array of values and an aggregation function are passed.*\n",
    "\n",
    "So the only thing we have to pass it is the index, and the columns."
   ]
  },
  {
   "cell_type": "code",
   "execution_count": null,
   "metadata": {
    "colab": {},
    "colab_type": "code",
    "id": "yWrYFU_wZLSZ",
    "outputId": "679e39bf-3511-4473-c613-9a2c3c947106"
   },
   "outputs": [
    {
     "data": {
      "text/html": [
       "<div>\n",
       "<style scoped>\n",
       "    .dataframe tbody tr th:only-of-type {\n",
       "        vertical-align: middle;\n",
       "    }\n",
       "\n",
       "    .dataframe tbody tr th {\n",
       "        vertical-align: top;\n",
       "    }\n",
       "\n",
       "    .dataframe thead th {\n",
       "        text-align: right;\n",
       "    }\n",
       "</style>\n",
       "<table border=\"1\" class=\"dataframe\">\n",
       "  <thead>\n",
       "    <tr style=\"text-align: right;\">\n",
       "      <th>PROVINCE</th>\n",
       "      <th>AB</th>\n",
       "      <th>BC</th>\n",
       "    </tr>\n",
       "    <tr>\n",
       "      <th>INDUSTRY</th>\n",
       "      <th></th>\n",
       "      <th></th>\n",
       "    </tr>\n",
       "  </thead>\n",
       "  <tbody>\n",
       "    <tr>\n",
       "      <th>Education</th>\n",
       "      <td>12</td>\n",
       "      <td>9</td>\n",
       "    </tr>\n",
       "    <tr>\n",
       "      <th>Food Services</th>\n",
       "      <td>34</td>\n",
       "      <td>33</td>\n",
       "    </tr>\n",
       "  </tbody>\n",
       "</table>\n",
       "</div>"
      ],
      "text/plain": [
       "PROVINCE       AB  BC\n",
       "INDUSTRY             \n",
       "Education      12   9\n",
       "Food Services  34  33"
      ]
     },
     "execution_count": 12,
     "metadata": {
      "tags": []
     },
     "output_type": "execute_result"
    }
   ],
   "source": [
    "pd.crosstab(df[df[\"INCLUDE\"]==True][\"INDUSTRY\"], df[df[\"INCLUDE\"]==True][\"STATE\"])"
   ]
  },
  {
   "cell_type": "markdown",
   "metadata": {
    "colab_type": "text",
    "id": "OSvA_VH-ZLSe"
   },
   "source": [
    "Notice here that we cut out all of the lines we want in `INDUSTRY` and `PROVINCE` by first calling the subset dataframe where `df['INCLUDE']==True`.  (In fact, we only actually need to call `df[df['INCLUDE]]`, because it's a Boolean column.)"
   ]
  },
  {
   "cell_type": "markdown",
   "metadata": {
    "colab_type": "text",
    "id": "6gPcV2bMZLSf"
   },
   "source": [
    "## 2.4."
   ]
  },
  {
   "cell_type": "code",
   "execution_count": null,
   "metadata": {
    "colab": {},
    "colab_type": "code",
    "id": "XJY5xp6eZLSi"
   },
   "outputs": [],
   "source": [
    "df[df[\"INCLUDE\"]][\"CUSTOMER_ID\"].to_csv(\"customerids.csv\", index=False)"
   ]
  },
  {
   "cell_type": "markdown",
   "metadata": {},
   "source": [
    "<div id=\"container\" style=\"position:relative;\">\n",
    "<div style=\"position:relative; float:right\"><img style=\"height:25px\"\"width: 50px\" src =\"https://drive.google.com/uc?export=view&id=14VoXUJftgptWtdNhtNYVm6cjVmEWpki1\" />\n",
    "</div>"
   ]
  }
 ],
 "metadata": {
  "colab": {
   "collapsed_sections": [],
   "name": "Data Science Unit 3 Solution Manual (1).ipynb",
   "provenance": [],
   "version": "0.3.2"
  },
  "kernelspec": {
   "display_name": "Python 3",
   "language": "python",
   "name": "python3"
  },
  "language_info": {
   "codemirror_mode": {
    "name": "ipython",
    "version": 3
   },
   "file_extension": ".py",
   "mimetype": "text/x-python",
   "name": "python",
   "nbconvert_exporter": "python",
   "pygments_lexer": "ipython3",
   "version": "3.8.5"
  }
 },
 "nbformat": 4,
 "nbformat_minor": 4
}
