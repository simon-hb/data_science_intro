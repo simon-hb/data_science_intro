{
 "cells": [
  {
   "cell_type": "markdown",
   "metadata": {
    "colab_type": "text",
    "id": "elsF23Nc-xpq"
   },
   "source": [
    "# Data Science Prep Course Section 2: Statistics <img style = \"position:absolute; TOP:0px; LEFT:840px; WIDTH:250px; HEIGHT:65px\"  src =\"https://drive.google.com/uc?export=view&id=1EnB0x-fdqMp6I5iMoEBBEuxB_s7AmE2k\" />"
   ]
  },
  {
   "cell_type": "markdown",
   "metadata": {},
   "source": [
    "do this prep after unit 5"
   ]
  },
  {
   "cell_type": "markdown",
   "metadata": {
    "colab_type": "text",
    "id": "g58S7DqU-xpr"
   },
   "source": [
    "Statistics is a branch of mathematics that deals with the collection, organization, analysis, interpretation, and presentation of data.  Statistician Sir Arthur Lyon Bowley defined statistics as, *\"Numerical statements of facts in any department of inquiry placed in relation to each other.\"*\n",
    "\n",
    "In applying statistics to a problem, you need to start with a data set that represents a **population** or **process** to be studied, e.g.: \"all people living in a city\", or \"atoms in a substance undergoing beta decay\".  Descriptive statistics is generally concerned with two things:\n",
    "1. **Central Tendency**: attempts to characterise a data set's *central*, or *typical* value.\n",
    "2. **Dispersion**: attempts to characterize how elements of a data set depart from the center/each other."
   ]
  },
  {
   "cell_type": "markdown",
   "metadata": {
    "colab_type": "text",
    "id": "wwESA5du-xps"
   },
   "source": [
    "## Central Tendency\n",
    "\n",
    "There are a few ways to measure central tendency, many of which you have likely encountered before.  The three most common are:\n",
    "\n",
    "*  **(Arithmetic) Mean**:  this is the term for what we generally call an \"average\".  We add all of the numbers in our data set, and then divide by the size of the set.  Symbolically, if $\\{a_1,a_2,\\ldots,a_n\\}$ is our data set, then the arithmetic mean (denoted $\\mu$) is computed as $$ \\mu = \\frac{1}{n}\\sum_{i=1}^na_i = \\frac{1}{n}(a_1+a_2+\\ldots+a_n). $$\n",
    "* **Median**: for a given data set (of numbers), the median is the number that separates the top half of the data from the bottom half.  If the size of the data set is even )so there is no single data point in the middle), the median is given by the mean of the two middle values, after arranging the data into ascending order.\n",
    "* **Mode**: the mode is the number that occurs most frequently in a data set."
   ]
  },
  {
   "cell_type": "markdown",
   "metadata": {
    "colab_type": "text",
    "id": "2PX1QeuT-xps"
   },
   "source": [
    "*Example*:  Suppose that the final marks for students in a class were: $ m = \\{95,65,82,85,52,85,73,67\\}.$  Find the mean, median, and mode of m.<br>\n",
    "*Answer*: The first thing we note is that the size of $m$ is $|m|=8$.\n",
    "1. *Mean*: $\\mu = \\frac{1}{8}\\sum_{i=1}^8 m_i = \\frac{1}{8}(95+65+82+85+52+85+73+67) = \\frac{1}{8}(604) = 75.5$\n",
    "2. *Median*:  the first thing we'll do is sort m into ascending order. $ m= \\{52,65,67,73,82,85,85,95\\}.$ <br>   \n",
    "    We notice that since $|m|$ is even, there is not a single number that separates the top and bottom halves.  So to compute the median, we must compute the mean of the middle two numbers, $73$ and $82$:\n",
    "    $$ \\text{median}= \\frac{1}{2}(73+82) = 77.5 $$\n",
    "3. *Mode*: the only number that appears more than once in the data set is $85$, so mode $=85$."
   ]
  },
  {
   "cell_type": "markdown",
   "metadata": {
    "colab_type": "text",
    "id": "yhckLpi7-xpt"
   },
   "source": [
    "There are other measures of central tendency that are generally used less frequently.  Examples include:\n",
    "* **Geometric Mean**: given a set of $n$ data points $\\{b_1,b_2,\\ldots,b_n\\}$, the geometric mean is the $n^{th}$ root of the product of the data points: $$ \\left(\\prod_{i=1}^n b_i\\right)^{1/n} = \\sqrt[n]{b_1\\cdot b_2 \\cdots b_n}. $$This has a number of uses, including proportional growth, financial and geometric applications, and even aspect ratios:  most current television and computer monitors have an aspect ratio of 16:9.  The reason is that 16:9 is the rounded geometric mean of 2.35:1 (most film aspect ratio) and 4:3 (old television aspect ratio):\n",
    "$$ \\sqrt{2.35\\cdot 4/3} \\cong 1.7701 $$\n",
    "So $ 16:9 = 1.777\\overline{7}$ was chosen.\n",
    "* **Weighted Mean**: this is a more general version of arithmetic mean, where data points have different *weights*, or contributions.  Given a set $\\{x_1,x_2,\\ldots,x_n\\}$ and corresponding weights $\\{w_1,w_2,\\ldots,w_n\\}$ (with all $w_i\\geqslant 0$), the weighted mean is given by:\n",
    "$$ \\overline{x} = \\frac{\\sum_{i=1}^n (w_i\\cdot x_i)}{\\sum_{i=1}^n w_i} = \\frac{w_1x_1 + w_2x_2 + \\ldots w_nx_n}{w_1+w_2+\\ldots+w_n} $$\n",
    "If all of the weights are the same, then we get $\\overline{x} = \\frac{1}{n}\\sum_{i=1}^n x_i$, which is the standard arithmetic mean."
   ]
  },
  {
   "cell_type": "markdown",
   "metadata": {
    "colab_type": "text",
    "id": "3_Eh42Ta-xpu"
   },
   "source": [
    "## Dispersion\n",
    "\n",
    "There are a number of ways to express how data set elements differ from the mean, and each other.  Two of the most common are\n",
    "* **Variance**: is essence, variance describes how far a data set is spread out from its mean.  Let $X=\\{x_1,x_2,\\ldots,x_n\\}$, and let $\\mu$ denote the arithmetic mean of $X$.  The variance of $X$ is defined as\n",
    "$$ \\text{Var}(X) := \\sigma^2 = \\frac{1}{n}\\sum_{i=1}^n (x_i-\\mu)^2=\\frac{1}{n}\\left((x_1-\\mu)^2+(x_2-\\mu)^2+\\ldots+(x_n-\\mu)^2\\right).$$  In other words, we take the arithmetic mean of the *squared-difference between the data set elements and the set's mean*.\n",
    "* **Standard Deviation**: the standard deviation is the square root of the variance.  One useful property of the standard deviation is that it is in the same units as the original data set (unlike the variance).  A low standard deviation implies the data set points are clustered near the mean, whereas a high standard deviation implies the data set points tend to be further from the mean.  Symbolically, the standard deviation of $X=\\{x_1,x_2,\\ldots,x_n\\}$ is given by:\n",
    "  $$ \\sigma = \\sqrt{\\frac{1}{n}\\sum_{i=1}^n (x_i-\\mu)^2} = \\sqrt{\\frac{1}{n}\\left((x_1-\\mu)^2+(x_2-\\mu)^2+\\ldots+(x_n-\\mu)^2\\right)} $$"
   ]
  },
  {
   "cell_type": "markdown",
   "metadata": {
    "colab_type": "text",
    "id": "u4XVUPaR-xpv"
   },
   "source": [
    "*Example*: Let's return to our class marks example, with  $ m = \\{95,65,82,85,52,85,73,67\\}$.  We previously computed that $\\mu=75.5$; let's compute the variance and standard deviation:\n",
    "* $\\text{Var}(m) =\\frac{1}{8}((52-75.5)^2+(65-75.5)^2+(67-75.5)^2+(73-75.5)^2+(82-75.5)^2+2\\cdot(85-75.5)^2+(95-75.5)^2)$. So, we compute that $\\text{Var}(m)=\\frac{1}{8}(1344)=168$.\n",
    "* The standard deviation is the square root of the variance, so $\\sigma_X = \\sqrt{168} \\cong 12.96.$"
   ]
  },
  {
   "cell_type": "markdown",
   "metadata": {
    "colab_type": "text",
    "id": "lu5c9av1-xpw"
   },
   "source": [
    "## Statistics and Critical Thinking\n",
    "\n",
    "Basic statistical quantities, like those we've learned in this section, are important tools we use to understand data in our lives.  One key thing to remember when presented with statistics is that by distilling large data sets into a few numbers, we are necessarily losing information about the data.  Being told the mean of some large data set is important information, but there's more that needs to be asked before you can get an idea of what the data set is really like.\n",
    "\n",
    "For example, if you were told that the class average of a given class was 60%, you might think \"that sounds reasonable\".  But that's not enough information to tell you about the actual class marks.  Here are three sets of class marks that all have an average of 60%:\n",
    "$$m_1 = \\{27,50,62,70,71,80\\}, $$\n",
    "$$m_2 = \\{30,30,30,90,90,90\\}, $$\n",
    "$$m_3 = \\{60,60,60,60,60,60\\}; $$\n",
    "i.e.: $\\mu_1=\\mu_2=\\mu_3= 60$.  But if we look at the actual marks, we can see that $m_1$ is a fairly reasonable distribution of marks, $m_2$ is not overly likely, and $m_3$ is highly suspect.  Knowing just the average is not enough for us to get an idea of how each data set looks.  The more information we can gather, the better off we are.  The first step would be to ask about the standard deviations, which are computed as:\n",
    "$$ \\sigma_1 \\cong 17, $$\n",
    "$$ \\sigma_2 = 30, $$\n",
    "$$ \\sigma_3 = 0. $$\n",
    "These give us our first clue to the unlikely nature of $m_2$ and $m_3$, since the standard deviation is very high for $m_2$, and a standard deviation of $0$ is an immediate red flag for $m_3$. But again, the standard deviation is just a tool, and knowing $m_1,\\sigma_1$ won't necessarily tell you how many people failed the class in $m_1$.   \n",
    "\n",
    "Keep in mind the meanings of the statistics you compute, and realize the limitations to understanding they present."
   ]
  },
  {
   "cell_type": "markdown",
   "metadata": {
    "colab_type": "text",
    "id": "zhsFjxen-xpx"
   },
   "source": [
    "## Statistics Assignment\n",
    "\n",
    "1. Compute the mean, median, mode, variance, and standard deviation of the following data set:\n",
    "    $$ A = \\{7, 17, 25, 13, 26,  5,  6,  7,  8, 12\\}. $$\n",
    "2. Compute the weighted mean of the set $X=\\{12,14,22,7,11\\}$ with weights $W=\\{1.2,1.3,0.8,0.9,1.0\\}$ (note: the order of each set corresponds to the other, i.e.: $x_1=12$, $w_1=1.2$, etc.)\n",
    "3.  Create 5 variables to be assigned numeric values, and write code that gives the arithmetic mean of the variables. (Note: this is a silly way to compute means, but it's a good first step.  Things will become easier when we learn about lists, and the in-built NumPy functions).\n",
    "4. Using the work from question 3, expand the code block to use the five variables and then **print** the mean, the median, and the standard deviation.  Have it print in full sentences, e.g.: \"The mean of the data is\"..., etc.\n",
    "5. Do some light research, and determine the general idea of when the arithmetic and the geometric means are used."
   ]
  },
  {
   "cell_type": "markdown",
   "metadata": {
    "colab": {},
    "colab_type": "code",
    "id": "wbpKmzAy-xpx"
   },
   "source": [
    "© BrainStation Inc. 2017 - 2019\n",
    "This material and all course content is the proprietary intellectual property of BrainStation Inc. and may only <br/> be used by course participants or educators for educational purposes as authorized by BrainStation. Any other use is unauthorized and unlawful. <img style = \"position:absolute; TOP:0px; LEFT:60px; WIDTH:35px; HEIGHT:35px\" src= \"https://drive.google.com/uc?export=view&id=1CanYUb53J1YjtFm-NPiNIKj3X9Rs61wu\" />"
   ]
  },
  {
   "cell_type": "code",
   "execution_count": null,
   "metadata": {},
   "outputs": [],
   "source": []
  }
 ],
 "metadata": {
  "colab": {
   "name": "Unit 00 - Prep Course Section 2, Statistics.ipynb",
   "provenance": [],
   "version": "0.3.2"
  },
  "kernelspec": {
   "display_name": "Python 3",
   "language": "python",
   "name": "python3"
  },
  "language_info": {
   "codemirror_mode": {
    "name": "ipython",
    "version": 3
   },
   "file_extension": ".py",
   "mimetype": "text/x-python",
   "name": "python",
   "nbconvert_exporter": "python",
   "pygments_lexer": "ipython3",
   "version": "3.8.5"
  }
 },
 "nbformat": 4,
 "nbformat_minor": 1
}
