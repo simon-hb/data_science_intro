{
 "cells": [
  {
   "cell_type": "markdown",
   "metadata": {},
   "source": [
    "# Assignment 6 Solutions <img style = \"position:absolute; TOP:0px; LEFT:840px; WIDTH:250px; HEIGHT:65px\"  src =\"https://drive.google.com/uc?export=view&id=1EnB0x-fdqMp6I5iMoEBBEuxB_s7AmE2k\" />"
   ]
  },
  {
   "cell_type": "code",
   "execution_count": 1,
   "metadata": {},
   "outputs": [
    {
     "name": "stdout",
     "output_type": "stream",
     "text": [
      "Populating the interactive namespace from numpy and matplotlib\n"
     ]
    }
   ],
   "source": [
    "import pandas as pd\n",
    "import numpy as np\n",
    "import matplotlib.pyplot as plt\n",
    "%pylab inline\n",
    "pylab.rcParams['figure.figsize'] = (10.0, 8.0)"
   ]
  },
  {
   "cell_type": "markdown",
   "metadata": {},
   "source": [
    "## Assignment 6\n",
    "\n",
    "1. Definition reminder: given a time-series data set, with an $N$-period moving average $\\mu_N$ and an $N$-period standard deviation $\\sigma_N$, the *K-Upper Bollinger Bands* are defined as the rolling computation $(\\mu_N + K\\sigma_N)$ for some $K=1,2,\\ldots$. Similarly, the *K-Lower Bollinger Bands* are $(\\mu_N - K\\sigma_N)$.  Load in the `timeseries_1.csv` price series, and create two new columns which are the first upper and lower Bollinger bands on a 4-minute level computed on the *open* price.  Create another column which has `True` if the high of any given minute is above the upper Bollinger band value, and `False` if not.\n",
    "2. Consider the following set of data:<br>\n",
    "`[ 31.64318274,  52.38028382,  52.06990842,  49.38683521, 66.2809943,  56.28673623,  56.31535831,  47.61107798, 51.22059076,  72.74444307,  44.92132396,  44.7806115 ,55.06875272,  53.30195541,  48.82836245,  56.5645093 ,58.60658527,  51.25941697,  31.19829968,  71.44567964,  50.90570844,  41.50918145,  46.12808914,  38.29642645, 74.76853757,  56.09746354,  49.40810407,  41.91971301,  59.79453349,  71.42976646,  84.08722246,  66.11230252, 52.09783487,  66.50079773,  47.23055517,  42.41625807,  34.99316584,  39.61756471,  51.67965582,  57.67403776, 60.54283988,  40.30238293,  46.61520191,  55.6952267 ,  43.87997719,  45.23675992,  59.35864021,  31.31812861, 74.5603146 , 62.91095588]`<br>\n",
    "Use the Interquartile Method to find any possible outliers.  If there are any outliers, how many standard deviations away from the mean are they?\n",
    "3. Load up the file `cordf.csv` file to answer these questions.\n",
    "  1.  Create a correlation matrix to describe how the variables in this file are correlated to each other. Which pair of columns is the most correlated? Which is the least? Note the ambiguity in this question: what does it mean for one pair to be \"more correlated\" than another?\n",
    "  2.  Create 5 scatterplots with the variable U on the x-axis in each, and the rest of the variables on the y-axes. Describe the relationship between the variables in each scatterplot. Compare and contrast your findings with the expectations you formed in question 1. Note: pandas has a cool function in pandas.plotting.scattermatrix that can do this kind of thing really fast. Make all the scatterplots by hand this time around, but play around with scattermatrix too when you're done to see how it works. Check out the docs here: http://pandas.pydata.org/pandas-docs/stable/visualization.html?highlight=color#scatter-matrix-plot\n",
    "  3.  Taking what you find in parts 1 and 2 together, what can you surmise about what exactly is measured by the correlation coefficient? What do you think you can say about the relationship between two variables if the correlation coefficient is close to 1? Close to -1? Close to 0?\n",
    "  4.  Are there transformations that you could apply to any of the variables V, W, X, Y, or Z such that the transformed variables would have a higher correlation with U? Why or why not? <br>\n",
    "4. Consider the data set <br>\n",
    "`dfcl = pd.DataFrame({'CL Price': [35, 63, 48, 46, 66, 65, 35, 65, 50, 68, 43, 57, 39, 35, 68, 95, 56, 50, 42, 38, 47, 42, 39, 44, 52, 68, 49, 34, 39, 59, 60, 60, 60, 63, 58, 38, 37, 33, 36, 64, 38, 51, 60, 62, 65, 43, 38, 41, 48, 61]}`.<br>\n",
    "Are there any values more than 3 standard deviations away from the mean? If so, can we conclude they are outliers? <br>\n",
    "2.  1.  You flip a coin $n$ times and it comes up heads on each flip. Use the hypothesis testing framework to create a statistical test that will allow you to decide if the coin is biased. How big does $n$ need to be in order to decide that the evidence is significant evidence that the coin is biased? (The ambiguity here is intentional: what does it mean for evidence to be significant?)\n",
    "   2.   You flip another coin $n$ times and it comes up tails 48% of the time. Use the hypothesis testing to create a statistical test that will allow you to decide if the coin is biased. How big does $n$ need to be for significance? [<em>Important hints for this one</em>. Computing exact p-values like we did in question 1 will probably be infeasible here (why?), so we'll need to use a different method. Notice that we can compute the proportion of tails that come up by encoding the flips with a 1 for tails and 0 for heads, and taking the <em>mean</em> of that. Since the proportion of tails is computed as a <em>sample mean</em>, we get to use the central limit theorem, which says that the proportion of tails (approximately) follows a normal distribution with mean equal to the true mean, and standard deviation equal to the true standard deviation divided by $\\sqrt{n}$].\n",
    "   3.  Based on your answers from 1 and 2, what can you say about the relationship between sample size and statistical significance?\n",
    "5. (Bonus) Part of the definition of a vector space (see the appendix if you're interested) is that every vector space must have what is called an *identity* element.  The property this satisfies is that if you add the identity to any other vector, you get that other vector back again, unchanged.  For $\\mathbb{R}^n$, what would the indentity element be?  Prove it in general. <br>\n",
    "5. (Bonus) Using the definitions we have provided for conditional probability, derive Bayes' Theorem.\n"
   ]
  },
  {
   "cell_type": "markdown",
   "metadata": {},
   "source": [
    "# 1."
   ]
  },
  {
   "cell_type": "code",
   "execution_count": 2,
   "metadata": {},
   "outputs": [
    {
     "data": {
      "text/html": [
       "<div>\n",
       "<style scoped>\n",
       "    .dataframe tbody tr th:only-of-type {\n",
       "        vertical-align: middle;\n",
       "    }\n",
       "\n",
       "    .dataframe tbody tr th {\n",
       "        vertical-align: top;\n",
       "    }\n",
       "\n",
       "    .dataframe thead th {\n",
       "        text-align: right;\n",
       "    }\n",
       "</style>\n",
       "<table border=\"1\" class=\"dataframe\">\n",
       "  <thead>\n",
       "    <tr style=\"text-align: right;\">\n",
       "      <th></th>\n",
       "      <th>open</th>\n",
       "      <th>high</th>\n",
       "      <th>low</th>\n",
       "      <th>close</th>\n",
       "      <th>volume</th>\n",
       "    </tr>\n",
       "  </thead>\n",
       "  <tbody>\n",
       "    <tr>\n",
       "      <th>2014-02-01 08:00:00</th>\n",
       "      <td>748.1</td>\n",
       "      <td>748.2</td>\n",
       "      <td>746.7</td>\n",
       "      <td>746.8</td>\n",
       "      <td>39470</td>\n",
       "    </tr>\n",
       "    <tr>\n",
       "      <th>2014-02-01 08:01:00</th>\n",
       "      <td>746.9</td>\n",
       "      <td>747.1</td>\n",
       "      <td>746.8</td>\n",
       "      <td>746.8</td>\n",
       "      <td>10498</td>\n",
       "    </tr>\n",
       "    <tr>\n",
       "      <th>2014-02-01 08:02:00</th>\n",
       "      <td>746.8</td>\n",
       "      <td>747.2</td>\n",
       "      <td>746.7</td>\n",
       "      <td>747.1</td>\n",
       "      <td>7782</td>\n",
       "    </tr>\n",
       "    <tr>\n",
       "      <th>2014-02-01 08:03:00</th>\n",
       "      <td>747.2</td>\n",
       "      <td>747.8</td>\n",
       "      <td>747.1</td>\n",
       "      <td>747.6</td>\n",
       "      <td>10678</td>\n",
       "    </tr>\n",
       "    <tr>\n",
       "      <th>2014-02-01 08:04:00</th>\n",
       "      <td>747.5</td>\n",
       "      <td>747.8</td>\n",
       "      <td>747.5</td>\n",
       "      <td>747.8</td>\n",
       "      <td>3194</td>\n",
       "    </tr>\n",
       "  </tbody>\n",
       "</table>\n",
       "</div>"
      ],
      "text/plain": [
       "                      open   high    low  close  volume\n",
       "2014-02-01 08:00:00  748.1  748.2  746.7  746.8   39470\n",
       "2014-02-01 08:01:00  746.9  747.1  746.8  746.8   10498\n",
       "2014-02-01 08:02:00  746.8  747.2  746.7  747.1    7782\n",
       "2014-02-01 08:03:00  747.2  747.8  747.1  747.6   10678\n",
       "2014-02-01 08:04:00  747.5  747.8  747.5  747.8    3194"
      ]
     },
     "execution_count": 2,
     "metadata": {},
     "output_type": "execute_result"
    }
   ],
   "source": [
    "ts = pd.read_csv('timeseries_1.csv', index_col=0, parse_dates=True);\n",
    "ts.head()"
   ]
  },
  {
   "cell_type": "code",
   "execution_count": 3,
   "metadata": {},
   "outputs": [
    {
     "data": {
      "text/html": [
       "<div>\n",
       "<style scoped>\n",
       "    .dataframe tbody tr th:only-of-type {\n",
       "        vertical-align: middle;\n",
       "    }\n",
       "\n",
       "    .dataframe tbody tr th {\n",
       "        vertical-align: top;\n",
       "    }\n",
       "\n",
       "    .dataframe thead th {\n",
       "        text-align: right;\n",
       "    }\n",
       "</style>\n",
       "<table border=\"1\" class=\"dataframe\">\n",
       "  <thead>\n",
       "    <tr style=\"text-align: right;\">\n",
       "      <th></th>\n",
       "      <th>open</th>\n",
       "      <th>high</th>\n",
       "      <th>low</th>\n",
       "      <th>close</th>\n",
       "      <th>volume</th>\n",
       "      <th>4min MA</th>\n",
       "      <th>4min SD</th>\n",
       "    </tr>\n",
       "  </thead>\n",
       "  <tbody>\n",
       "    <tr>\n",
       "      <th>2014-02-01 08:00:00</th>\n",
       "      <td>748.1</td>\n",
       "      <td>748.2</td>\n",
       "      <td>746.7</td>\n",
       "      <td>746.8</td>\n",
       "      <td>39470</td>\n",
       "      <td>NaN</td>\n",
       "      <td>NaN</td>\n",
       "    </tr>\n",
       "    <tr>\n",
       "      <th>2014-02-01 08:01:00</th>\n",
       "      <td>746.9</td>\n",
       "      <td>747.1</td>\n",
       "      <td>746.8</td>\n",
       "      <td>746.8</td>\n",
       "      <td>10498</td>\n",
       "      <td>NaN</td>\n",
       "      <td>NaN</td>\n",
       "    </tr>\n",
       "    <tr>\n",
       "      <th>2014-02-01 08:02:00</th>\n",
       "      <td>746.8</td>\n",
       "      <td>747.2</td>\n",
       "      <td>746.7</td>\n",
       "      <td>747.1</td>\n",
       "      <td>7782</td>\n",
       "      <td>NaN</td>\n",
       "      <td>NaN</td>\n",
       "    </tr>\n",
       "    <tr>\n",
       "      <th>2014-02-01 08:03:00</th>\n",
       "      <td>747.2</td>\n",
       "      <td>747.8</td>\n",
       "      <td>747.1</td>\n",
       "      <td>747.6</td>\n",
       "      <td>10678</td>\n",
       "      <td>747.25</td>\n",
       "      <td>0.591608</td>\n",
       "    </tr>\n",
       "    <tr>\n",
       "      <th>2014-02-01 08:04:00</th>\n",
       "      <td>747.5</td>\n",
       "      <td>747.8</td>\n",
       "      <td>747.5</td>\n",
       "      <td>747.8</td>\n",
       "      <td>3194</td>\n",
       "      <td>747.10</td>\n",
       "      <td>0.316228</td>\n",
       "    </tr>\n",
       "  </tbody>\n",
       "</table>\n",
       "</div>"
      ],
      "text/plain": [
       "                      open   high    low  close  volume  4min MA   4min SD\n",
       "2014-02-01 08:00:00  748.1  748.2  746.7  746.8   39470      NaN       NaN\n",
       "2014-02-01 08:01:00  746.9  747.1  746.8  746.8   10498      NaN       NaN\n",
       "2014-02-01 08:02:00  746.8  747.2  746.7  747.1    7782      NaN       NaN\n",
       "2014-02-01 08:03:00  747.2  747.8  747.1  747.6   10678   747.25  0.591608\n",
       "2014-02-01 08:04:00  747.5  747.8  747.5  747.8    3194   747.10  0.316228"
      ]
     },
     "execution_count": 3,
     "metadata": {},
     "output_type": "execute_result"
    }
   ],
   "source": [
    "ts['4min MA'] = ts['open'].rolling(window=4).mean()\n",
    "ts['4min SD'] = ts['open'].rolling(window=4).std()\n",
    "ts.head()"
   ]
  },
  {
   "cell_type": "code",
   "execution_count": 4,
   "metadata": {},
   "outputs": [
    {
     "data": {
      "text/html": [
       "<div>\n",
       "<style scoped>\n",
       "    .dataframe tbody tr th:only-of-type {\n",
       "        vertical-align: middle;\n",
       "    }\n",
       "\n",
       "    .dataframe tbody tr th {\n",
       "        vertical-align: top;\n",
       "    }\n",
       "\n",
       "    .dataframe thead th {\n",
       "        text-align: right;\n",
       "    }\n",
       "</style>\n",
       "<table border=\"1\" class=\"dataframe\">\n",
       "  <thead>\n",
       "    <tr style=\"text-align: right;\">\n",
       "      <th></th>\n",
       "      <th>open</th>\n",
       "      <th>high</th>\n",
       "      <th>low</th>\n",
       "      <th>close</th>\n",
       "      <th>volume</th>\n",
       "      <th>Upper Bolinger</th>\n",
       "      <th>Lower Bolinger</th>\n",
       "    </tr>\n",
       "  </thead>\n",
       "  <tbody>\n",
       "    <tr>\n",
       "      <th>2014-02-01 08:00:00</th>\n",
       "      <td>748.1</td>\n",
       "      <td>748.2</td>\n",
       "      <td>746.7</td>\n",
       "      <td>746.8</td>\n",
       "      <td>39470</td>\n",
       "      <td>NaN</td>\n",
       "      <td>NaN</td>\n",
       "    </tr>\n",
       "    <tr>\n",
       "      <th>2014-02-01 08:01:00</th>\n",
       "      <td>746.9</td>\n",
       "      <td>747.1</td>\n",
       "      <td>746.8</td>\n",
       "      <td>746.8</td>\n",
       "      <td>10498</td>\n",
       "      <td>NaN</td>\n",
       "      <td>NaN</td>\n",
       "    </tr>\n",
       "    <tr>\n",
       "      <th>2014-02-01 08:02:00</th>\n",
       "      <td>746.8</td>\n",
       "      <td>747.2</td>\n",
       "      <td>746.7</td>\n",
       "      <td>747.1</td>\n",
       "      <td>7782</td>\n",
       "      <td>NaN</td>\n",
       "      <td>NaN</td>\n",
       "    </tr>\n",
       "    <tr>\n",
       "      <th>2014-02-01 08:03:00</th>\n",
       "      <td>747.2</td>\n",
       "      <td>747.8</td>\n",
       "      <td>747.1</td>\n",
       "      <td>747.6</td>\n",
       "      <td>10678</td>\n",
       "      <td>747.841608</td>\n",
       "      <td>746.658392</td>\n",
       "    </tr>\n",
       "    <tr>\n",
       "      <th>2014-02-01 08:04:00</th>\n",
       "      <td>747.5</td>\n",
       "      <td>747.8</td>\n",
       "      <td>747.5</td>\n",
       "      <td>747.8</td>\n",
       "      <td>3194</td>\n",
       "      <td>747.416228</td>\n",
       "      <td>746.783772</td>\n",
       "    </tr>\n",
       "  </tbody>\n",
       "</table>\n",
       "</div>"
      ],
      "text/plain": [
       "                      open   high    low  close  volume  Upper Bolinger  \\\n",
       "2014-02-01 08:00:00  748.1  748.2  746.7  746.8   39470             NaN   \n",
       "2014-02-01 08:01:00  746.9  747.1  746.8  746.8   10498             NaN   \n",
       "2014-02-01 08:02:00  746.8  747.2  746.7  747.1    7782             NaN   \n",
       "2014-02-01 08:03:00  747.2  747.8  747.1  747.6   10678      747.841608   \n",
       "2014-02-01 08:04:00  747.5  747.8  747.5  747.8    3194      747.416228   \n",
       "\n",
       "                     Lower Bolinger  \n",
       "2014-02-01 08:00:00             NaN  \n",
       "2014-02-01 08:01:00             NaN  \n",
       "2014-02-01 08:02:00             NaN  \n",
       "2014-02-01 08:03:00      746.658392  \n",
       "2014-02-01 08:04:00      746.783772  "
      ]
     },
     "execution_count": 4,
     "metadata": {},
     "output_type": "execute_result"
    }
   ],
   "source": [
    "ts['Upper Bolinger'] = ts['4min MA']+ts['4min SD']\n",
    "ts['Lower Bolinger'] = ts['4min MA']-ts['4min SD']\n",
    "ts.drop(['4min MA'], axis = 1, inplace = True)\n",
    "ts.drop(['4min SD'], axis = 1, inplace = True)\n",
    "ts.head()"
   ]
  },
  {
   "cell_type": "code",
   "execution_count": 5,
   "metadata": {},
   "outputs": [],
   "source": [
    "ts['Signal'] = np.where(ts['Upper Bolinger']<ts['high'],True,False)"
   ]
  },
  {
   "cell_type": "code",
   "execution_count": 6,
   "metadata": {},
   "outputs": [
    {
     "data": {
      "text/html": [
       "<div>\n",
       "<style scoped>\n",
       "    .dataframe tbody tr th:only-of-type {\n",
       "        vertical-align: middle;\n",
       "    }\n",
       "\n",
       "    .dataframe tbody tr th {\n",
       "        vertical-align: top;\n",
       "    }\n",
       "\n",
       "    .dataframe thead th {\n",
       "        text-align: right;\n",
       "    }\n",
       "</style>\n",
       "<table border=\"1\" class=\"dataframe\">\n",
       "  <thead>\n",
       "    <tr style=\"text-align: right;\">\n",
       "      <th></th>\n",
       "      <th>open</th>\n",
       "      <th>high</th>\n",
       "      <th>low</th>\n",
       "      <th>close</th>\n",
       "      <th>volume</th>\n",
       "      <th>Upper Bolinger</th>\n",
       "      <th>Lower Bolinger</th>\n",
       "      <th>Signal</th>\n",
       "    </tr>\n",
       "  </thead>\n",
       "  <tbody>\n",
       "    <tr>\n",
       "      <th>2014-02-01 08:00:00</th>\n",
       "      <td>748.1</td>\n",
       "      <td>748.2</td>\n",
       "      <td>746.7</td>\n",
       "      <td>746.8</td>\n",
       "      <td>39470</td>\n",
       "      <td>NaN</td>\n",
       "      <td>NaN</td>\n",
       "      <td>False</td>\n",
       "    </tr>\n",
       "    <tr>\n",
       "      <th>2014-02-01 08:01:00</th>\n",
       "      <td>746.9</td>\n",
       "      <td>747.1</td>\n",
       "      <td>746.8</td>\n",
       "      <td>746.8</td>\n",
       "      <td>10498</td>\n",
       "      <td>NaN</td>\n",
       "      <td>NaN</td>\n",
       "      <td>False</td>\n",
       "    </tr>\n",
       "    <tr>\n",
       "      <th>2014-02-01 08:02:00</th>\n",
       "      <td>746.8</td>\n",
       "      <td>747.2</td>\n",
       "      <td>746.7</td>\n",
       "      <td>747.1</td>\n",
       "      <td>7782</td>\n",
       "      <td>NaN</td>\n",
       "      <td>NaN</td>\n",
       "      <td>False</td>\n",
       "    </tr>\n",
       "    <tr>\n",
       "      <th>2014-02-01 08:03:00</th>\n",
       "      <td>747.2</td>\n",
       "      <td>747.8</td>\n",
       "      <td>747.1</td>\n",
       "      <td>747.6</td>\n",
       "      <td>10678</td>\n",
       "      <td>747.841608</td>\n",
       "      <td>746.658392</td>\n",
       "      <td>False</td>\n",
       "    </tr>\n",
       "    <tr>\n",
       "      <th>2014-02-01 08:04:00</th>\n",
       "      <td>747.5</td>\n",
       "      <td>747.8</td>\n",
       "      <td>747.5</td>\n",
       "      <td>747.8</td>\n",
       "      <td>3194</td>\n",
       "      <td>747.416228</td>\n",
       "      <td>746.783772</td>\n",
       "      <td>True</td>\n",
       "    </tr>\n",
       "    <tr>\n",
       "      <th>2014-02-01 08:05:00</th>\n",
       "      <td>747.7</td>\n",
       "      <td>747.8</td>\n",
       "      <td>747.6</td>\n",
       "      <td>747.6</td>\n",
       "      <td>2274</td>\n",
       "      <td>747.691578</td>\n",
       "      <td>746.908422</td>\n",
       "      <td>True</td>\n",
       "    </tr>\n",
       "    <tr>\n",
       "      <th>2014-02-01 08:06:00</th>\n",
       "      <td>747.6</td>\n",
       "      <td>747.8</td>\n",
       "      <td>747.6</td>\n",
       "      <td>747.6</td>\n",
       "      <td>2206</td>\n",
       "      <td>747.716025</td>\n",
       "      <td>747.283975</td>\n",
       "      <td>True</td>\n",
       "    </tr>\n",
       "    <tr>\n",
       "      <th>2014-02-01 08:07:00</th>\n",
       "      <td>747.6</td>\n",
       "      <td>747.7</td>\n",
       "      <td>747.2</td>\n",
       "      <td>747.2</td>\n",
       "      <td>3890</td>\n",
       "      <td>747.681650</td>\n",
       "      <td>747.518350</td>\n",
       "      <td>True</td>\n",
       "    </tr>\n",
       "    <tr>\n",
       "      <th>2014-02-01 08:08:00</th>\n",
       "      <td>747.2</td>\n",
       "      <td>747.5</td>\n",
       "      <td>747.2</td>\n",
       "      <td>747.2</td>\n",
       "      <td>4086</td>\n",
       "      <td>747.746736</td>\n",
       "      <td>747.303264</td>\n",
       "      <td>False</td>\n",
       "    </tr>\n",
       "    <tr>\n",
       "      <th>2014-02-01 08:09:00</th>\n",
       "      <td>747.3</td>\n",
       "      <td>747.4</td>\n",
       "      <td>747.2</td>\n",
       "      <td>747.3</td>\n",
       "      <td>2830</td>\n",
       "      <td>747.631155</td>\n",
       "      <td>747.218845</td>\n",
       "      <td>False</td>\n",
       "    </tr>\n",
       "    <tr>\n",
       "      <th>2014-02-01 08:10:00</th>\n",
       "      <td>747.2</td>\n",
       "      <td>747.3</td>\n",
       "      <td>747.2</td>\n",
       "      <td>747.3</td>\n",
       "      <td>306</td>\n",
       "      <td>747.514297</td>\n",
       "      <td>747.135703</td>\n",
       "      <td>False</td>\n",
       "    </tr>\n",
       "    <tr>\n",
       "      <th>2014-02-01 08:11:00</th>\n",
       "      <td>747.2</td>\n",
       "      <td>747.2</td>\n",
       "      <td>747.0</td>\n",
       "      <td>747.1</td>\n",
       "      <td>4186</td>\n",
       "      <td>747.275000</td>\n",
       "      <td>747.175000</td>\n",
       "      <td>False</td>\n",
       "    </tr>\n",
       "    <tr>\n",
       "      <th>2014-02-01 08:12:00</th>\n",
       "      <td>747.0</td>\n",
       "      <td>747.3</td>\n",
       "      <td>747.0</td>\n",
       "      <td>747.2</td>\n",
       "      <td>3258</td>\n",
       "      <td>747.300831</td>\n",
       "      <td>747.049169</td>\n",
       "      <td>False</td>\n",
       "    </tr>\n",
       "    <tr>\n",
       "      <th>2014-02-01 08:13:00</th>\n",
       "      <td>747.2</td>\n",
       "      <td>747.5</td>\n",
       "      <td>747.2</td>\n",
       "      <td>747.5</td>\n",
       "      <td>4366</td>\n",
       "      <td>747.250000</td>\n",
       "      <td>747.050000</td>\n",
       "      <td>True</td>\n",
       "    </tr>\n",
       "    <tr>\n",
       "      <th>2014-02-01 08:14:00</th>\n",
       "      <td>747.5</td>\n",
       "      <td>747.6</td>\n",
       "      <td>747.4</td>\n",
       "      <td>747.6</td>\n",
       "      <td>1246</td>\n",
       "      <td>747.431155</td>\n",
       "      <td>747.018845</td>\n",
       "      <td>True</td>\n",
       "    </tr>\n",
       "    <tr>\n",
       "      <th>2014-02-01 08:15:00</th>\n",
       "      <td>747.6</td>\n",
       "      <td>747.7</td>\n",
       "      <td>747.5</td>\n",
       "      <td>747.7</td>\n",
       "      <td>1862</td>\n",
       "      <td>747.600379</td>\n",
       "      <td>747.049621</td>\n",
       "      <td>True</td>\n",
       "    </tr>\n",
       "    <tr>\n",
       "      <th>2014-02-01 08:16:00</th>\n",
       "      <td>747.7</td>\n",
       "      <td>747.9</td>\n",
       "      <td>747.6</td>\n",
       "      <td>747.7</td>\n",
       "      <td>3022</td>\n",
       "      <td>747.716025</td>\n",
       "      <td>747.283975</td>\n",
       "      <td>True</td>\n",
       "    </tr>\n",
       "    <tr>\n",
       "      <th>2014-02-01 08:17:00</th>\n",
       "      <td>747.7</td>\n",
       "      <td>747.8</td>\n",
       "      <td>747.6</td>\n",
       "      <td>747.7</td>\n",
       "      <td>1902</td>\n",
       "      <td>747.720743</td>\n",
       "      <td>747.529257</td>\n",
       "      <td>True</td>\n",
       "    </tr>\n",
       "    <tr>\n",
       "      <th>2014-02-01 08:18:00</th>\n",
       "      <td>747.6</td>\n",
       "      <td>747.7</td>\n",
       "      <td>747.6</td>\n",
       "      <td>747.6</td>\n",
       "      <td>2610</td>\n",
       "      <td>747.707735</td>\n",
       "      <td>747.592265</td>\n",
       "      <td>False</td>\n",
       "    </tr>\n",
       "    <tr>\n",
       "      <th>2014-02-01 08:19:00</th>\n",
       "      <td>747.7</td>\n",
       "      <td>747.8</td>\n",
       "      <td>747.7</td>\n",
       "      <td>747.7</td>\n",
       "      <td>646</td>\n",
       "      <td>747.725000</td>\n",
       "      <td>747.625000</td>\n",
       "      <td>True</td>\n",
       "    </tr>\n",
       "    <tr>\n",
       "      <th>2014-02-01 08:20:00</th>\n",
       "      <td>747.7</td>\n",
       "      <td>747.8</td>\n",
       "      <td>747.7</td>\n",
       "      <td>747.7</td>\n",
       "      <td>862</td>\n",
       "      <td>747.725000</td>\n",
       "      <td>747.625000</td>\n",
       "      <td>True</td>\n",
       "    </tr>\n",
       "  </tbody>\n",
       "</table>\n",
       "</div>"
      ],
      "text/plain": [
       "                      open   high    low  close  volume  Upper Bolinger  \\\n",
       "2014-02-01 08:00:00  748.1  748.2  746.7  746.8   39470             NaN   \n",
       "2014-02-01 08:01:00  746.9  747.1  746.8  746.8   10498             NaN   \n",
       "2014-02-01 08:02:00  746.8  747.2  746.7  747.1    7782             NaN   \n",
       "2014-02-01 08:03:00  747.2  747.8  747.1  747.6   10678      747.841608   \n",
       "2014-02-01 08:04:00  747.5  747.8  747.5  747.8    3194      747.416228   \n",
       "2014-02-01 08:05:00  747.7  747.8  747.6  747.6    2274      747.691578   \n",
       "2014-02-01 08:06:00  747.6  747.8  747.6  747.6    2206      747.716025   \n",
       "2014-02-01 08:07:00  747.6  747.7  747.2  747.2    3890      747.681650   \n",
       "2014-02-01 08:08:00  747.2  747.5  747.2  747.2    4086      747.746736   \n",
       "2014-02-01 08:09:00  747.3  747.4  747.2  747.3    2830      747.631155   \n",
       "2014-02-01 08:10:00  747.2  747.3  747.2  747.3     306      747.514297   \n",
       "2014-02-01 08:11:00  747.2  747.2  747.0  747.1    4186      747.275000   \n",
       "2014-02-01 08:12:00  747.0  747.3  747.0  747.2    3258      747.300831   \n",
       "2014-02-01 08:13:00  747.2  747.5  747.2  747.5    4366      747.250000   \n",
       "2014-02-01 08:14:00  747.5  747.6  747.4  747.6    1246      747.431155   \n",
       "2014-02-01 08:15:00  747.6  747.7  747.5  747.7    1862      747.600379   \n",
       "2014-02-01 08:16:00  747.7  747.9  747.6  747.7    3022      747.716025   \n",
       "2014-02-01 08:17:00  747.7  747.8  747.6  747.7    1902      747.720743   \n",
       "2014-02-01 08:18:00  747.6  747.7  747.6  747.6    2610      747.707735   \n",
       "2014-02-01 08:19:00  747.7  747.8  747.7  747.7     646      747.725000   \n",
       "2014-02-01 08:20:00  747.7  747.8  747.7  747.7     862      747.725000   \n",
       "\n",
       "                     Lower Bolinger  Signal  \n",
       "2014-02-01 08:00:00             NaN   False  \n",
       "2014-02-01 08:01:00             NaN   False  \n",
       "2014-02-01 08:02:00             NaN   False  \n",
       "2014-02-01 08:03:00      746.658392   False  \n",
       "2014-02-01 08:04:00      746.783772    True  \n",
       "2014-02-01 08:05:00      746.908422    True  \n",
       "2014-02-01 08:06:00      747.283975    True  \n",
       "2014-02-01 08:07:00      747.518350    True  \n",
       "2014-02-01 08:08:00      747.303264   False  \n",
       "2014-02-01 08:09:00      747.218845   False  \n",
       "2014-02-01 08:10:00      747.135703   False  \n",
       "2014-02-01 08:11:00      747.175000   False  \n",
       "2014-02-01 08:12:00      747.049169   False  \n",
       "2014-02-01 08:13:00      747.050000    True  \n",
       "2014-02-01 08:14:00      747.018845    True  \n",
       "2014-02-01 08:15:00      747.049621    True  \n",
       "2014-02-01 08:16:00      747.283975    True  \n",
       "2014-02-01 08:17:00      747.529257    True  \n",
       "2014-02-01 08:18:00      747.592265   False  \n",
       "2014-02-01 08:19:00      747.625000    True  \n",
       "2014-02-01 08:20:00      747.625000    True  "
      ]
     },
     "execution_count": 6,
     "metadata": {},
     "output_type": "execute_result"
    }
   ],
   "source": [
    "ts"
   ]
  },
  {
   "cell_type": "markdown",
   "metadata": {},
   "source": [
    "# 2."
   ]
  },
  {
   "cell_type": "code",
   "execution_count": 7,
   "metadata": {},
   "outputs": [],
   "source": [
    "data = pd.Series([ 31.64318274,  52.38028382,  52.06990842,  49.38683521, 66.2809943,  56.28673623,  56.31535831,  47.61107798, \n",
    "        51.22059076,  72.74444307,  44.92132396,  44.7806115 ,55.06875272,  53.30195541,  48.82836245,  56.5645093 ,\n",
    "        58.60658527,  51.25941697,  31.19829968,  71.44567964,  50.90570844,  41.50918145,  46.12808914,  38.29642645, \n",
    "        74.76853757,  56.09746354,  49.40810407,  41.91971301,  59.79453349,  71.42976646,  84.08722246,  66.11230252, \n",
    "        52.09783487,  66.50079773,  47.23055517,  42.41625807,  34.99316584,  39.61756471,  51.67965582,  57.67403776, \n",
    "        60.54283988,  40.30238293,  46.61520191,  55.6952267 ,  43.87997719,  45.23675992,  59.35864021,  31.31812861, \n",
    "        74.5603146 , 62.91095588])"
   ]
  },
  {
   "cell_type": "code",
   "execution_count": 8,
   "metadata": {},
   "outputs": [],
   "source": [
    "IQR = data.quantile(0.75) - data.quantile(0.25)\n",
    "Q1 = data.quantile(0.25)\n",
    "Q3 = data.quantile(0.75)"
   ]
  },
  {
   "cell_type": "code",
   "execution_count": 9,
   "metadata": {},
   "outputs": [
    {
     "data": {
      "text/plain": [
       "30    84.087222\n",
       "dtype: float64"
      ]
     },
     "execution_count": 9,
     "metadata": {},
     "output_type": "execute_result"
    }
   ],
   "source": [
    "data[(data < Q1 - 1.5*IQR ) | ( data > Q3 + 1.5*IQR)]"
   ]
  },
  {
   "cell_type": "markdown",
   "metadata": {},
   "source": [
    "So the only possible outlier is 84.087222.  We can figure out how many standard deviations from the mean it is:"
   ]
  },
  {
   "cell_type": "code",
   "execution_count": 10,
   "metadata": {},
   "outputs": [
    {
     "data": {
      "text/plain": [
       "76.78606863880533"
      ]
     },
     "execution_count": 10,
     "metadata": {},
     "output_type": "execute_result"
    }
   ],
   "source": [
    "data.mean() + 2*data.std()"
   ]
  },
  {
   "cell_type": "code",
   "execution_count": 11,
   "metadata": {},
   "outputs": [
    {
     "data": {
      "text/plain": [
       "88.72908041680799"
      ]
     },
     "execution_count": 11,
     "metadata": {},
     "output_type": "execute_result"
    }
   ],
   "source": [
    "data.mean() + 3*data.std()"
   ]
  },
  {
   "cell_type": "markdown",
   "metadata": {},
   "source": [
    "So it is between 2 and 3 standard deviations from the mean."
   ]
  },
  {
   "cell_type": "markdown",
   "metadata": {},
   "source": [
    "# 3. A."
   ]
  },
  {
   "cell_type": "code",
   "execution_count": 13,
   "metadata": {},
   "outputs": [
    {
     "data": {
      "text/html": [
       "<div>\n",
       "<style scoped>\n",
       "    .dataframe tbody tr th:only-of-type {\n",
       "        vertical-align: middle;\n",
       "    }\n",
       "\n",
       "    .dataframe tbody tr th {\n",
       "        vertical-align: top;\n",
       "    }\n",
       "\n",
       "    .dataframe thead th {\n",
       "        text-align: right;\n",
       "    }\n",
       "</style>\n",
       "<table border=\"1\" class=\"dataframe\">\n",
       "  <thead>\n",
       "    <tr style=\"text-align: right;\">\n",
       "      <th></th>\n",
       "      <th>U</th>\n",
       "      <th>V</th>\n",
       "      <th>W</th>\n",
       "      <th>X</th>\n",
       "      <th>Y</th>\n",
       "      <th>Z</th>\n",
       "    </tr>\n",
       "  </thead>\n",
       "  <tbody>\n",
       "    <tr>\n",
       "      <th>U</th>\n",
       "      <td>1.000000</td>\n",
       "      <td>-0.017595</td>\n",
       "      <td>-0.888213</td>\n",
       "      <td>0.000520</td>\n",
       "      <td>0.627311</td>\n",
       "      <td>0.342996</td>\n",
       "    </tr>\n",
       "    <tr>\n",
       "      <th>V</th>\n",
       "      <td>-0.017595</td>\n",
       "      <td>1.000000</td>\n",
       "      <td>0.006217</td>\n",
       "      <td>0.008271</td>\n",
       "      <td>-0.001050</td>\n",
       "      <td>-0.025472</td>\n",
       "    </tr>\n",
       "    <tr>\n",
       "      <th>W</th>\n",
       "      <td>-0.888213</td>\n",
       "      <td>0.006217</td>\n",
       "      <td>1.000000</td>\n",
       "      <td>-0.000237</td>\n",
       "      <td>-0.570783</td>\n",
       "      <td>-0.306872</td>\n",
       "    </tr>\n",
       "    <tr>\n",
       "      <th>X</th>\n",
       "      <td>0.000520</td>\n",
       "      <td>0.008271</td>\n",
       "      <td>-0.000237</td>\n",
       "      <td>1.000000</td>\n",
       "      <td>-0.009350</td>\n",
       "      <td>0.508597</td>\n",
       "    </tr>\n",
       "    <tr>\n",
       "      <th>Y</th>\n",
       "      <td>0.627311</td>\n",
       "      <td>-0.001050</td>\n",
       "      <td>-0.570783</td>\n",
       "      <td>-0.009350</td>\n",
       "      <td>1.000000</td>\n",
       "      <td>0.181291</td>\n",
       "    </tr>\n",
       "    <tr>\n",
       "      <th>Z</th>\n",
       "      <td>0.342996</td>\n",
       "      <td>-0.025472</td>\n",
       "      <td>-0.306872</td>\n",
       "      <td>0.508597</td>\n",
       "      <td>0.181291</td>\n",
       "      <td>1.000000</td>\n",
       "    </tr>\n",
       "  </tbody>\n",
       "</table>\n",
       "</div>"
      ],
      "text/plain": [
       "          U         V         W         X         Y         Z\n",
       "U  1.000000 -0.017595 -0.888213  0.000520  0.627311  0.342996\n",
       "V -0.017595  1.000000  0.006217  0.008271 -0.001050 -0.025472\n",
       "W -0.888213  0.006217  1.000000 -0.000237 -0.570783 -0.306872\n",
       "X  0.000520  0.008271 -0.000237  1.000000 -0.009350  0.508597\n",
       "Y  0.627311 -0.001050 -0.570783 -0.009350  1.000000  0.181291\n",
       "Z  0.342996 -0.025472 -0.306872  0.508597  0.181291  1.000000"
      ]
     },
     "execution_count": 13,
     "metadata": {},
     "output_type": "execute_result"
    }
   ],
   "source": [
    "cordf = pd.read_csv(\"cordf.csv\")\n",
    "\n",
    "# Correlation matrix\n",
    "cordf.corr()"
   ]
  },
  {
   "cell_type": "markdown",
   "metadata": {},
   "source": [
    "The most tightly correlated variables are U and W, followed by U and Y and then Y and W. Note that there is some transitivity here: we know U and W are correlated, and U and Y are correlated, so W and Y also end up being correlated.\n",
    "\n",
    "The least correlated variables are U and X, and the correlations are small (in absolute value) for U,V and V,W, and V,X as well.\n",
    "\n",
    "When we talk about how much variables are correlated, we should really be referring to the absolute values. Variables are perfectly correlated when their correlation coefficients are 1 or -1, and uncorrelated when their correlation coefficient is 0. The sign indicates the direction of the relationship."
   ]
  },
  {
   "cell_type": "markdown",
   "metadata": {},
   "source": [
    "# 3.B."
   ]
  },
  {
   "cell_type": "code",
   "execution_count": 14,
   "metadata": {
    "scrolled": false
   },
   "outputs": [
    {
     "data": {
      "text/plain": [
       "<matplotlib.axes._subplots.AxesSubplot at 0x7fe2298d3310>"
      ]
     },
     "execution_count": 14,
     "metadata": {},
     "output_type": "execute_result"
    },
    {
     "data": {
      "image/png": "[encoded data removed]",
      "text/plain": [
       "<Figure size 720x576 with 1 Axes>"
      ]
     },
     "metadata": {
      "needs_background": "light"
     },
     "output_type": "display_data"
    },
    {
     "data": {
      "image/png": "[encoded data removed]",
      "text/plain": [
       "<Figure size 720x576 with 1 Axes>"
      ]
     },
     "metadata": {
      "needs_background": "light"
     },
     "output_type": "display_data"
    },
    {
     "data": {
      "image/png": "[encoded data removed]",
      "text/plain": [
       "<Figure size 720x576 with 1 Axes>"
      ]
     },
     "metadata": {
      "needs_background": "light"
     },
     "output_type": "display_data"
    },
    {
     "data": {
      "image/png": "[encoded data removed]",
      "text/plain": [
       "<Figure size 720x576 with 1 Axes>"
      ]
     },
     "metadata": {
      "needs_background": "light"
     },
     "output_type": "display_data"
    },
    {
     "data": {
      "image/png": "[encoded data removed]",
      "text/plain": [
       "<Figure size 720x576 with 1 Axes>"
      ]
     },
     "metadata": {
      "needs_background": "light"
     },
     "output_type": "display_data"
    }
   ],
   "source": [
    "cordf.plot(x = \"U\", y = \"V\", kind = \"scatter\")\n",
    "cordf.plot(x = \"U\", y = \"W\", kind = \"scatter\")\n",
    "cordf.plot(x = \"U\", y = \"X\", kind = \"scatter\")\n",
    "cordf.plot(x = \"U\", y = \"Y\", kind = \"scatter\")\n",
    "cordf.plot(x = \"U\", y = \"Z\", kind = \"scatter\")"
   ]
  },
  {
   "cell_type": "markdown",
   "metadata": {},
   "source": [
    "The pair (U, V) appears how we might expect uncorrelated variables to look. In fact the processes that generated this data were independent, which is a stronger condition than uncorrelatedness, i.e. if columns are independent then they are uncorrelated (but not vice versa!).\n",
    "\n",
    "There is a strong negative linear relationship between the pair (U, W), which agrees with their high (in absolute value) correlation coefficient (or high $R^2$).\n",
    "\n",
    "In the third case, there is obviously a relationship between U and X, which might be surprising given their low correlation coefficient.\n",
    "\n",
    "In the fourth case, the correlation is a little bit harder to see, but it is a positive linear correlation.\n",
    "\n",
    "In the fifth case, there is also an obvious relationship between U and Z, and the magnitude of this relationship is not being reflected."
   ]
  },
  {
   "cell_type": "markdown",
   "metadata": {},
   "source": [
    "# 3.C.\n",
    "\n",
    "When the absolute value of the correlation coefficient between two variables is close to 1, you know that the relationship resembles a straight line. If it's positive, then the relationship resembles a line with positive slope, and vice versa. When the correlation coefficient is close to 0, there's less you can say. You can say for sure that the relationship is not a straight line, but that doesn't mean that there is no relationship. That's one reason why it's important to always look at data that you're working with."
   ]
  },
  {
   "cell_type": "markdown",
   "metadata": {},
   "source": [
    "# 3.D.\n",
    "\n",
    "The relationship between U and Z looks like it might be exponential, so we might be able to transform the data by taking the logarithm of Z, which is the inverse of the exponential function, and make the relationship linear. The relationship between U and X appears to be quadratic. Unfortunately here it is less straightforward to find a transformation to make the data linear; quadratic functions do not have real inverses (why not?). We will learn more about how to model relationships that are not linear in the next unit.\n"
   ]
  },
  {
   "cell_type": "code",
   "execution_count": 15,
   "metadata": {},
   "outputs": [
    {
     "name": "stderr",
     "output_type": "stream",
     "text": [
      "/Users/boyangqiu/opt/anaconda3/lib/python3.7/site-packages/pandas/core/series.py:679: RuntimeWarning: invalid value encountered in sqrt\n",
      "  result = getattr(ufunc, method)(*inputs, **kwargs)\n"
     ]
    },
    {
     "data": {
      "text/html": [
       "<div>\n",
       "<style scoped>\n",
       "    .dataframe tbody tr th:only-of-type {\n",
       "        vertical-align: middle;\n",
       "    }\n",
       "\n",
       "    .dataframe tbody tr th {\n",
       "        vertical-align: top;\n",
       "    }\n",
       "\n",
       "    .dataframe thead th {\n",
       "        text-align: right;\n",
       "    }\n",
       "</style>\n",
       "<table border=\"1\" class=\"dataframe\">\n",
       "  <thead>\n",
       "    <tr style=\"text-align: right;\">\n",
       "      <th></th>\n",
       "      <th>U</th>\n",
       "      <th>V</th>\n",
       "      <th>W</th>\n",
       "      <th>X</th>\n",
       "      <th>Y</th>\n",
       "      <th>Z</th>\n",
       "      <th>logz</th>\n",
       "      <th>sqrtX</th>\n",
       "    </tr>\n",
       "  </thead>\n",
       "  <tbody>\n",
       "    <tr>\n",
       "      <th>U</th>\n",
       "      <td>1.000000</td>\n",
       "      <td>-0.017595</td>\n",
       "      <td>-0.888213</td>\n",
       "      <td>0.000520</td>\n",
       "      <td>0.627311</td>\n",
       "      <td>0.342996</td>\n",
       "      <td>0.992011</td>\n",
       "      <td>-0.011777</td>\n",
       "    </tr>\n",
       "    <tr>\n",
       "      <th>V</th>\n",
       "      <td>-0.017595</td>\n",
       "      <td>1.000000</td>\n",
       "      <td>0.006217</td>\n",
       "      <td>0.008271</td>\n",
       "      <td>-0.001050</td>\n",
       "      <td>-0.025472</td>\n",
       "      <td>-0.013650</td>\n",
       "      <td>-0.009457</td>\n",
       "    </tr>\n",
       "    <tr>\n",
       "      <th>W</th>\n",
       "      <td>-0.888213</td>\n",
       "      <td>0.006217</td>\n",
       "      <td>1.000000</td>\n",
       "      <td>-0.000237</td>\n",
       "      <td>-0.570783</td>\n",
       "      <td>-0.306872</td>\n",
       "      <td>-0.880485</td>\n",
       "      <td>0.002723</td>\n",
       "    </tr>\n",
       "    <tr>\n",
       "      <th>X</th>\n",
       "      <td>0.000520</td>\n",
       "      <td>0.008271</td>\n",
       "      <td>-0.000237</td>\n",
       "      <td>1.000000</td>\n",
       "      <td>-0.009350</td>\n",
       "      <td>0.508597</td>\n",
       "      <td>0.111052</td>\n",
       "      <td>0.942680</td>\n",
       "    </tr>\n",
       "    <tr>\n",
       "      <th>Y</th>\n",
       "      <td>0.627311</td>\n",
       "      <td>-0.001050</td>\n",
       "      <td>-0.570783</td>\n",
       "      <td>-0.009350</td>\n",
       "      <td>1.000000</td>\n",
       "      <td>0.181291</td>\n",
       "      <td>0.622453</td>\n",
       "      <td>-0.016896</td>\n",
       "    </tr>\n",
       "    <tr>\n",
       "      <th>Z</th>\n",
       "      <td>0.342996</td>\n",
       "      <td>-0.025472</td>\n",
       "      <td>-0.306872</td>\n",
       "      <td>0.508597</td>\n",
       "      <td>0.181291</td>\n",
       "      <td>1.000000</td>\n",
       "      <td>0.370883</td>\n",
       "      <td>0.356757</td>\n",
       "    </tr>\n",
       "    <tr>\n",
       "      <th>logz</th>\n",
       "      <td>0.992011</td>\n",
       "      <td>-0.013650</td>\n",
       "      <td>-0.880485</td>\n",
       "      <td>0.111052</td>\n",
       "      <td>0.622453</td>\n",
       "      <td>0.370883</td>\n",
       "      <td>1.000000</td>\n",
       "      <td>0.089339</td>\n",
       "    </tr>\n",
       "    <tr>\n",
       "      <th>sqrtX</th>\n",
       "      <td>-0.011777</td>\n",
       "      <td>-0.009457</td>\n",
       "      <td>0.002723</td>\n",
       "      <td>0.942680</td>\n",
       "      <td>-0.016896</td>\n",
       "      <td>0.356757</td>\n",
       "      <td>0.089339</td>\n",
       "      <td>1.000000</td>\n",
       "    </tr>\n",
       "  </tbody>\n",
       "</table>\n",
       "</div>"
      ],
      "text/plain": [
       "              U         V         W         X         Y         Z      logz  \\\n",
       "U      1.000000 -0.017595 -0.888213  0.000520  0.627311  0.342996  0.992011   \n",
       "V     -0.017595  1.000000  0.006217  0.008271 -0.001050 -0.025472 -0.013650   \n",
       "W     -0.888213  0.006217  1.000000 -0.000237 -0.570783 -0.306872 -0.880485   \n",
       "X      0.000520  0.008271 -0.000237  1.000000 -0.009350  0.508597  0.111052   \n",
       "Y      0.627311 -0.001050 -0.570783 -0.009350  1.000000  0.181291  0.622453   \n",
       "Z      0.342996 -0.025472 -0.306872  0.508597  0.181291  1.000000  0.370883   \n",
       "logz   0.992011 -0.013650 -0.880485  0.111052  0.622453  0.370883  1.000000   \n",
       "sqrtX -0.011777 -0.009457  0.002723  0.942680 -0.016896  0.356757  0.089339   \n",
       "\n",
       "          sqrtX  \n",
       "U     -0.011777  \n",
       "V     -0.009457  \n",
       "W      0.002723  \n",
       "X      0.942680  \n",
       "Y     -0.016896  \n",
       "Z      0.356757  \n",
       "logz   0.089339  \n",
       "sqrtX  1.000000  "
      ]
     },
     "execution_count": 15,
     "metadata": {},
     "output_type": "execute_result"
    }
   ],
   "source": [
    "cordf[\"logz\"] = np.log(cordf[\"Z\"])\n",
    "cordf[\"sqrtX\"] = np.sqrt(cordf[\"X\"])\n",
    "cordf.corr() # very high correlation between U and logz, not so much for sqrtX"
   ]
  },
  {
   "cell_type": "code",
   "execution_count": 16,
   "metadata": {
    "scrolled": false
   },
   "outputs": [
    {
     "data": {
      "text/plain": [
       "<matplotlib.axes._subplots.AxesSubplot at 0x7fe229c38490>"
      ]
     },
     "execution_count": 16,
     "metadata": {},
     "output_type": "execute_result"
    },
    {
     "data": {
      "image/png": "[encoded data removed]",
      "text/plain": [
       "<Figure size 720x576 with 1 Axes>"
      ]
     },
     "metadata": {
      "needs_background": "light"
     },
     "output_type": "display_data"
    },
    {
     "data": {
      "image/png": "[encoded data removed]",
      "text/plain": [
       "<Figure size 720x576 with 1 Axes>"
      ]
     },
     "metadata": {
      "needs_background": "light"
     },
     "output_type": "display_data"
    }
   ],
   "source": [
    "cordf.plot(x = \"U\", y = \"logz\", kind = 'scatter')\n",
    "cordf.plot(x = \"U\", y = \"sqrtX\", kind = 'scatter')"
   ]
  },
  {
   "cell_type": "markdown",
   "metadata": {},
   "source": [
    "# 4."
   ]
  },
  {
   "cell_type": "code",
   "execution_count": 18,
   "metadata": {},
   "outputs": [
    {
     "data": {
      "text/html": [
       "<div>\n",
       "<style scoped>\n",
       "    .dataframe tbody tr th:only-of-type {\n",
       "        vertical-align: middle;\n",
       "    }\n",
       "\n",
       "    .dataframe tbody tr th {\n",
       "        vertical-align: top;\n",
       "    }\n",
       "\n",
       "    .dataframe thead th {\n",
       "        text-align: right;\n",
       "    }\n",
       "</style>\n",
       "<table border=\"1\" class=\"dataframe\">\n",
       "  <thead>\n",
       "    <tr style=\"text-align: right;\">\n",
       "      <th></th>\n",
       "      <th>Data</th>\n",
       "    </tr>\n",
       "  </thead>\n",
       "  <tbody>\n",
       "    <tr>\n",
       "      <th>1</th>\n",
       "      <td>1.3</td>\n",
       "    </tr>\n",
       "    <tr>\n",
       "      <th>2</th>\n",
       "      <td>2.2</td>\n",
       "    </tr>\n",
       "    <tr>\n",
       "      <th>3</th>\n",
       "      <td>1.0</td>\n",
       "    </tr>\n",
       "    <tr>\n",
       "      <th>4</th>\n",
       "      <td>3.1</td>\n",
       "    </tr>\n",
       "    <tr>\n",
       "      <th>5</th>\n",
       "      <td>2.8</td>\n",
       "    </tr>\n",
       "  </tbody>\n",
       "</table>\n",
       "</div>"
      ],
      "text/plain": [
       "   Data\n",
       "1   1.3\n",
       "2   2.2\n",
       "3   1.0\n",
       "4   3.1\n",
       "5   2.8"
      ]
     },
     "execution_count": 18,
     "metadata": {},
     "output_type": "execute_result"
    }
   ],
   "source": [
    "from sklearn import model_selection, metrics\n",
    "\n",
    "x = np.arange(1,21,1)\n",
    "y = [1.3, 2.2, 1.0, 3.1, 2.8, 1.5, 2.1, 2.6, 3.7, 3.5, 3.7, 2.9, 3.7, 4.0, 4.3, 4.7, 4.4, 3.9, 4.8, 4.4]\n",
    "df = pd.DataFrame({'Data':y},index=x)\n",
    "df.head()"
   ]
  },
  {
   "cell_type": "markdown",
   "metadata": {},
   "source": [
    "In this set of solutions, we will set up the full cross-validation, but will only actually perform the first step of it.  The remaining steps follow in the same way."
   ]
  },
  {
   "cell_type": "code",
   "execution_count": 19,
   "metadata": {},
   "outputs": [],
   "source": [
    "kf = model_selection.KFold(n_splits=4,shuffle=True)\n",
    "\n",
    "set1,set2,set3,set4 = kf.split(df)"
   ]
  },
  {
   "cell_type": "code",
   "execution_count": 20,
   "metadata": {},
   "outputs": [
    {
     "data": {
      "text/plain": [
       "(array([ 0,  1,  2,  4,  5,  7,  8,  9, 10, 11, 12, 14, 15, 17, 19]),\n",
       " array([ 3,  6, 13, 16, 18]))"
      ]
     },
     "execution_count": 20,
     "metadata": {},
     "output_type": "execute_result"
    }
   ],
   "source": [
    "set1"
   ]
  },
  {
   "cell_type": "code",
   "execution_count": 21,
   "metadata": {},
   "outputs": [],
   "source": [
    "df_train1 = df.iloc[set1[0],:]\n",
    "df_test1 = df.iloc[set1[1],:]\n",
    "\n",
    "df_train2 = df.iloc[set2[0],:]\n",
    "df_test2 = df.iloc[set2[1],:]\n",
    "\n",
    "df_train3 = df.iloc[set3[0],:]\n",
    "df_test3 = df.iloc[set3[1],:]\n",
    "\n",
    "df_train4 = df.iloc[set4[0],:]\n",
    "df_test4 = df.iloc[set4[1],:]"
   ]
  },
  {
   "cell_type": "code",
   "execution_count": 22,
   "metadata": {},
   "outputs": [],
   "source": [
    "slope, intercept, r_value, p_value, slope_std_error = stats.linregress(df_train1.index,df_train1['Data'])\n",
    "\n",
    "train_regr_1 = intercept + slope * df_train1.index"
   ]
  },
  {
   "cell_type": "code",
   "execution_count": 23,
   "metadata": {},
   "outputs": [
    {
     "data": {
      "image/png": "[encoded data removed]",
      "text/plain": [
       "<Figure size 432x288 with 1 Axes>"
      ]
     },
     "metadata": {
      "needs_background": "light"
     },
     "output_type": "display_data"
    }
   ],
   "source": [
    "scatter(df_train1.index,df_train1['Data'],label='Training Data')\n",
    "scatter(df_test1.index,df_test1['Data'],color='#00CC00',label='Test Data')\n",
    "plt.plot(x,intercept + slope*x, color='red',label='Regression Model')\n",
    "plt.legend();"
   ]
  },
  {
   "cell_type": "markdown",
   "metadata": {},
   "source": [
    "We compute the $R^2$ and MAE for the model on the *training set*:"
   ]
  },
  {
   "cell_type": "code",
   "execution_count": 24,
   "metadata": {},
   "outputs": [
    {
     "data": {
      "text/plain": [
       "0.7654534244699487"
      ]
     },
     "execution_count": 24,
     "metadata": {},
     "output_type": "execute_result"
    }
   ],
   "source": [
    "metrics.r2_score(df_train1['Data'], train_regr_1)"
   ]
  },
  {
   "cell_type": "code",
   "execution_count": 25,
   "metadata": {},
   "outputs": [
    {
     "data": {
      "text/plain": [
       "0.4924072011878249"
      ]
     },
     "execution_count": 25,
     "metadata": {},
     "output_type": "execute_result"
    }
   ],
   "source": [
    "metrics.mean_absolute_error(df_train1['Data'], train_regr_1)"
   ]
  },
  {
   "cell_type": "markdown",
   "metadata": {},
   "source": [
    "Then we compare to the measures for the model on the *test set*:"
   ]
  },
  {
   "cell_type": "code",
   "execution_count": 26,
   "metadata": {},
   "outputs": [
    {
     "data": {
      "text/plain": [
       "0.7022026115399549"
      ]
     },
     "execution_count": 26,
     "metadata": {},
     "output_type": "execute_result"
    }
   ],
   "source": [
    "metrics.r2_score(df_test1['Data'], intercept + slope*df_test1.index)"
   ]
  },
  {
   "cell_type": "code",
   "execution_count": 27,
   "metadata": {
    "scrolled": true
   },
   "outputs": [
    {
     "data": {
      "text/plain": [
       "0.3931124721603565"
      ]
     },
     "execution_count": 27,
     "metadata": {},
     "output_type": "execute_result"
    }
   ],
   "source": [
    "metrics.mean_absolute_error(df_test1['Data'], intercept + slope*df_test1.index)"
   ]
  },
  {
   "cell_type": "markdown",
   "metadata": {},
   "source": [
    "So both the $R^2$ and the MAE both saw significant declines from the train to test, so that's not a great initial sign for our cross-validation.  We will need to perform the remaining test/train sets, and compare all of the metrics at the end."
   ]
  },
  {
   "cell_type": "markdown",
   "metadata": {},
   "source": [
    "# 5. A.\n",
    "\n",
    "We are interested in whether the coin is biased, so the *null hypothesis* will be that the coin is *not* biased. To obtain a p-value, we compute the probability of an event at least as extreme as the one that we observed. There is no event *more* extreme than the coin coming up all heads, so we can simply compute the probability of that. For $n$ flips this probability is equal to $\\frac{1}{2^n}$. We can plug in some values for $n$ to obtain p-values. Use python!"
   ]
  },
  {
   "cell_type": "code",
   "execution_count": 6,
   "metadata": {},
   "outputs": [
    {
     "name": "stdout",
     "output_type": "stream",
     "text": [
      "For 0 flips, the p-value is 1.000000\n",
      "For 1 flips, the p-value is 0.500000\n",
      "For 2 flips, the p-value is 0.250000\n",
      "For 3 flips, the p-value is 0.125000\n",
      "For 4 flips, the p-value is 0.062500\n",
      "For 5 flips, the p-value is 0.031250\n",
      "For 6 flips, the p-value is 0.015625\n",
      "For 7 flips, the p-value is 0.007812\n",
      "For 8 flips, the p-value is 0.003906\n",
      "For 9 flips, the p-value is 0.001953\n"
     ]
    }
   ],
   "source": [
    "for n in range(10):\n",
    "    print(\"For %i flips, the p-value is %f\" % (n, 1/2**n))"
   ]
  },
  {
   "cell_type": "markdown",
   "metadata": {},
   "source": [
    "We can see that at 5 flips, the p-value is smaller than .05 which is a common threshold that researchers use. Would you personally accept this as \"significant\" evidence of bias? Why or why not?"
   ]
  },
  {
   "cell_type": "markdown",
   "metadata": {},
   "source": [
    "# 5.B.\n",
    "\n",
    "\n",
    "\n",
    "As in problem 1, our null hypothesis is that the coin is unbiased. A precise technical way to say this is that the number of tails is given by a binomial distribution with $p=0.5$ -- or equivalently, that each flip follows a Bernoulli distribution with $p=0.5$.\n",
    "\n",
    "The alternative hypothesis is that we get a result at least as extreme as the one that we saw. In this case, that would mean that we flip the coin $n$ times and see a proportion of tails $0.48$ or less. That means we have to check the probability of getting $0.48$, the probability of getting $0.47$, the probability of getting $0.46$, and so on all the way down to $0$ (and all the numbers in between that we missed). This is computationally infeasible for even moderately large $n$.\n",
    "\n",
    "Instead we use the central limit theorem, which tells us that under the null hypothesis the proportion of tails is approximately normal with mean $\\frac{1}{2}$ and standard deviation $\\frac{1}{2\\sqrt{n}}$.\n",
    "\n",
    "One way to proceed is to create a function that takes $n$ and returns the (one-sided) p-value associated with a proportion of .48. We can investigate this function to learn about the relationship between $n$ and $p$, and try to estimate how big $n$ needs to be for $p$ to be smaller than, say, $0.05$.\n"
   ]
  },
  {
   "cell_type": "code",
   "execution_count": 7,
   "metadata": {},
   "outputs": [],
   "source": [
    "from scipy.stats import norm\n",
    "def p(n):\n",
    "    return norm.cdf(0.48, loc = 0.5, scale = 1/(2*sqrt(n)))"
   ]
  },
  {
   "cell_type": "code",
   "execution_count": 8,
   "metadata": {},
   "outputs": [
    {
     "name": "stdout",
     "output_type": "stream",
     "text": [
      "For n = 100, p = 0.344578\n",
      "For n = 200, p = 0.285804\n",
      "For n = 300, p = 0.244211\n",
      "For n = 400, p = 0.211855\n",
      "For n = 500, p = 0.185547\n",
      "For n = 600, p = 0.163593\n",
      "For n = 700, p = 0.144959\n",
      "For n = 800, p = 0.128950\n",
      "For n = 900, p = 0.115070\n",
      "For n = 1000, p = 0.102952\n",
      "For n = 1100, p = 0.092312\n",
      "For n = 1200, p = 0.082928\n",
      "For n = 1300, p = 0.074620\n",
      "For n = 1400, p = 0.067240\n",
      "For n = 1500, p = 0.060668\n",
      "For n = 1600, p = 0.054799\n",
      "For n = 1700, p = 0.049549\n",
      "For n = 1800, p = 0.044843\n",
      "For n = 1900, p = 0.040618\n"
     ]
    }
   ],
   "source": [
    "for i in range(100, 2000, 100):\n",
    "    print(\"For n = %i, p = %f\" % (i, p(i)))"
   ]
  },
  {
   "cell_type": "code",
   "execution_count": 9,
   "metadata": {},
   "outputs": [
    {
     "data": {
      "image/png": "[encoded data removed]",
      "text/plain": [
       "<Figure size 432x288 with 1 Axes>"
      ]
     },
     "metadata": {
      "needs_background": "light"
     },
     "output_type": "display_data"
    }
   ],
   "source": [
    "n_values = np.linspace(1, 2000, 100)\n",
    "p_values = [p(n) for n in n_values]\n",
    "plt.figure()\n",
    "plt.scatter(x = n_values, y = p_values);"
   ]
  },
  {
   "cell_type": "markdown",
   "metadata": {},
   "source": [
    "\n",
    "\n",
    "From the figure, it looks like we get p = 0.05 at just above n = 1600. We can actually solve for an exact value of n that gives p=0.05 (or any alpha we want) by using the inverse cdf function, norm.ppf. We are looking for $n$ that solves $$F(0.48) = 0.05$$, where $F$ is the cdf above. The central limit theorem tells us that $$F(t) = \\Phi\\left(\\frac{t - \\frac{1}{2}}{1/(2\\sqrt{n})}\\right) = \\Phi\\left(2\\sqrt{n}(t-\\frac{1}{2})\\right)$$ where $\\Phi$ is the cdf of the standard normal distribution.\n",
    "\n",
    "Combining these, we are looking for $n$ that solves\n",
    "$$\\Phi(-0.04\\sqrt{n}) = 0.05$$\n",
    "\n",
    "Applying the inverse cdf $\\Phi^{-1}$ and rearranging slightly, we obtain $$n = \\left(\\frac{\\Phi^{-1} (0.05)}{-0.04}\\right)^2$$\n",
    "\n",
    "Using python:"
   ]
  },
  {
   "cell_type": "code",
   "execution_count": 10,
   "metadata": {},
   "outputs": [
    {
     "data": {
      "text/plain": [
       "1690.964658809634"
      ]
     },
     "execution_count": 10,
     "metadata": {},
     "output_type": "execute_result"
    }
   ],
   "source": [
    "(norm.ppf(0.05)/(-0.04))**2"
   ]
  },
  {
   "cell_type": "code",
   "execution_count": 11,
   "metadata": {},
   "outputs": [
    {
     "data": {
      "text/plain": [
       "0.04999822726318246"
      ]
     },
     "execution_count": 11,
     "metadata": {},
     "output_type": "execute_result"
    }
   ],
   "source": [
    "# Note that this agrees with our function p\n",
    "p(1691)"
   ]
  },
  {
   "cell_type": "markdown",
   "metadata": {},
   "source": [
    "# 5.C.\n",
    "\n",
    "In the first case, we had \"statistical significance\" with a sample size of only 5. In the second, it took almost 1700 samples to call the evidence significant. What was the difference between the two? The important difference is the effect size. In the first case, the effect that we are looking for is very extreme: all the flips coming up the same. This is the most extreme possible outcome. In the second case, the effect size is quite small: only a 2% difference from the unbiased coin. When the effect size that we are looking for is small, it takes a large sample size to detect it with confidence.\n",
    "\n",
    "People often ask how big of a sample is required for statistical significance. This exercise shows that this question is not fully defined without discussing the expected effect size. If we are expecting a large effect, we can make do with quite a small sample, and vice versa."
   ]
  },
  {
   "cell_type": "markdown",
   "metadata": {},
   "source": [
    "<div id=\"container\" style=\"position:relative;\">\n",
    "<div style=\"position:relative; float:right\"><img style=\"height:25px\"\"width: 50px\" src =\"https://drive.google.com/uc?export=view&id=14VoXUJftgptWtdNhtNYVm6cjVmEWpki1\" />\n",
    "</div>\n",
    "</div>"
   ]
  }
 ],
 "metadata": {
  "kernelspec": {
   "display_name": "Python 3",
   "language": "python",
   "name": "python3"
  },
  "language_info": {
   "codemirror_mode": {
    "name": "ipython",
    "version": 3
   },
   "file_extension": ".py",
   "mimetype": "text/x-python",
   "name": "python",
   "nbconvert_exporter": "python",
   "pygments_lexer": "ipython3",
   "version": "3.7.6"
  }
 },
 "nbformat": 4,
 "nbformat_minor": 2
}
